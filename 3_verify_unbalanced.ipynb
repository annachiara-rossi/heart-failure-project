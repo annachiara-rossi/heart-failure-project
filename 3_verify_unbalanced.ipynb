{
 "cells": [
  {
   "cell_type": "code",
   "execution_count": 1,
   "id": "f1d81650",
   "metadata": {},
   "outputs": [],
   "source": [
    "import numpy as np\n",
    "import pandas as pd\n",
    "import seaborn as sns\n",
    "import matplotlib.pyplot as plt\n",
    "\n",
    "np.random.seed(130298)"
   ]
  },
  {
   "cell_type": "code",
   "execution_count": 3,
   "id": "2255ef4f",
   "metadata": {},
   "outputs": [],
   "source": [
    "data = pd.read_csv('/Users/Nicole/OneDrive - Politecnico di Milano/Corsi/SL_health_care/project_heart_failure/example.csv')\n",
    "data.set_index('inpatient.number', inplace = True)"
   ]
  },
  {
   "cell_type": "markdown",
   "id": "f427d87c",
   "metadata": {},
   "source": [
    "## Verify if the variable with unbalance category are unbalance also in the outcome"
   ]
  },
  {
   "cell_type": "markdown",
   "id": "a40fab4b",
   "metadata": {},
   "source": [
    "Take the name of all the categorical and binary variables."
   ]
  },
  {
   "cell_type": "code",
   "execution_count": 6,
   "id": "ad969756",
   "metadata": {},
   "outputs": [],
   "source": [
    "categorical_columns = ['visit.times','DestinationDischarge','admission.ward','admission.way','occupation','discharge.department',\n",
    "                       'gender', 'type.of.heart.failure', 'NYHA.cardiac.function.classification', 'Killip.grade',\n",
    "                       'consciousness','eye.opening','verbal.response', 'oxygen.inhalation', 'outcome.during.hospitalization',\n",
    "                       'GCS','ageCat']\n",
    "\n",
    "prova = categorical_columns.copy()\n",
    "binary_columns = ['myocardial.infarction', 'congestive.heart.failure', 'peripheral.vascular.disease',\n",
    "                  'cerebrovascular.disease', 'dementia', 'Chronic.obstructive.pulmonary.disease',\n",
    "                  'peptic.ulcer.disease', 'diabetes', 'moderate.to.severe.chronic.kidney.disease',\n",
    "                  'solid.tumor', 'liver.disease', 'type.II.respiratory.failure', 'death.within.28.days', 're.admission.within.28.days', 'death.within.3.months',\n",
    "                  're.admission.within.3.months', 'death.within.6.months', 're.admission.within.6.months',\n",
    "                  'return.to.emergency.department.within.6.months','respiratory.support.']\n",
    "# NB 'respiratory.support.' is in the binary variables because we will rebin it in 0/1\n",
    "\n",
    "prova.extend(binary_columns)"
   ]
  },
  {
   "cell_type": "markdown",
   "id": "d0c44e27",
   "metadata": {},
   "source": [
    "For each of the previous variables, verify if one category of the variables have more than 80% of the total values of the variables."
   ]
  },
  {
   "cell_type": "code",
   "execution_count": 7,
   "id": "3ea231a2",
   "metadata": {},
   "outputs": [
    {
     "name": "stdout",
     "output_type": "stream",
     "text": [
      "visit.times :  0.9262948207171314\n",
      "occupation :  0.8316733067729084\n",
      "discharge.department :  0.8481075697211156\n",
      "consciousness :  0.9830677290836654\n",
      "eye.opening :  0.9790836653386454\n",
      "verbal.response :  0.9780876494023905\n",
      "oxygen.inhalation :  0.9452191235059761\n",
      "outcome.during.hospitalization :  0.9412350597609562\n",
      "GCS :  0.9716135458167331\n",
      "myocardial.infarction :  0.9287848605577689\n",
      "congestive.heart.failure :  0.9322709163346613\n",
      "peripheral.vascular.disease :  0.9497011952191236\n",
      "cerebrovascular.disease :  0.9252988047808764\n",
      "dementia :  0.9427290836653387\n",
      "Chronic.obstructive.pulmonary.disease :  0.8839641434262948\n",
      "peptic.ulcer.disease :  0.976593625498008\n",
      "solid.tumor :  0.9805776892430279\n",
      "liver.disease :  0.9576693227091634\n",
      "type.II.respiratory.failure :  0.9432270916334662\n",
      "respiratory.support. :  0.9790836653386454\n"
     ]
    }
   ],
   "source": [
    "col_to_exclude=[]\n",
    "for col_name in prova:\n",
    "    max_value = (data[col_name].value_counts()/data.shape[0]).max()\n",
    "    if max_value>0.8 and col_name!= \"death.within.28.days\" and col_name!= \"re.admission.within.28.days\" and col_name!= \"death.within.3.months\"and col_name!= \"death.within.6.months\":\n",
    "        print(col_name,': ',max_value)\n",
    "        col_to_exclude.append(col_name)"
   ]
  },
  {
   "cell_type": "markdown",
   "id": "3ab1d7c4",
   "metadata": {},
   "source": [
    "Verify the distribution of 0s and 1s in the outcome variable: re.admission.within.6.months"
   ]
  },
  {
   "cell_type": "code",
   "execution_count": 13,
   "id": "6dd61fe5",
   "metadata": {},
   "outputs": [
    {
     "name": "stdout",
     "output_type": "stream",
     "text": [
      "0.3849601593625498\n"
     ]
    }
   ],
   "source": [
    "outcome_name=\"re.admission.within.6.months\"\n",
    "number_1=len(data[data[outcome_name]==1])\n",
    "number_0=len(data[data[outcome_name]==0])\n",
    "print(number_1/(len(data)))"
   ]
  },
  {
   "cell_type": "markdown",
   "id": "1c7dc5a6",
   "metadata": {},
   "source": [
    "The percentage of the re admission is 38.49%"
   ]
  },
  {
   "cell_type": "markdown",
   "id": "e8cb3191",
   "metadata": {},
   "source": [
    "Now, for each of the variables with more of 80% of unbalance, we verify if the distribution of the outcome is balance for the outcome. "
   ]
  },
  {
   "cell_type": "markdown",
   "id": "97acf332",
   "metadata": {},
   "source": [
    "## visit.times\n"
   ]
  },
  {
   "cell_type": "code",
   "execution_count": 153,
   "id": "6f80cb79",
   "metadata": {},
   "outputs": [
    {
     "data": {
      "text/plain": [
       "1    0.926295\n",
       "2    0.059761\n",
       "3    0.009960\n",
       "4    0.002988\n",
       "5    0.000996\n",
       "Name: visit.times, dtype: float64"
      ]
     },
     "execution_count": 153,
     "metadata": {},
     "output_type": "execute_result"
    }
   ],
   "source": [
    "column_name=\"visit.times\"\n",
    "percentage=data[column_name].value_counts()/data.shape[0]\n",
    "percentage"
   ]
  },
  {
   "cell_type": "code",
   "execution_count": 154,
   "id": "f66cf5a3",
   "metadata": {},
   "outputs": [
    {
     "name": "stdout",
     "output_type": "stream",
     "text": [
      "0.38064516129032255\n"
     ]
    }
   ],
   "source": [
    "prova=data[data[column_name]==percentage.index[0]]\n",
    "number_1=prova[prova[outcome_name]==1].shape[0]\n",
    "number_0=prova[prova[outcome_name]==0].shape[0]\n",
    "print(number_1/len(prova))"
   ]
  },
  {
   "cell_type": "markdown",
   "id": "4d2a6e8f",
   "metadata": {},
   "source": [
    "Taking the row where visit.time=1 (the category with 92% of values), there are 38% of 1 in the outcome."
   ]
  },
  {
   "cell_type": "markdown",
   "id": "5adbea49",
   "metadata": {},
   "source": [
    "## occupation"
   ]
  },
  {
   "cell_type": "code",
   "execution_count": 155,
   "id": "d6842c22",
   "metadata": {},
   "outputs": [
    {
     "data": {
      "text/plain": [
       "UrbanResident    0.831673\n",
       "farmer           0.098606\n",
       "Others           0.044323\n",
       "worker           0.008466\n",
       "Officer          0.003486\n",
       "Name: occupation, dtype: float64"
      ]
     },
     "execution_count": 155,
     "metadata": {},
     "output_type": "execute_result"
    }
   ],
   "source": [
    "column_name=\"occupation\"\n",
    "percentage=data[column_name].value_counts()/data.shape[0]\n",
    "percentage"
   ]
  },
  {
   "cell_type": "code",
   "execution_count": 156,
   "id": "150e6352",
   "metadata": {},
   "outputs": [
    {
     "name": "stdout",
     "output_type": "stream",
     "text": [
      "0.39820359281437123\n"
     ]
    }
   ],
   "source": [
    "prova=data[data[column_name]==percentage.index[0]]\n",
    "number_1=prova[prova[outcome_name]==1].shape[0]\n",
    "number_0=prova[prova[outcome_name]==0].shape[0]\n",
    "print(number_1/len(prova))"
   ]
  },
  {
   "cell_type": "markdown",
   "id": "7fb599bb",
   "metadata": {},
   "source": [
    "Taking the row where occupation=UrbanResident (the category with 83% of values), there are 39.8% of 1 in the outcome."
   ]
  },
  {
   "cell_type": "markdown",
   "id": "9545888b",
   "metadata": {},
   "source": [
    "## discharge.department"
   ]
  },
  {
   "cell_type": "code",
   "execution_count": 157,
   "id": "ee30af23",
   "metadata": {},
   "outputs": [
    {
     "data": {
      "text/plain": [
       "Cardiology     0.848108\n",
       "GeneralWard    0.120020\n",
       "Others         0.025896\n",
       "ICU            0.005976\n",
       "Name: discharge.department, dtype: float64"
      ]
     },
     "execution_count": 157,
     "metadata": {},
     "output_type": "execute_result"
    }
   ],
   "source": [
    "column_name=\"discharge.department\"\n",
    "percentage=data[column_name].value_counts()/data.shape[0]\n",
    "percentage"
   ]
  },
  {
   "cell_type": "code",
   "execution_count": 158,
   "id": "dc6311ea",
   "metadata": {},
   "outputs": [
    {
     "name": "stdout",
     "output_type": "stream",
     "text": [
      "0.39048737522019966\n"
     ]
    }
   ],
   "source": [
    "prova=data[data[column_name]==percentage.index[0]]\n",
    "number_1=prova[prova[outcome_name]==1].shape[0]\n",
    "number_0=prova[prova[outcome_name]==0].shape[0]\n",
    "print(number_1/len(prova))"
   ]
  },
  {
   "cell_type": "markdown",
   "id": "ad415aac",
   "metadata": {},
   "source": [
    "Taking the row where column_name=\"discharge.department\" (the category with 84% of values), there are 39% of 1 in the outcome."
   ]
  },
  {
   "cell_type": "markdown",
   "id": "50137359",
   "metadata": {},
   "source": [
    "## eye.opening"
   ]
  },
  {
   "cell_type": "code",
   "execution_count": 12,
   "id": "12412b1c",
   "metadata": {},
   "outputs": [
    {
     "data": {
      "text/plain": [
       "4    0.979084\n",
       "3    0.012450\n",
       "1    0.006972\n",
       "2    0.001494\n",
       "Name: eye.opening, dtype: float64"
      ]
     },
     "execution_count": 12,
     "metadata": {},
     "output_type": "execute_result"
    }
   ],
   "source": [
    "column_name=\"eye.opening\"\n",
    "percentage=data[column_name].value_counts()/data.shape[0]\n",
    "percentage"
   ]
  },
  {
   "cell_type": "code",
   "execution_count": 17,
   "id": "44a6a42a",
   "metadata": {},
   "outputs": [
    {
     "name": "stdout",
     "output_type": "stream",
     "text": [
      "0.387589013224822\n"
     ]
    }
   ],
   "source": [
    "prova=data[data[column_name]==percentage.index[0]]\n",
    "number_1=prova[prova[outcome_name]==1].shape[0]\n",
    "number_0=prova[prova[outcome_name]==0].shape[0]\n",
    "print(number_1/len(prova))"
   ]
  },
  {
   "cell_type": "markdown",
   "id": "daab65cc",
   "metadata": {},
   "source": [
    "Taking the row where column_name=\"eye.opening\" (the category with 97.9% of values), there are 38.7% of 1 in the outcome."
   ]
  },
  {
   "cell_type": "markdown",
   "id": "8610514d",
   "metadata": {},
   "source": [
    "## verbal.response"
   ]
  },
  {
   "cell_type": "code",
   "execution_count": 161,
   "id": "1e35971e",
   "metadata": {},
   "outputs": [
    {
     "data": {
      "text/plain": [
       "5    0.978088\n",
       "3    0.008964\n",
       "1    0.006972\n",
       "2    0.003984\n",
       "4    0.001992\n",
       "Name: verbal.response, dtype: float64"
      ]
     },
     "execution_count": 161,
     "metadata": {},
     "output_type": "execute_result"
    }
   ],
   "source": [
    "column_name=\"verbal.response\"\n",
    "percentage=data[column_name].value_counts()/data.shape[0]\n",
    "percentage"
   ]
  },
  {
   "cell_type": "code",
   "execution_count": 162,
   "id": "384955d0",
   "metadata": {},
   "outputs": [
    {
     "name": "stdout",
     "output_type": "stream",
     "text": [
      "0.3874745417515275\n"
     ]
    }
   ],
   "source": [
    "prova=data[data[column_name]==percentage.index[0]]\n",
    "number_1=prova[prova[outcome_name]==1].shape[0]\n",
    "number_0=prova[prova[outcome_name]==0].shape[0]\n",
    "print(number_1/len(prova))"
   ]
  },
  {
   "cell_type": "markdown",
   "id": "a38abf0e",
   "metadata": {},
   "source": [
    "Taking the row where column_name=\"verbal.response\" (the category with 97.8% of values), there are 38.7% of 1 in the outcome."
   ]
  },
  {
   "cell_type": "markdown",
   "id": "2049cbd1",
   "metadata": {},
   "source": [
    "## oxygen.inhalation\n"
   ]
  },
  {
   "cell_type": "code",
   "execution_count": 163,
   "id": "02cc0f60",
   "metadata": {},
   "outputs": [
    {
     "data": {
      "text/plain": [
       "OxygenTherapy    0.945219\n",
       "AmbientAir       0.054781\n",
       "Name: oxygen.inhalation, dtype: float64"
      ]
     },
     "execution_count": 163,
     "metadata": {},
     "output_type": "execute_result"
    }
   ],
   "source": [
    "column_name=\"oxygen.inhalation\"\n",
    "percentage=data[column_name].value_counts()/data.shape[0]\n",
    "percentage"
   ]
  },
  {
   "cell_type": "code",
   "execution_count": 164,
   "id": "811b6634",
   "metadata": {},
   "outputs": [
    {
     "name": "stdout",
     "output_type": "stream",
     "text": [
      "0.38250790305584825\n"
     ]
    }
   ],
   "source": [
    "prova=data[data[column_name]==percentage.index[0]]\n",
    "number_1=prova[prova[outcome_name]==1].shape[0]\n",
    "number_0=prova[prova[outcome_name]==0].shape[0]\n",
    "print(number_1/len(prova))"
   ]
  },
  {
   "cell_type": "markdown",
   "id": "6baedfe0",
   "metadata": {},
   "source": [
    "Taking the row where column_name=\"oxygen.inhalation\" (the category with 94.5% of values), there are 38.2% of 1 in the outcome."
   ]
  },
  {
   "cell_type": "markdown",
   "id": "7ee53939",
   "metadata": {},
   "source": [
    "## outcome.during.hospitalization"
   ]
  },
  {
   "cell_type": "code",
   "execution_count": 165,
   "id": "685ea143",
   "metadata": {},
   "outputs": [
    {
     "data": {
      "text/plain": [
       "Alive                    0.941235\n",
       "DischargeAgainstOrder    0.053287\n",
       "Dead                     0.005478\n",
       "Name: outcome.during.hospitalization, dtype: float64"
      ]
     },
     "execution_count": 165,
     "metadata": {},
     "output_type": "execute_result"
    }
   ],
   "source": [
    "column_name=\"outcome.during.hospitalization\"\n",
    "percentage=data[column_name].value_counts()/data.shape[0]\n",
    "percentage"
   ]
  },
  {
   "cell_type": "code",
   "execution_count": 166,
   "id": "3652fc9e",
   "metadata": {
    "scrolled": false
   },
   "outputs": [
    {
     "name": "stdout",
     "output_type": "stream",
     "text": [
      "0.3941798941798942\n"
     ]
    }
   ],
   "source": [
    "prova=data[data[column_name]==percentage.index[0]]\n",
    "number_1=prova[prova[outcome_name]==1].shape[0]\n",
    "number_0=prova[prova[outcome_name]==0].shape[0]\n",
    "print(number_1/len(prova))"
   ]
  },
  {
   "cell_type": "markdown",
   "id": "e7d180d4",
   "metadata": {},
   "source": [
    "Taking the row where column_name=\"outcome.during.hospitalization\" (the category with 94.1% of values), there are 39.4% of 1 in the outcome."
   ]
  },
  {
   "cell_type": "markdown",
   "id": "f2914ec0",
   "metadata": {},
   "source": [
    "## GCS"
   ]
  },
  {
   "cell_type": "code",
   "execution_count": 167,
   "id": "fe1fed46",
   "metadata": {},
   "outputs": [
    {
     "data": {
      "text/plain": [
       "15    0.971614\n",
       "11    0.009462\n",
       "3     0.006474\n",
       "10    0.003486\n",
       "14    0.003486\n",
       "7     0.001992\n",
       "12    0.001494\n",
       "13    0.000996\n",
       "6     0.000498\n",
       "4     0.000498\n",
       "Name: GCS, dtype: float64"
      ]
     },
     "execution_count": 167,
     "metadata": {},
     "output_type": "execute_result"
    }
   ],
   "source": [
    "column_name=\"GCS\"\n",
    "percentage=data[column_name].value_counts()/data.shape[0]\n",
    "percentage"
   ]
  },
  {
   "cell_type": "code",
   "execution_count": 168,
   "id": "33dc66db",
   "metadata": {},
   "outputs": [
    {
     "name": "stdout",
     "output_type": "stream",
     "text": [
      "0.3885187083546899\n"
     ]
    }
   ],
   "source": [
    "prova=data[data[column_name]==percentage.index[0]]\n",
    "number_1=prova[prova[outcome_name]==1].shape[0]\n",
    "number_0=prova[prova[outcome_name]==0].shape[0]\n",
    "print(number_1/len(prova))"
   ]
  },
  {
   "cell_type": "markdown",
   "id": "368ca25f",
   "metadata": {},
   "source": [
    "Taking the row where column_name=\"GCS\" (the category with 97.1% of values), there are 38.8% of 1 in the outcome."
   ]
  },
  {
   "cell_type": "markdown",
   "id": "84cfdc49",
   "metadata": {},
   "source": [
    "## myocardial.infarction"
   ]
  },
  {
   "cell_type": "code",
   "execution_count": 169,
   "id": "aa26b16c",
   "metadata": {},
   "outputs": [
    {
     "data": {
      "text/plain": [
       "0    0.928785\n",
       "1    0.071215\n",
       "Name: myocardial.infarction, dtype: float64"
      ]
     },
     "execution_count": 169,
     "metadata": {},
     "output_type": "execute_result"
    }
   ],
   "source": [
    "column_name=\"myocardial.infarction\"\n",
    "percentage=data[column_name].value_counts()/data.shape[0]\n",
    "percentage"
   ]
  },
  {
   "cell_type": "code",
   "execution_count": 170,
   "id": "b1af4052",
   "metadata": {
    "scrolled": true
   },
   "outputs": [
    {
     "name": "stdout",
     "output_type": "stream",
     "text": [
      "0.3871313672922252\n"
     ]
    }
   ],
   "source": [
    "prova=data[data[column_name]==percentage.index[0]]\n",
    "number_1=prova[prova[outcome_name]==1].shape[0]\n",
    "number_0=prova[prova[outcome_name]==0].shape[0]\n",
    "print(number_1/len(prova))"
   ]
  },
  {
   "cell_type": "markdown",
   "id": "066d0187",
   "metadata": {},
   "source": [
    "Taking the row where column_name=\"myocardial.infarction\" (the category with 92.8% of values), there are 38.7% of 1 in the outcome."
   ]
  },
  {
   "cell_type": "markdown",
   "id": "f24a76ad",
   "metadata": {},
   "source": [
    "## congestive.heart.failure"
   ]
  },
  {
   "cell_type": "code",
   "execution_count": 171,
   "id": "d2040e91",
   "metadata": {},
   "outputs": [
    {
     "data": {
      "text/plain": [
       "1    0.932271\n",
       "0    0.067729\n",
       "Name: congestive.heart.failure, dtype: float64"
      ]
     },
     "execution_count": 171,
     "metadata": {},
     "output_type": "execute_result"
    }
   ],
   "source": [
    "column_name=\"congestive.heart.failure\"\n",
    "percentage=data[column_name].value_counts()/data.shape[0]\n",
    "percentage"
   ]
  },
  {
   "cell_type": "code",
   "execution_count": 172,
   "id": "1dac6aa1",
   "metadata": {},
   "outputs": [
    {
     "name": "stdout",
     "output_type": "stream",
     "text": [
      "0.38247863247863245\n"
     ]
    }
   ],
   "source": [
    "prova=data[data[column_name]==percentage.index[0]]\n",
    "number_1=prova[prova[outcome_name]==1].shape[0]\n",
    "number_0=prova[prova[outcome_name]==0].shape[0]\n",
    "print(number_1/len(prova))"
   ]
  },
  {
   "cell_type": "markdown",
   "id": "6d7653af",
   "metadata": {},
   "source": [
    "Taking the row where column_name=\"congestive.heart.failure\" (the category with 93.2% of values), there are 38.2% of 1 in the outcome."
   ]
  },
  {
   "cell_type": "markdown",
   "id": "0634b271",
   "metadata": {},
   "source": [
    "## peripheral.vascular.disease"
   ]
  },
  {
   "cell_type": "code",
   "execution_count": 173,
   "id": "735d1ba9",
   "metadata": {},
   "outputs": [
    {
     "data": {
      "text/plain": [
       "0    0.949701\n",
       "1    0.050299\n",
       "Name: peripheral.vascular.disease, dtype: float64"
      ]
     },
     "execution_count": 173,
     "metadata": {},
     "output_type": "execute_result"
    }
   ],
   "source": [
    "column_name=\"peripheral.vascular.disease\"\n",
    "percentage=data[column_name].value_counts()/data.shape[0]\n",
    "percentage"
   ]
  },
  {
   "cell_type": "code",
   "execution_count": 174,
   "id": "64692fbb",
   "metadata": {},
   "outputs": [
    {
     "name": "stdout",
     "output_type": "stream",
     "text": [
      "0.38437336130047195\n"
     ]
    }
   ],
   "source": [
    "prova=data[data[column_name]==percentage.index[0]]\n",
    "number_1=prova[prova[outcome_name]==1].shape[0]\n",
    "number_0=prova[prova[outcome_name]==0].shape[0]\n",
    "print(number_1/len(prova))"
   ]
  },
  {
   "cell_type": "markdown",
   "id": "a7d2da97",
   "metadata": {},
   "source": [
    "Taking the row where column_name=\"peripheral.vascular.disease\" (the category with 94.9% of values), there are 38.% of 1 in the outcome."
   ]
  },
  {
   "cell_type": "markdown",
   "id": "62f6fbcc",
   "metadata": {},
   "source": [
    "## cerebrovascular.disease"
   ]
  },
  {
   "cell_type": "code",
   "execution_count": 175,
   "id": "1b05816d",
   "metadata": {},
   "outputs": [
    {
     "data": {
      "text/plain": [
       "0    0.925299\n",
       "1    0.074701\n",
       "Name: cerebrovascular.disease, dtype: float64"
      ]
     },
     "execution_count": 175,
     "metadata": {},
     "output_type": "execute_result"
    }
   ],
   "source": [
    "column_name=\"cerebrovascular.disease\"\n",
    "percentage=data[column_name].value_counts()/data.shape[0]\n",
    "percentage"
   ]
  },
  {
   "cell_type": "code",
   "execution_count": 19,
   "id": "67c6714a",
   "metadata": {},
   "outputs": [
    {
     "name": "stdout",
     "output_type": "stream",
     "text": [
      "0.387589013224822\n"
     ]
    }
   ],
   "source": [
    "prova=data[data[column_name]==percentage.index[0]]\n",
    "number_1=prova[prova[outcome_name]==1].shape[0]\n",
    "number_0=prova[prova[outcome_name]==0].shape[0]\n",
    "print(number_1/len(prova))"
   ]
  },
  {
   "cell_type": "markdown",
   "id": "64891c36",
   "metadata": {},
   "source": [
    "Taking the row where column_name=\"cerebrovascular.disease\" (the category with 92.5% of values), there are 38.4% of 1 in the outcome."
   ]
  },
  {
   "cell_type": "markdown",
   "id": "ffdf09b8",
   "metadata": {},
   "source": [
    "## dementia"
   ]
  },
  {
   "cell_type": "code",
   "execution_count": 20,
   "id": "d3fe4e45",
   "metadata": {},
   "outputs": [
    {
     "data": {
      "text/plain": [
       "0    0.942729\n",
       "1    0.057271\n",
       "Name: dementia, dtype: float64"
      ]
     },
     "execution_count": 20,
     "metadata": {},
     "output_type": "execute_result"
    }
   ],
   "source": [
    "column_name=\"dementia\"\n",
    "percentage=data[column_name].value_counts()/data.shape[0]\n",
    "percentage"
   ]
  },
  {
   "cell_type": "code",
   "execution_count": 21,
   "id": "dcceca82",
   "metadata": {},
   "outputs": [
    {
     "name": "stdout",
     "output_type": "stream",
     "text": [
      "0.37770734284204965\n"
     ]
    }
   ],
   "source": [
    "prova=data[data[column_name]==percentage.index[0]]\n",
    "number_1=prova[prova[outcome_name]==1].shape[0]\n",
    "number_0=prova[prova[outcome_name]==0].shape[0]\n",
    "print(number_1/len(prova))"
   ]
  },
  {
   "cell_type": "markdown",
   "id": "5dfee0c7",
   "metadata": {},
   "source": [
    "Taking the row where column_name=\"dementia\" (the category with 94.2% of values), there are 37.7% of 1 in the outcome."
   ]
  },
  {
   "cell_type": "markdown",
   "id": "f472b3a4",
   "metadata": {},
   "source": [
    "## Chronic.obstructive.pulmonary.disease"
   ]
  },
  {
   "cell_type": "code",
   "execution_count": 179,
   "id": "d45563ed",
   "metadata": {},
   "outputs": [
    {
     "data": {
      "text/plain": [
       "0    0.883964\n",
       "1    0.116036\n",
       "Name: Chronic.obstructive.pulmonary.disease, dtype: float64"
      ]
     },
     "execution_count": 179,
     "metadata": {},
     "output_type": "execute_result"
    }
   ],
   "source": [
    "column_name=\"Chronic.obstructive.pulmonary.disease\"\n",
    "percentage=data[column_name].value_counts()/data.shape[0]\n",
    "percentage"
   ]
  },
  {
   "cell_type": "code",
   "execution_count": 180,
   "id": "6e294be9",
   "metadata": {},
   "outputs": [
    {
     "name": "stdout",
     "output_type": "stream",
     "text": [
      "0.38535211267605635\n"
     ]
    }
   ],
   "source": [
    "prova=data[data[column_name]==percentage.index[0]]\n",
    "number_1=prova[prova[outcome_name]==1].shape[0]\n",
    "number_0=prova[prova[outcome_name]==0].shape[0]\n",
    "print(number_1/len(prova))"
   ]
  },
  {
   "cell_type": "markdown",
   "id": "d73c8cdf",
   "metadata": {},
   "source": [
    "Taking the row where column_name=\"Chronic.obstructive.pulmonary.disease\" (the category with 88.3% of values), there are 38.5% of 1 in the outcome."
   ]
  },
  {
   "cell_type": "markdown",
   "id": "1d77dd1b",
   "metadata": {},
   "source": [
    "## peptic.ulcer.disease"
   ]
  },
  {
   "cell_type": "code",
   "execution_count": 181,
   "id": "9666b3c6",
   "metadata": {},
   "outputs": [
    {
     "data": {
      "text/plain": [
       "0.0    0.976594\n",
       "1.0    0.022410\n",
       "Name: peptic.ulcer.disease, dtype: float64"
      ]
     },
     "execution_count": 181,
     "metadata": {},
     "output_type": "execute_result"
    }
   ],
   "source": [
    "column_name=\"peptic.ulcer.disease\"\n",
    "percentage=data[column_name].value_counts()/data.shape[0]\n",
    "percentage"
   ]
  },
  {
   "cell_type": "code",
   "execution_count": 182,
   "id": "a5ffc5be",
   "metadata": {},
   "outputs": [
    {
     "name": "stdout",
     "output_type": "stream",
     "text": [
      "0.38245792962774094\n"
     ]
    }
   ],
   "source": [
    "prova=data[data[column_name]==percentage.index[0]]\n",
    "number_1=prova[prova[outcome_name]==1].shape[0]\n",
    "number_0=prova[prova[outcome_name]==0].shape[0]\n",
    "print(number_1/len(prova))"
   ]
  },
  {
   "cell_type": "markdown",
   "id": "778040c1",
   "metadata": {},
   "source": [
    "Taking the row where column_name=\"peptic.ulcer.disease\" (the category with 97.6% of values), there are 38.2% of 1 in the outcome."
   ]
  },
  {
   "cell_type": "markdown",
   "id": "38c8d690",
   "metadata": {},
   "source": [
    "## solid.tumor"
   ]
  },
  {
   "cell_type": "code",
   "execution_count": 183,
   "id": "6112098e",
   "metadata": {},
   "outputs": [
    {
     "data": {
      "text/plain": [
       "0    0.980578\n",
       "1    0.019422\n",
       "Name: solid.tumor, dtype: float64"
      ]
     },
     "execution_count": 183,
     "metadata": {},
     "output_type": "execute_result"
    }
   ],
   "source": [
    "column_name=\"solid.tumor\"\n",
    "percentage=data[column_name].value_counts()/data.shape[0]\n",
    "percentage"
   ]
  },
  {
   "cell_type": "code",
   "execution_count": 184,
   "id": "548b2369",
   "metadata": {},
   "outputs": [
    {
     "name": "stdout",
     "output_type": "stream",
     "text": [
      "0.3854748603351955\n"
     ]
    }
   ],
   "source": [
    "prova=data[data[column_name]==percentage.index[0]]\n",
    "number_1=prova[prova[outcome_name]==1].shape[0]\n",
    "number_0=prova[prova[outcome_name]==0].shape[0]\n",
    "print(number_1/len(prova))"
   ]
  },
  {
   "cell_type": "markdown",
   "id": "23f5c282",
   "metadata": {},
   "source": [
    "Taking the row where column_name=\"solid.tumor\" (the category with 98% of values), there are 38.5% of 1 in the outcome."
   ]
  },
  {
   "cell_type": "markdown",
   "id": "1a849214",
   "metadata": {},
   "source": [
    "## liver.disease"
   ]
  },
  {
   "cell_type": "code",
   "execution_count": 22,
   "id": "fec6d963",
   "metadata": {},
   "outputs": [
    {
     "data": {
      "text/plain": [
       "0.0    0.957669\n",
       "1.0    0.041833\n",
       "Name: liver.disease, dtype: float64"
      ]
     },
     "execution_count": 22,
     "metadata": {},
     "output_type": "execute_result"
    }
   ],
   "source": [
    "column_name=\"liver.disease\"\n",
    "percentage=data[column_name].value_counts()/data.shape[0]\n",
    "percentage"
   ]
  },
  {
   "cell_type": "code",
   "execution_count": 23,
   "id": "98dab9e2",
   "metadata": {},
   "outputs": [
    {
     "name": "stdout",
     "output_type": "stream",
     "text": [
      "0.3858554342173687\n"
     ]
    }
   ],
   "source": [
    "prova=data[data[column_name]==percentage.index[0]]\n",
    "number_1=prova[prova[outcome_name]==1].shape[0]\n",
    "number_0=prova[prova[outcome_name]==0].shape[0]\n",
    "print(number_1/len(prova))"
   ]
  },
  {
   "cell_type": "markdown",
   "id": "d7faa653",
   "metadata": {},
   "source": [
    "Taking the row where column_name=\"liver.disease\" (the category with 95.7% of values), there are 38.5% of 1 in the outcome."
   ]
  },
  {
   "cell_type": "markdown",
   "id": "df18aae1",
   "metadata": {},
   "source": [
    "## type.II.respiratory.failure"
   ]
  },
  {
   "cell_type": "code",
   "execution_count": 25,
   "id": "bf92d378",
   "metadata": {},
   "outputs": [
    {
     "data": {
      "text/plain": [
       "NonTypeII    0.943227\n",
       "TypeII       0.056773\n",
       "Name: type.II.respiratory.failure, dtype: float64"
      ]
     },
     "execution_count": 25,
     "metadata": {},
     "output_type": "execute_result"
    }
   ],
   "source": [
    "column_name=\"type.II.respiratory.failure\"\n",
    "percentage=data[column_name].value_counts()/data.shape[0]\n",
    "percentage"
   ]
  },
  {
   "cell_type": "code",
   "execution_count": 26,
   "id": "1a3703f8",
   "metadata": {},
   "outputs": [
    {
     "name": "stdout",
     "output_type": "stream",
     "text": [
      "0.38753959873284055\n"
     ]
    }
   ],
   "source": [
    "prova=data[data[column_name]==percentage.index[0]]\n",
    "number_1=prova[prova[outcome_name]==1].shape[0]\n",
    "number_0=prova[prova[outcome_name]==0].shape[0]\n",
    "print(number_1/len(prova))"
   ]
  },
  {
   "cell_type": "markdown",
   "id": "92e79e8d",
   "metadata": {},
   "source": [
    "Taking the row where column_name=\"type.II.respiratory.failure\" (the category with 94.3% of values), there are 38.7% of 1 in the outcome."
   ]
  },
  {
   "cell_type": "markdown",
   "id": "5ac7f98b",
   "metadata": {},
   "source": [
    "## respiratory.support."
   ]
  },
  {
   "cell_type": "code",
   "execution_count": 28,
   "id": "8c772d5a",
   "metadata": {},
   "outputs": [
    {
     "data": {
      "text/plain": [
       "None    0.979084\n",
       "IMV     0.012450\n",
       "NIMV    0.008466\n",
       "Name: respiratory.support., dtype: float64"
      ]
     },
     "execution_count": 28,
     "metadata": {},
     "output_type": "execute_result"
    }
   ],
   "source": [
    "column_name=\"respiratory.support.\"\n",
    "percentage=data[column_name].value_counts()/data.shape[0]\n",
    "percentage"
   ]
  },
  {
   "cell_type": "code",
   "execution_count": 32,
   "id": "17f0e96a",
   "metadata": {},
   "outputs": [
    {
     "name": "stdout",
     "output_type": "stream",
     "text": [
      "0.38657171922685657\n"
     ]
    }
   ],
   "source": [
    "prova=data[data[column_name]==percentage.index[0]]\n",
    "number_1=prova[prova[outcome_name]==1].shape[0]\n",
    "number_0=prova[prova[outcome_name]==0].shape[0]\n",
    "print(number_1/len(prova))"
   ]
  },
  {
   "cell_type": "markdown",
   "id": "917c0857",
   "metadata": {},
   "source": [
    "Taking the row where column_name=\"respiratory.support.\" (the category with 97.9% of values), there are 38.6% of 1 in the outcome."
   ]
  }
 ],
 "metadata": {
  "kernelspec": {
   "display_name": "Python 3 (ipykernel)",
   "language": "python",
   "name": "python3"
  },
  "language_info": {
   "codemirror_mode": {
    "name": "ipython",
    "version": 3
   },
   "file_extension": ".py",
   "mimetype": "text/x-python",
   "name": "python",
   "nbconvert_exporter": "python",
   "pygments_lexer": "ipython3",
   "version": "3.9.2"
  }
 },
 "nbformat": 4,
 "nbformat_minor": 5
}
