{
 "cells": [
  {
   "cell_type": "code",
   "execution_count": 1,
   "id": "0078f665",
   "metadata": {},
   "outputs": [],
   "source": [
    "import numpy as np\n",
    "import pandas as pd\n",
    "import seaborn as sns\n",
    "import matplotlib.pyplot as plt\n",
    "\n",
    "np.random.seed(130298)"
   ]
  },
  {
   "cell_type": "code",
   "execution_count": 2,
   "id": "16111590",
   "metadata": {
    "scrolled": true
   },
   "outputs": [
    {
     "data": {
      "text/plain": [
       "'C:\\\\Users\\\\Eleonora\\\\statistical learning for healthcare data\\\\heart-failure-project'"
      ]
     },
     "execution_count": 2,
     "metadata": {},
     "output_type": "execute_result"
    }
   ],
   "source": [
    "%pwd"
   ]
  },
  {
   "cell_type": "markdown",
   "id": "0a66d8e4",
   "metadata": {},
   "source": [
    "# Dataset importing and NAs identification"
   ]
  },
  {
   "cell_type": "markdown",
   "id": "4d91af37",
   "metadata": {},
   "source": [
    "Looking at the variables one at a time, in the notebook \"1_Data preprocessing\", we highlighted some values which were likely miswritten. We identified the value 'Unknown' to be recognized as a missing value and same for all patients for which a value of 0 was reported, where it is not physically possible. Also some unlikely values in weight and height will be substituted by missing values, as they represent biased information. For more detailed explanations on these choices, see the notebook previously cited."
   ]
  },
  {
   "cell_type": "code",
   "execution_count": 3,
   "id": "ae074fb1",
   "metadata": {},
   "outputs": [
    {
     "data": {
      "text/html": [
       "<div>\n",
       "<style scoped>\n",
       "    .dataframe tbody tr th:only-of-type {\n",
       "        vertical-align: middle;\n",
       "    }\n",
       "\n",
       "    .dataframe tbody tr th {\n",
       "        vertical-align: top;\n",
       "    }\n",
       "\n",
       "    .dataframe thead th {\n",
       "        text-align: right;\n",
       "    }\n",
       "</style>\n",
       "<table border=\"1\" class=\"dataframe\">\n",
       "  <thead>\n",
       "    <tr style=\"text-align: right;\">\n",
       "      <th></th>\n",
       "      <th>DestinationDischarge</th>\n",
       "      <th>admission.ward</th>\n",
       "      <th>admission.way</th>\n",
       "      <th>occupation</th>\n",
       "      <th>discharge.department</th>\n",
       "      <th>visit.times</th>\n",
       "      <th>gender</th>\n",
       "      <th>body.temperature</th>\n",
       "      <th>pulse</th>\n",
       "      <th>respiration</th>\n",
       "      <th>...</th>\n",
       "      <th>body.temperature.blood.gas</th>\n",
       "      <th>oxygen.saturation</th>\n",
       "      <th>partial.oxygen.pressure</th>\n",
       "      <th>oxyhemoglobin</th>\n",
       "      <th>anion.gap</th>\n",
       "      <th>free.calcium</th>\n",
       "      <th>total.hemoglobin</th>\n",
       "      <th>GCS</th>\n",
       "      <th>dischargeDay</th>\n",
       "      <th>ageCat</th>\n",
       "    </tr>\n",
       "    <tr>\n",
       "      <th>inpatient.number</th>\n",
       "      <th></th>\n",
       "      <th></th>\n",
       "      <th></th>\n",
       "      <th></th>\n",
       "      <th></th>\n",
       "      <th></th>\n",
       "      <th></th>\n",
       "      <th></th>\n",
       "      <th></th>\n",
       "      <th></th>\n",
       "      <th></th>\n",
       "      <th></th>\n",
       "      <th></th>\n",
       "      <th></th>\n",
       "      <th></th>\n",
       "      <th></th>\n",
       "      <th></th>\n",
       "      <th></th>\n",
       "      <th></th>\n",
       "      <th></th>\n",
       "      <th></th>\n",
       "    </tr>\n",
       "  </thead>\n",
       "  <tbody>\n",
       "    <tr>\n",
       "      <th>857781</th>\n",
       "      <td>Home</td>\n",
       "      <td>Cardiology</td>\n",
       "      <td>NonEmergency</td>\n",
       "      <td>UrbanResident</td>\n",
       "      <td>Cardiology</td>\n",
       "      <td>1</td>\n",
       "      <td>Male</td>\n",
       "      <td>36.7</td>\n",
       "      <td>87.0</td>\n",
       "      <td>19.0</td>\n",
       "      <td>...</td>\n",
       "      <td>37.0</td>\n",
       "      <td>97.0</td>\n",
       "      <td>93.0</td>\n",
       "      <td>95.9</td>\n",
       "      <td>17.8</td>\n",
       "      <td>1.14</td>\n",
       "      <td>125.0</td>\n",
       "      <td>15</td>\n",
       "      <td>11</td>\n",
       "      <td>(69,79]</td>\n",
       "    </tr>\n",
       "    <tr>\n",
       "      <th>743087</th>\n",
       "      <td>Home</td>\n",
       "      <td>Cardiology</td>\n",
       "      <td>NonEmergency</td>\n",
       "      <td>UrbanResident</td>\n",
       "      <td>Cardiology</td>\n",
       "      <td>1</td>\n",
       "      <td>Female</td>\n",
       "      <td>36.8</td>\n",
       "      <td>95.0</td>\n",
       "      <td>18.0</td>\n",
       "      <td>...</td>\n",
       "      <td>NaN</td>\n",
       "      <td>NaN</td>\n",
       "      <td>NaN</td>\n",
       "      <td>NaN</td>\n",
       "      <td>NaN</td>\n",
       "      <td>NaN</td>\n",
       "      <td>NaN</td>\n",
       "      <td>15</td>\n",
       "      <td>8</td>\n",
       "      <td>(69,79]</td>\n",
       "    </tr>\n",
       "    <tr>\n",
       "      <th>866418</th>\n",
       "      <td>Home</td>\n",
       "      <td>Cardiology</td>\n",
       "      <td>NonEmergency</td>\n",
       "      <td>farmer</td>\n",
       "      <td>Cardiology</td>\n",
       "      <td>2</td>\n",
       "      <td>Male</td>\n",
       "      <td>36.5</td>\n",
       "      <td>98.0</td>\n",
       "      <td>18.0</td>\n",
       "      <td>...</td>\n",
       "      <td>NaN</td>\n",
       "      <td>NaN</td>\n",
       "      <td>NaN</td>\n",
       "      <td>NaN</td>\n",
       "      <td>NaN</td>\n",
       "      <td>NaN</td>\n",
       "      <td>NaN</td>\n",
       "      <td>15</td>\n",
       "      <td>5</td>\n",
       "      <td>(59,69]</td>\n",
       "    </tr>\n",
       "    <tr>\n",
       "      <th>775928</th>\n",
       "      <td>Home</td>\n",
       "      <td>Cardiology</td>\n",
       "      <td>Emergency</td>\n",
       "      <td>UrbanResident</td>\n",
       "      <td>Cardiology</td>\n",
       "      <td>1</td>\n",
       "      <td>Male</td>\n",
       "      <td>36.0</td>\n",
       "      <td>73.0</td>\n",
       "      <td>19.0</td>\n",
       "      <td>...</td>\n",
       "      <td>NaN</td>\n",
       "      <td>NaN</td>\n",
       "      <td>NaN</td>\n",
       "      <td>NaN</td>\n",
       "      <td>NaN</td>\n",
       "      <td>NaN</td>\n",
       "      <td>NaN</td>\n",
       "      <td>15</td>\n",
       "      <td>11</td>\n",
       "      <td>(69,79]</td>\n",
       "    </tr>\n",
       "    <tr>\n",
       "      <th>810128</th>\n",
       "      <td>Home</td>\n",
       "      <td>Cardiology</td>\n",
       "      <td>NonEmergency</td>\n",
       "      <td>UrbanResident</td>\n",
       "      <td>Cardiology</td>\n",
       "      <td>1</td>\n",
       "      <td>Female</td>\n",
       "      <td>35.0</td>\n",
       "      <td>88.0</td>\n",
       "      <td>19.0</td>\n",
       "      <td>...</td>\n",
       "      <td>NaN</td>\n",
       "      <td>NaN</td>\n",
       "      <td>NaN</td>\n",
       "      <td>NaN</td>\n",
       "      <td>NaN</td>\n",
       "      <td>NaN</td>\n",
       "      <td>NaN</td>\n",
       "      <td>15</td>\n",
       "      <td>5</td>\n",
       "      <td>(69,79]</td>\n",
       "    </tr>\n",
       "  </tbody>\n",
       "</table>\n",
       "<p>5 rows × 165 columns</p>\n",
       "</div>"
      ],
      "text/plain": [
       "                 DestinationDischarge admission.ward admission.way  \\\n",
       "inpatient.number                                                     \n",
       "857781                           Home     Cardiology  NonEmergency   \n",
       "743087                           Home     Cardiology  NonEmergency   \n",
       "866418                           Home     Cardiology  NonEmergency   \n",
       "775928                           Home     Cardiology     Emergency   \n",
       "810128                           Home     Cardiology  NonEmergency   \n",
       "\n",
       "                     occupation discharge.department  visit.times  gender  \\\n",
       "inpatient.number                                                            \n",
       "857781            UrbanResident           Cardiology            1    Male   \n",
       "743087            UrbanResident           Cardiology            1  Female   \n",
       "866418                   farmer           Cardiology            2    Male   \n",
       "775928            UrbanResident           Cardiology            1    Male   \n",
       "810128            UrbanResident           Cardiology            1  Female   \n",
       "\n",
       "                  body.temperature  pulse  respiration  ...  \\\n",
       "inpatient.number                                        ...   \n",
       "857781                        36.7   87.0         19.0  ...   \n",
       "743087                        36.8   95.0         18.0  ...   \n",
       "866418                        36.5   98.0         18.0  ...   \n",
       "775928                        36.0   73.0         19.0  ...   \n",
       "810128                        35.0   88.0         19.0  ...   \n",
       "\n",
       "                  body.temperature.blood.gas  oxygen.saturation  \\\n",
       "inpatient.number                                                  \n",
       "857781                                  37.0               97.0   \n",
       "743087                                   NaN                NaN   \n",
       "866418                                   NaN                NaN   \n",
       "775928                                   NaN                NaN   \n",
       "810128                                   NaN                NaN   \n",
       "\n",
       "                  partial.oxygen.pressure  oxyhemoglobin  anion.gap  \\\n",
       "inpatient.number                                                      \n",
       "857781                               93.0           95.9       17.8   \n",
       "743087                                NaN            NaN        NaN   \n",
       "866418                                NaN            NaN        NaN   \n",
       "775928                                NaN            NaN        NaN   \n",
       "810128                                NaN            NaN        NaN   \n",
       "\n",
       "                  free.calcium total.hemoglobin GCS dischargeDay   ageCat  \n",
       "inpatient.number                                                           \n",
       "857781                    1.14            125.0  15           11  (69,79]  \n",
       "743087                     NaN              NaN  15            8  (69,79]  \n",
       "866418                     NaN              NaN  15            5  (59,69]  \n",
       "775928                     NaN              NaN  15           11  (69,79]  \n",
       "810128                     NaN              NaN  15            5  (69,79]  \n",
       "\n",
       "[5 rows x 165 columns]"
      ]
     },
     "execution_count": 3,
     "metadata": {},
     "output_type": "execute_result"
    }
   ],
   "source": [
    "sentinels={'DestinationDischarge':['Unknown'], 'occupation':['NA'], \n",
    "          'pulse':[0],'respiration':[0], 'systolic.blood.pressure':[0],\n",
    "          'diastolic.blood.pressure':[0], 'map':[0], 'weight':[0,8],\n",
    "           'height':[0.35,0.48,0.6], 'left.ventricular.end.diastolic.diameter.LV':[0]\n",
    "          }\n",
    "\n",
    "df = pd.read_csv('dat.csv', na_values=sentinels)\n",
    "df.drop(columns = ['Unnamed: 0'], inplace = True)\n",
    "df.set_index('inpatient.number', inplace = True)\n",
    "df.head()"
   ]
  },
  {
   "cell_type": "markdown",
   "id": "dc8836fa",
   "metadata": {},
   "source": [
    "We remove the columns with more than 50% of missing values, as no gain would come if we would impute their values due to the quantity."
   ]
  },
  {
   "cell_type": "code",
   "execution_count": 4,
   "id": "f397d30d",
   "metadata": {},
   "outputs": [
    {
     "name": "stdout",
     "output_type": "stream",
     "text": [
      "Number of columns dropped: 43\n",
      "Current number of features: 122\n"
     ]
    }
   ],
   "source": [
    "missing_perc = df.isnull().sum()/len(df)\n",
    "columns_missing = df.columns[np.where(missing_perc>0.5)]\n",
    "print(f\"Number of columns dropped: {len(columns_missing)}\")\n",
    "data = df.copy()\n",
    "data.drop(columns = list(columns_missing), inplace = True)\n",
    "print(f\"Current number of features: {data.shape[1]}\")"
   ]
  },
  {
   "cell_type": "markdown",
   "id": "6806b812",
   "metadata": {},
   "source": [
    "## Splitting dataset in training and test set using a stratified sampling"
   ]
  },
  {
   "cell_type": "markdown",
   "id": "5ee854ee",
   "metadata": {},
   "source": [
    "We split our dataset in a train (80% of our data) and a test (20%) set."
   ]
  },
  {
   "cell_type": "code",
   "execution_count": 7,
   "id": "3e42ab4d",
   "metadata": {},
   "outputs": [],
   "source": [
    "from sklearn.model_selection import StratifiedShuffleSplit\n",
    "split = StratifiedShuffleSplit(n_splits=1, test_size=0.2, random_state=42)\n",
    "\n",
    "for train_index, test_index in split.split(data, data[\"re.admission.within.6.months\"]):\n",
    "    X_train = data.iloc[train_index].copy()\n",
    "    X_test = data.iloc[test_index].copy()"
   ]
  },
  {
   "cell_type": "code",
   "execution_count": 8,
   "id": "f005c9e1",
   "metadata": {},
   "outputs": [
    {
     "data": {
      "text/html": [
       "<div>\n",
       "<style scoped>\n",
       "    .dataframe tbody tr th:only-of-type {\n",
       "        vertical-align: middle;\n",
       "    }\n",
       "\n",
       "    .dataframe tbody tr th {\n",
       "        vertical-align: top;\n",
       "    }\n",
       "\n",
       "    .dataframe thead th {\n",
       "        text-align: right;\n",
       "    }\n",
       "</style>\n",
       "<table border=\"1\" class=\"dataframe\">\n",
       "  <thead>\n",
       "    <tr style=\"text-align: right;\">\n",
       "      <th></th>\n",
       "      <th>DestinationDischarge</th>\n",
       "      <th>admission.ward</th>\n",
       "      <th>admission.way</th>\n",
       "      <th>occupation</th>\n",
       "      <th>discharge.department</th>\n",
       "      <th>visit.times</th>\n",
       "      <th>gender</th>\n",
       "      <th>body.temperature</th>\n",
       "      <th>pulse</th>\n",
       "      <th>respiration</th>\n",
       "      <th>...</th>\n",
       "      <th>total.bilirubin</th>\n",
       "      <th>total.bile.acid</th>\n",
       "      <th>total.protein</th>\n",
       "      <th>cholesterol</th>\n",
       "      <th>low.density.lipoprotein.cholesterol</th>\n",
       "      <th>triglyceride</th>\n",
       "      <th>high.density.lipoprotein.cholesterol</th>\n",
       "      <th>GCS</th>\n",
       "      <th>dischargeDay</th>\n",
       "      <th>ageCat</th>\n",
       "    </tr>\n",
       "    <tr>\n",
       "      <th>inpatient.number</th>\n",
       "      <th></th>\n",
       "      <th></th>\n",
       "      <th></th>\n",
       "      <th></th>\n",
       "      <th></th>\n",
       "      <th></th>\n",
       "      <th></th>\n",
       "      <th></th>\n",
       "      <th></th>\n",
       "      <th></th>\n",
       "      <th></th>\n",
       "      <th></th>\n",
       "      <th></th>\n",
       "      <th></th>\n",
       "      <th></th>\n",
       "      <th></th>\n",
       "      <th></th>\n",
       "      <th></th>\n",
       "      <th></th>\n",
       "      <th></th>\n",
       "      <th></th>\n",
       "    </tr>\n",
       "  </thead>\n",
       "  <tbody>\n",
       "    <tr>\n",
       "      <th>734179</th>\n",
       "      <td>Home</td>\n",
       "      <td>Cardiology</td>\n",
       "      <td>NonEmergency</td>\n",
       "      <td>farmer</td>\n",
       "      <td>Cardiology</td>\n",
       "      <td>1</td>\n",
       "      <td>Female</td>\n",
       "      <td>36.3</td>\n",
       "      <td>80.0</td>\n",
       "      <td>19.0</td>\n",
       "      <td>...</td>\n",
       "      <td>33.1</td>\n",
       "      <td>14.0</td>\n",
       "      <td>75.1</td>\n",
       "      <td>3.30</td>\n",
       "      <td>1.87</td>\n",
       "      <td>0.64</td>\n",
       "      <td>0.92</td>\n",
       "      <td>15</td>\n",
       "      <td>13</td>\n",
       "      <td>(59,69]</td>\n",
       "    </tr>\n",
       "    <tr>\n",
       "      <th>772351</th>\n",
       "      <td>Home</td>\n",
       "      <td>Cardiology</td>\n",
       "      <td>Emergency</td>\n",
       "      <td>farmer</td>\n",
       "      <td>Cardiology</td>\n",
       "      <td>1</td>\n",
       "      <td>Male</td>\n",
       "      <td>36.6</td>\n",
       "      <td>83.0</td>\n",
       "      <td>19.0</td>\n",
       "      <td>...</td>\n",
       "      <td>11.0</td>\n",
       "      <td>3.9</td>\n",
       "      <td>66.2</td>\n",
       "      <td>4.24</td>\n",
       "      <td>2.58</td>\n",
       "      <td>1.03</td>\n",
       "      <td>1.12</td>\n",
       "      <td>15</td>\n",
       "      <td>7</td>\n",
       "      <td>(49,59]</td>\n",
       "    </tr>\n",
       "    <tr>\n",
       "      <th>836826</th>\n",
       "      <td>Home</td>\n",
       "      <td>Cardiology</td>\n",
       "      <td>NonEmergency</td>\n",
       "      <td>farmer</td>\n",
       "      <td>Cardiology</td>\n",
       "      <td>1</td>\n",
       "      <td>Male</td>\n",
       "      <td>36.0</td>\n",
       "      <td>96.0</td>\n",
       "      <td>18.0</td>\n",
       "      <td>...</td>\n",
       "      <td>37.2</td>\n",
       "      <td>1.7</td>\n",
       "      <td>65.8</td>\n",
       "      <td>2.44</td>\n",
       "      <td>1.00</td>\n",
       "      <td>0.62</td>\n",
       "      <td>0.95</td>\n",
       "      <td>15</td>\n",
       "      <td>7</td>\n",
       "      <td>(69,79]</td>\n",
       "    </tr>\n",
       "    <tr>\n",
       "      <th>764082</th>\n",
       "      <td>Home</td>\n",
       "      <td>Cardiology</td>\n",
       "      <td>Emergency</td>\n",
       "      <td>UrbanResident</td>\n",
       "      <td>Cardiology</td>\n",
       "      <td>1</td>\n",
       "      <td>Female</td>\n",
       "      <td>37.0</td>\n",
       "      <td>90.0</td>\n",
       "      <td>19.0</td>\n",
       "      <td>...</td>\n",
       "      <td>7.3</td>\n",
       "      <td>NaN</td>\n",
       "      <td>79.4</td>\n",
       "      <td>2.85</td>\n",
       "      <td>1.58</td>\n",
       "      <td>1.31</td>\n",
       "      <td>0.85</td>\n",
       "      <td>15</td>\n",
       "      <td>5</td>\n",
       "      <td>(69,79]</td>\n",
       "    </tr>\n",
       "    <tr>\n",
       "      <th>789038</th>\n",
       "      <td>HealthcareFacility</td>\n",
       "      <td>Cardiology</td>\n",
       "      <td>NonEmergency</td>\n",
       "      <td>UrbanResident</td>\n",
       "      <td>Cardiology</td>\n",
       "      <td>1</td>\n",
       "      <td>Female</td>\n",
       "      <td>36.0</td>\n",
       "      <td>82.0</td>\n",
       "      <td>21.0</td>\n",
       "      <td>...</td>\n",
       "      <td>39.7</td>\n",
       "      <td>5.1</td>\n",
       "      <td>74.0</td>\n",
       "      <td>3.30</td>\n",
       "      <td>1.52</td>\n",
       "      <td>2.13</td>\n",
       "      <td>0.98</td>\n",
       "      <td>15</td>\n",
       "      <td>8</td>\n",
       "      <td>(59,69]</td>\n",
       "    </tr>\n",
       "  </tbody>\n",
       "</table>\n",
       "<p>5 rows × 122 columns</p>\n",
       "</div>"
      ],
      "text/plain": [
       "                 DestinationDischarge admission.ward admission.way  \\\n",
       "inpatient.number                                                     \n",
       "734179                           Home     Cardiology  NonEmergency   \n",
       "772351                           Home     Cardiology     Emergency   \n",
       "836826                           Home     Cardiology  NonEmergency   \n",
       "764082                           Home     Cardiology     Emergency   \n",
       "789038             HealthcareFacility     Cardiology  NonEmergency   \n",
       "\n",
       "                     occupation discharge.department  visit.times  gender  \\\n",
       "inpatient.number                                                            \n",
       "734179                   farmer           Cardiology            1  Female   \n",
       "772351                   farmer           Cardiology            1    Male   \n",
       "836826                   farmer           Cardiology            1    Male   \n",
       "764082            UrbanResident           Cardiology            1  Female   \n",
       "789038            UrbanResident           Cardiology            1  Female   \n",
       "\n",
       "                  body.temperature  pulse  respiration  ...  total.bilirubin  \\\n",
       "inpatient.number                                        ...                    \n",
       "734179                        36.3   80.0         19.0  ...             33.1   \n",
       "772351                        36.6   83.0         19.0  ...             11.0   \n",
       "836826                        36.0   96.0         18.0  ...             37.2   \n",
       "764082                        37.0   90.0         19.0  ...              7.3   \n",
       "789038                        36.0   82.0         21.0  ...             39.7   \n",
       "\n",
       "                  total.bile.acid  total.protein  cholesterol  \\\n",
       "inpatient.number                                                \n",
       "734179                       14.0           75.1         3.30   \n",
       "772351                        3.9           66.2         4.24   \n",
       "836826                        1.7           65.8         2.44   \n",
       "764082                        NaN           79.4         2.85   \n",
       "789038                        5.1           74.0         3.30   \n",
       "\n",
       "                  low.density.lipoprotein.cholesterol  triglyceride  \\\n",
       "inpatient.number                                                      \n",
       "734179                                           1.87          0.64   \n",
       "772351                                           2.58          1.03   \n",
       "836826                                           1.00          0.62   \n",
       "764082                                           1.58          1.31   \n",
       "789038                                           1.52          2.13   \n",
       "\n",
       "                 high.density.lipoprotein.cholesterol GCS dischargeDay  \\\n",
       "inpatient.number                                                         \n",
       "734179                                           0.92  15           13   \n",
       "772351                                           1.12  15            7   \n",
       "836826                                           0.95  15            7   \n",
       "764082                                           0.85  15            5   \n",
       "789038                                           0.98  15            8   \n",
       "\n",
       "                   ageCat  \n",
       "inpatient.number           \n",
       "734179            (59,69]  \n",
       "772351            (49,59]  \n",
       "836826            (69,79]  \n",
       "764082            (69,79]  \n",
       "789038            (59,69]  \n",
       "\n",
       "[5 rows x 122 columns]"
      ]
     },
     "execution_count": 8,
     "metadata": {},
     "output_type": "execute_result"
    }
   ],
   "source": [
    "X_train.head()"
   ]
  },
  {
   "cell_type": "code",
   "execution_count": 9,
   "id": "3360f8aa",
   "metadata": {
    "scrolled": true
   },
   "outputs": [
    {
     "data": {
      "text/plain": [
       "(1606, 122)"
      ]
     },
     "execution_count": 9,
     "metadata": {},
     "output_type": "execute_result"
    }
   ],
   "source": [
    "X_train.shape"
   ]
  },
  {
   "cell_type": "code",
   "execution_count": 10,
   "id": "e14a3d77",
   "metadata": {},
   "outputs": [
    {
     "data": {
      "text/plain": [
       "(402, 122)"
      ]
     },
     "execution_count": 10,
     "metadata": {},
     "output_type": "execute_result"
    }
   ],
   "source": [
    "X_test.shape"
   ]
  },
  {
   "cell_type": "markdown",
   "id": "ef4fbcac",
   "metadata": {},
   "source": [
    "# Analysis of the variance of the features\n",
    "We want to know if some features have 0 (or almost 0) variance, to exclude them from the models a-priori. Indeed, a variable with no dispersion in its values, cannot be used to explain the variability in another variable. \n",
    "In \"1_Data preprocessing\", looking at the histplots, we realized that some of the 0/1 categorical variables have very few cases of one of the two categories. The names of these are stored in the list \"col_to_exclude\" and with a variance analysis we will see that their variance is almost 0. We choose $\\tau$ = 0.05 as a threshold."
   ]
  },
  {
   "cell_type": "code",
   "execution_count": 11,
   "id": "3de75b82",
   "metadata": {},
   "outputs": [
    {
     "name": "stderr",
     "output_type": "stream",
     "text": [
      "C:\\Users\\Eleonora\\AppData\\Local\\Temp/ipykernel_6544/1845861563.py:1: FutureWarning: Dropping of nuisance columns in DataFrame reductions (with 'numeric_only=None') is deprecated; in a future version this will raise TypeError.  Select only valid columns before calling the reduction.\n",
      "  variance = X_train.var()\n"
     ]
    },
    {
     "data": {
      "text/plain": [
       "['height',\n",
       " 'peripheral.vascular.disease',\n",
       " 'connective.tissue.disease',\n",
       " 'peptic.ulcer.disease',\n",
       " 'hemiplegia',\n",
       " 'leukemia',\n",
       " 'malignant.lymphoma',\n",
       " 'solid.tumor',\n",
       " 'liver.disease',\n",
       " 'AIDS',\n",
       " 'acute.renal.failure',\n",
       " 'death.within.28.days',\n",
       " 'death.within.3.months',\n",
       " 'death.within.6.months',\n",
       " 'monocyte.ratio',\n",
       " 'hematocrit',\n",
       " 'basophil.ratio',\n",
       " 'basophil.count',\n",
       " 'eosinophil.ratio',\n",
       " 'platelet.hematocrit',\n",
       " 'neutrophil.ratio',\n",
       " 'calcium',\n",
       " 'creatine.kinase.isoenzyme.to.creatine.kinase',\n",
       " 'hydroxybutyrate.dehydrogenase.to.lactate.dehydrogenase']"
      ]
     },
     "execution_count": 11,
     "metadata": {},
     "output_type": "execute_result"
    }
   ],
   "source": [
    "variance = X_train.var()\n",
    "col_to_exclude = list(variance[variance < 0.05].index)\n",
    "col_to_exclude"
   ]
  },
  {
   "cell_type": "code",
   "execution_count": 12,
   "id": "d5be54ed",
   "metadata": {
    "scrolled": true
   },
   "outputs": [
    {
     "name": "stdout",
     "output_type": "stream",
     "text": [
      "Current number of features in training set: 98\n"
     ]
    }
   ],
   "source": [
    "X_train.drop(columns = col_to_exclude, inplace = True)\n",
    "print(f\"Current number of features in training set: {X_train.shape[1]}\")"
   ]
  },
  {
   "cell_type": "code",
   "execution_count": 13,
   "id": "3f7a1cc3",
   "metadata": {
    "scrolled": true
   },
   "outputs": [
    {
     "name": "stdout",
     "output_type": "stream",
     "text": [
      "Current number of features in test set: 98\n"
     ]
    }
   ],
   "source": [
    "X_test.drop(columns = col_to_exclude, inplace = True)\n",
    "print(f\"Current number of features in test set: {X_test.shape[1]}\")"
   ]
  },
  {
   "cell_type": "markdown",
   "id": "7d331690",
   "metadata": {},
   "source": [
    "## Remove patients who died before leaving the hospital\n",
    "For sure we don't need in the prediction of the outcome of readmission at 6 months patients who died before leaving the hospital in the first place. We notice that there are two variables defining patients who died."
   ]
  },
  {
   "cell_type": "code",
   "execution_count": 14,
   "id": "2e649da4",
   "metadata": {
    "scrolled": true
   },
   "outputs": [
    {
     "data": {
      "text/plain": [
       "Home                  1078\n",
       "HealthcareFacility     343\n",
       "Died                    12\n",
       "Name: DestinationDischarge, dtype: int64"
      ]
     },
     "execution_count": 14,
     "metadata": {},
     "output_type": "execute_result"
    }
   ],
   "source": [
    "X_train['DestinationDischarge'].value_counts()"
   ]
  },
  {
   "cell_type": "code",
   "execution_count": 15,
   "id": "7b647155",
   "metadata": {
    "scrolled": false
   },
   "outputs": [
    {
     "data": {
      "text/plain": [
       "Alive                    1509\n",
       "DischargeAgainstOrder      87\n",
       "Dead                       10\n",
       "Name: outcome.during.hospitalization, dtype: int64"
      ]
     },
     "execution_count": 15,
     "metadata": {},
     "output_type": "execute_result"
    }
   ],
   "source": [
    "X_train['outcome.during.hospitalization'].value_counts()"
   ]
  },
  {
   "cell_type": "code",
   "execution_count": 16,
   "id": "03819048",
   "metadata": {},
   "outputs": [],
   "source": [
    "def remove_dead_patient(data):\n",
    "    dead_patients_id_1 = list(data.index[data['DestinationDischarge'] == 'Died'])\n",
    "    dead_patients_id_2 = list(data.index[data['outcome.during.hospitalization'] == 'Dead'])\n",
    "    dead_patients_id = union(dead_patients_id_1, dead_patients_id_2)\n",
    "    return dead_patients_id\n",
    "\n",
    "def union(lst1, lst2):\n",
    "    final_list = list(set(lst1) | set(lst2))\n",
    "    return final_list\n",
    "\n"
   ]
  },
  {
   "cell_type": "code",
   "execution_count": 17,
   "id": "3c9f9fd4",
   "metadata": {},
   "outputs": [
    {
     "data": {
      "text/html": [
       "<div>\n",
       "<style scoped>\n",
       "    .dataframe tbody tr th:only-of-type {\n",
       "        vertical-align: middle;\n",
       "    }\n",
       "\n",
       "    .dataframe tbody tr th {\n",
       "        vertical-align: top;\n",
       "    }\n",
       "\n",
       "    .dataframe thead th {\n",
       "        text-align: right;\n",
       "    }\n",
       "</style>\n",
       "<table border=\"1\" class=\"dataframe\">\n",
       "  <thead>\n",
       "    <tr style=\"text-align: right;\">\n",
       "      <th></th>\n",
       "      <th>eye.opening</th>\n",
       "      <th>movement</th>\n",
       "      <th>verbal.response</th>\n",
       "      <th>GCS</th>\n",
       "    </tr>\n",
       "    <tr>\n",
       "      <th>inpatient.number</th>\n",
       "      <th></th>\n",
       "      <th></th>\n",
       "      <th></th>\n",
       "      <th></th>\n",
       "    </tr>\n",
       "  </thead>\n",
       "  <tbody>\n",
       "    <tr>\n",
       "      <th>828678</th>\n",
       "      <td>2</td>\n",
       "      <td>5</td>\n",
       "      <td>4</td>\n",
       "      <td>11</td>\n",
       "    </tr>\n",
       "    <tr>\n",
       "      <th>834443</th>\n",
       "      <td>1</td>\n",
       "      <td>1</td>\n",
       "      <td>1</td>\n",
       "      <td>3</td>\n",
       "    </tr>\n",
       "    <tr>\n",
       "      <th>868748</th>\n",
       "      <td>4</td>\n",
       "      <td>6</td>\n",
       "      <td>5</td>\n",
       "      <td>15</td>\n",
       "    </tr>\n",
       "    <tr>\n",
       "      <th>768336</th>\n",
       "      <td>4</td>\n",
       "      <td>6</td>\n",
       "      <td>5</td>\n",
       "      <td>15</td>\n",
       "    </tr>\n",
       "    <tr>\n",
       "      <th>728787</th>\n",
       "      <td>3</td>\n",
       "      <td>6</td>\n",
       "      <td>4</td>\n",
       "      <td>13</td>\n",
       "    </tr>\n",
       "    <tr>\n",
       "      <th>869467</th>\n",
       "      <td>4</td>\n",
       "      <td>6</td>\n",
       "      <td>5</td>\n",
       "      <td>15</td>\n",
       "    </tr>\n",
       "    <tr>\n",
       "      <th>773090</th>\n",
       "      <td>4</td>\n",
       "      <td>6</td>\n",
       "      <td>5</td>\n",
       "      <td>15</td>\n",
       "    </tr>\n",
       "    <tr>\n",
       "      <th>805475</th>\n",
       "      <td>1</td>\n",
       "      <td>1</td>\n",
       "      <td>1</td>\n",
       "      <td>3</td>\n",
       "    </tr>\n",
       "    <tr>\n",
       "      <th>753570</th>\n",
       "      <td>4</td>\n",
       "      <td>6</td>\n",
       "      <td>5</td>\n",
       "      <td>15</td>\n",
       "    </tr>\n",
       "    <tr>\n",
       "      <th>811749</th>\n",
       "      <td>4</td>\n",
       "      <td>1</td>\n",
       "      <td>5</td>\n",
       "      <td>10</td>\n",
       "    </tr>\n",
       "    <tr>\n",
       "      <th>863531</th>\n",
       "      <td>4</td>\n",
       "      <td>6</td>\n",
       "      <td>5</td>\n",
       "      <td>15</td>\n",
       "    </tr>\n",
       "    <tr>\n",
       "      <th>750447</th>\n",
       "      <td>1</td>\n",
       "      <td>1</td>\n",
       "      <td>1</td>\n",
       "      <td>3</td>\n",
       "    </tr>\n",
       "    <tr>\n",
       "      <th>854580</th>\n",
       "      <td>1</td>\n",
       "      <td>1</td>\n",
       "      <td>1</td>\n",
       "      <td>3</td>\n",
       "    </tr>\n",
       "    <tr>\n",
       "      <th>849274</th>\n",
       "      <td>4</td>\n",
       "      <td>6</td>\n",
       "      <td>5</td>\n",
       "      <td>15</td>\n",
       "    </tr>\n",
       "  </tbody>\n",
       "</table>\n",
       "</div>"
      ],
      "text/plain": [
       "                  eye.opening  movement  verbal.response  GCS\n",
       "inpatient.number                                             \n",
       "828678                      2         5                4   11\n",
       "834443                      1         1                1    3\n",
       "868748                      4         6                5   15\n",
       "768336                      4         6                5   15\n",
       "728787                      3         6                4   13\n",
       "869467                      4         6                5   15\n",
       "773090                      4         6                5   15\n",
       "805475                      1         1                1    3\n",
       "753570                      4         6                5   15\n",
       "811749                      4         1                5   10\n",
       "863531                      4         6                5   15\n",
       "750447                      1         1                1    3\n",
       "854580                      1         1                1    3\n",
       "849274                      4         6                5   15"
      ]
     },
     "execution_count": 17,
     "metadata": {},
     "output_type": "execute_result"
    }
   ],
   "source": [
    "dead_patient_train = remove_dead_patient(X_train)\n",
    "data.loc[dead_patient_train][['eye.opening','movement','verbal.response','GCS']]                                       "
   ]
  },
  {
   "cell_type": "markdown",
   "id": "a64cbe2e",
   "metadata": {},
   "source": [
    "There are 14 patients which did not make it out of the hospital. We notice that 4 of these patients were in a coma and had very severe conditions (see eye.opening and the other characteristics above).\n",
    "Moreover, surprisingly, most of the patients were fully responsive but died anyway.\n",
    "\n",
    "We do the same fro the test set."
   ]
  },
  {
   "cell_type": "code",
   "execution_count": 18,
   "id": "fd7742aa",
   "metadata": {},
   "outputs": [],
   "source": [
    "X_train.drop(dead_patient_train, inplace = True)"
   ]
  },
  {
   "cell_type": "code",
   "execution_count": 19,
   "id": "c65e69ba",
   "metadata": {},
   "outputs": [
    {
     "data": {
      "text/html": [
       "<div>\n",
       "<style scoped>\n",
       "    .dataframe tbody tr th:only-of-type {\n",
       "        vertical-align: middle;\n",
       "    }\n",
       "\n",
       "    .dataframe tbody tr th {\n",
       "        vertical-align: top;\n",
       "    }\n",
       "\n",
       "    .dataframe thead th {\n",
       "        text-align: right;\n",
       "    }\n",
       "</style>\n",
       "<table border=\"1\" class=\"dataframe\">\n",
       "  <thead>\n",
       "    <tr style=\"text-align: right;\">\n",
       "      <th></th>\n",
       "      <th>eye.opening</th>\n",
       "      <th>movement</th>\n",
       "      <th>verbal.response</th>\n",
       "      <th>GCS</th>\n",
       "    </tr>\n",
       "    <tr>\n",
       "      <th>inpatient.number</th>\n",
       "      <th></th>\n",
       "      <th></th>\n",
       "      <th></th>\n",
       "      <th></th>\n",
       "    </tr>\n",
       "  </thead>\n",
       "  <tbody>\n",
       "    <tr>\n",
       "      <th>773886</th>\n",
       "      <td>4</td>\n",
       "      <td>6</td>\n",
       "      <td>5</td>\n",
       "      <td>15</td>\n",
       "    </tr>\n",
       "    <tr>\n",
       "      <th>765343</th>\n",
       "      <td>1</td>\n",
       "      <td>1</td>\n",
       "      <td>1</td>\n",
       "      <td>3</td>\n",
       "    </tr>\n",
       "  </tbody>\n",
       "</table>\n",
       "</div>"
      ],
      "text/plain": [
       "                  eye.opening  movement  verbal.response  GCS\n",
       "inpatient.number                                             \n",
       "773886                      4         6                5   15\n",
       "765343                      1         1                1    3"
      ]
     },
     "execution_count": 19,
     "metadata": {},
     "output_type": "execute_result"
    }
   ],
   "source": [
    "dead_patient_test = remove_dead_patient(X_test)\n",
    "data.loc[dead_patient_test][['eye.opening','movement','verbal.response','GCS']]"
   ]
  },
  {
   "cell_type": "code",
   "execution_count": 20,
   "id": "6c76b230",
   "metadata": {},
   "outputs": [],
   "source": [
    "X_test.drop(dead_patient_test, inplace = True)"
   ]
  },
  {
   "cell_type": "markdown",
   "id": "db2f602d",
   "metadata": {},
   "source": [
    "# Removing problematic rows\n",
    "In file '1_Data preprocessing' we spotted some problematic rows, where patients, for example have an impossible weight or other impossible values. We already substituted these missing values with NaN. Now we want to remove patients where more than 25% of features are NaN, as too little information is known on these patients to actually be beneficial in the analysis."
   ]
  },
  {
   "cell_type": "code",
   "execution_count": 21,
   "id": "e80ac564",
   "metadata": {},
   "outputs": [],
   "source": [
    "def drop_problematic_rows(data):\n",
    "    problematic_rows=[]\n",
    "    for i in range(data.shape[0]):\n",
    "        sum_null=data.iloc[i].isnull().sum()\n",
    "        perc_null=sum_null/data.shape[1]\n",
    "        if perc_null>0.25:\n",
    "            problematic_rows.append(data.index[i])\n",
    "    return problematic_rows\n",
    "    "
   ]
  },
  {
   "cell_type": "code",
   "execution_count": 22,
   "id": "b0ba2a3a",
   "metadata": {},
   "outputs": [
    {
     "data": {
      "text/plain": [
       "20"
      ]
     },
     "execution_count": 22,
     "metadata": {},
     "output_type": "execute_result"
    }
   ],
   "source": [
    "problematic_rows_train = drop_problematic_rows(X_train)\n",
    "len(problematic_rows_train)"
   ]
  },
  {
   "cell_type": "code",
   "execution_count": 23,
   "id": "7de59c5d",
   "metadata": {},
   "outputs": [],
   "source": [
    "X_train.drop(problematic_rows_train, inplace = True)"
   ]
  },
  {
   "cell_type": "code",
   "execution_count": 24,
   "id": "7a5f1890",
   "metadata": {},
   "outputs": [
    {
     "data": {
      "text/plain": [
       "2"
      ]
     },
     "execution_count": 24,
     "metadata": {},
     "output_type": "execute_result"
    }
   ],
   "source": [
    "problematic_rows_test = drop_problematic_rows(X_test)\n",
    "len(problematic_rows_test)"
   ]
  },
  {
   "cell_type": "code",
   "execution_count": 25,
   "id": "2db701f7",
   "metadata": {},
   "outputs": [],
   "source": [
    "X_test.drop(problematic_rows_test, inplace = True)"
   ]
  },
  {
   "cell_type": "markdown",
   "id": "4fbfcfd9",
   "metadata": {},
   "source": [
    "# Categorical Variables"
   ]
  },
  {
   "cell_type": "markdown",
   "id": "cf91514d",
   "metadata": {},
   "source": [
    "The variable 'visit.times' it's ordinal, and it will be kept as such in the one-hot encoding since its values are numerical. The same goes for 'eye.opening','verbal.response', 'movement', 'GCS' and 'CCI.score', whose meaning is explained in the file \"1_Data preprocessing\"."
   ]
  },
  {
   "cell_type": "markdown",
   "id": "0c00e15d",
   "metadata": {},
   "source": [
    "We will distinguish categorical and binary vairables, as the latter do not need one-hot encoding. This will be an advantage since less columns will be required."
   ]
  },
  {
   "cell_type": "code",
   "execution_count": 26,
   "id": "08fb20c0",
   "metadata": {},
   "outputs": [],
   "source": [
    "categorical_columns = ['DestinationDischarge','admission.ward','admission.way','occupation','discharge.department',\n",
    "                       'type.of.heart.failure', 'NYHA.cardiac.function.classification', 'Killip.grade',\n",
    "                       'consciousness', 'outcome.during.hospitalization','ageCat']\n",
    "\n",
    "ordinal_columns = ['visit.times', 'CCI.score', 'eye.opening','verbal.response', 'movement', 'GCS']\n",
    "\n",
    "not_continuous = categorical_columns.copy()\n",
    "\n",
    "binary_columns = ['gender', 'myocardial.infarction', 'congestive.heart.failure',\n",
    "                  'cerebrovascular.disease', 'dementia', 'Chronic.obstructive.pulmonary.disease',\n",
    "                  'diabetes', 'moderate.to.severe.chronic.kidney.disease',\n",
    "                  'type.II.respiratory.failure', 'oxygen.inhalation', 're.admission.within.28.days', \n",
    "                  're.admission.within.3.months', 're.admission.within.6.months',\n",
    "                  'return.to.emergency.department.within.6.months','respiratory.support.']\n",
    "# NB 'respiratory.support.' is in the binary variables because we will rebin it in 0/1\n",
    "\n",
    "not_continuous.extend(binary_columns)\n",
    "not_continuous.extend(ordinal_columns)"
   ]
  },
  {
   "cell_type": "code",
   "execution_count": 27,
   "id": "63c5697c",
   "metadata": {
    "scrolled": false
   },
   "outputs": [],
   "source": [
    "# list of the columns with continuous variables, all those not included in the previous\n",
    "continuous_columns = [col_name for col_name in X_train.columns if col_name not in not_continuous]"
   ]
  },
  {
   "cell_type": "markdown",
   "id": "f427d87c",
   "metadata": {},
   "source": [
    "## Assess whether the variable with unbalanced category are unbalanced also in the outcome\n",
    "Before proceeding to One-hot econding, we want to see whether all the categorical variables are useful for our study. In particular, in the initial analysis, we noticed that some features are particularly unbalanced. Let's put together all categorical features and see if one category represents more than 80% of the total values of the variables."
   ]
  },
  {
   "cell_type": "code",
   "execution_count": 28,
   "id": "d7077e58",
   "metadata": {},
   "outputs": [
    {
     "name": "stdout",
     "output_type": "stream",
     "text": [
      "occupation :  0.8263358778625954\n",
      "discharge.department :  0.8422391857506362\n",
      "consciousness :  0.9860050890585241\n",
      "outcome.during.hospitalization :  0.94529262086514\n",
      "myocardial.infarction :  0.928117048346056\n",
      "congestive.heart.failure :  0.9319338422391857\n",
      "cerebrovascular.disease :  0.926208651399491\n",
      "dementia :  0.9402035623409669\n",
      "Chronic.obstructive.pulmonary.disease :  0.8893129770992366\n",
      "type.II.respiratory.failure :  0.9446564885496184\n",
      "oxygen.inhalation :  0.9459287531806616\n",
      "respiratory.support. :  0.9821882951653944\n",
      "visit.times :  0.9300254452926209\n",
      "eye.opening :  0.9840966921119593\n",
      "verbal.response :  0.9821882951653944\n",
      "movement :  0.9790076335877863\n",
      "GCS :  0.9751908396946565\n"
     ]
    }
   ],
   "source": [
    "cat_columns = not_continuous.copy()\n",
    "\n",
    "unbalanced_cols=[]\n",
    "for col_name in cat_columns:\n",
    "    max_value = (X_train[col_name].value_counts()/X_train.shape[0]).max()\n",
    "    if max_value>0.8 and col_name!= \"death.within.28.days\" and col_name!= \"re.admission.within.28.days\" and col_name!= \"death.within.3.months\"and col_name!= \"death.within.6.months\":\n",
    "        print(col_name,': ',max_value)\n",
    "        unbalanced_cols.append(col_name)\n"
   ]
  },
  {
   "cell_type": "markdown",
   "id": "e8cb3191",
   "metadata": {},
   "source": [
    "Now, for each of the variables with more of 80% of unbalance in a category, we want to see whether their values are equally distributed among the two groups defined by the outcome \"Readmitted within 6 months\". If a variable has a category which strongly follows the target (e.g., that category is always present when target = 1, i.e. ~100% of the cases of the category coincide with an outcome = 1, or viceversa) then it might be significant in the final study, even if it is highly unbalanced. We will store in a list all variables whose categories are equally distributed among the outcome groups."
   ]
  },
  {
   "cell_type": "code",
   "execution_count": 29,
   "id": "d312aa1e",
   "metadata": {},
   "outputs": [],
   "source": [
    "balanced_in_outcome = []\n",
    "outcome_name=\"re.admission.within.6.months\""
   ]
  },
  {
   "cell_type": "code",
   "execution_count": 30,
   "id": "754b70bb",
   "metadata": {
    "scrolled": true
   },
   "outputs": [
    {
     "data": {
      "image/png": "[encoded data removed]",
      "text/plain": [
       "<Figure size 1512x864 with 9 Axes>"
      ]
     },
     "metadata": {
      "needs_background": "light"
     },
     "output_type": "display_data"
    }
   ],
   "source": [
    "group1 = ['occupation', 'discharge.department', 'consciousness','visit.times', 'eye.opening', \n",
    "          'verbal.response','movement', 'GCS', 'respiratory.support.']\n",
    "\n",
    "fig, axes = plt.subplots(3,3,sharey=True, figsize=(21,12))\n",
    "fig.text(-0.01, 0.5, 'Re-admission at 6 months', va='center', rotation='vertical', size = 15)\n",
    "fig.suptitle('Balance with respect to the outcome', size = 22)\n",
    "\n",
    "idx = 0\n",
    "i = 0\n",
    "for column_name in group1:\n",
    "    \n",
    "    sns.barplot(ax=axes[i,idx], x=column_name, y= outcome_name,\n",
    "                data=X_train, saturation=.5, ci=None, palette='rocket')\n",
    "    axes[i,idx].set_ylabel('')\n",
    "    axes[i,idx].set_xlabel(column_name, size = 15)\n",
    "    idx += 1\n",
    "    if idx == 3:\n",
    "        idx = 0\n",
    "        i += 1\n",
    "\n",
    "fig.tight_layout()\n",
    "plt.show()"
   ]
  },
  {
   "cell_type": "markdown",
   "id": "e589fa8f",
   "metadata": {},
   "source": [
    "From this, we can see that some of the variables like 'eye.opening', 'verbal.response', 'movement', 'GCS', 'discharge department','consciousness' have some categories which are never present when the outcome is. For this reason, we will keep them for the models we will develop."
   ]
  },
  {
   "cell_type": "code",
   "execution_count": 31,
   "id": "3894e7b0",
   "metadata": {},
   "outputs": [],
   "source": [
    "balanced_in_outcome.extend(['occupation','visit.times','respiratory.support.'])"
   ]
  },
  {
   "cell_type": "code",
   "execution_count": 32,
   "id": "f317dd72",
   "metadata": {},
   "outputs": [
    {
     "data": {
      "image/png": "[encoded data removed]",
      "text/plain": [
       "<Figure size 1512x864 with 8 Axes>"
      ]
     },
     "metadata": {
      "needs_background": "light"
     },
     "output_type": "display_data"
    }
   ],
   "source": [
    "group2 = list(set(unbalanced_cols) - set(group1))\n",
    "\n",
    "fig, axes = plt.subplots(2,4,sharey=True, figsize=(21,12))\n",
    "fig.text(-0.01, 0.5, 'Re-admission at 6 months', va='center', rotation='vertical', size = 15)\n",
    "fig.suptitle('Balance with respect to the outcome', size = 22)\n",
    "\n",
    "idx = 0\n",
    "i = 0\n",
    "for column_name in group2:\n",
    "    \n",
    "    sns.barplot(ax=axes[i,idx], x=column_name, y= outcome_name,\n",
    "                data=X_train, saturation=.5, ci=None, palette='rocket')\n",
    "    axes[i,idx].set_ylabel('')\n",
    "    axes[i,idx].set_xlabel(column_name, size = 15)\n",
    "    idx += 1\n",
    "    if idx == 4:\n",
    "        idx = 0\n",
    "        i += 1\n",
    "        \n",
    "plt.ylim([0,1])\n",
    "fig.tight_layout()\n",
    "plt.show()"
   ]
  },
  {
   "cell_type": "markdown",
   "id": "e23bdfe8",
   "metadata": {},
   "source": [
    "We can see that all the binary variables have a balanced proportion of values in their categories corresponding to the outcome class. Thus, we can think of removing these variables from the study."
   ]
  },
  {
   "cell_type": "code",
   "execution_count": 33,
   "id": "4b251ebb",
   "metadata": {},
   "outputs": [],
   "source": [
    "balanced_in_outcome.extend(group2)"
   ]
  },
  {
   "cell_type": "code",
   "execution_count": 34,
   "id": "7d062c75",
   "metadata": {},
   "outputs": [
    {
     "name": "stdout",
     "output_type": "stream",
     "text": [
      "Current number of features in training: 87\n"
     ]
    }
   ],
   "source": [
    "X_train.drop(columns = balanced_in_outcome, inplace = True)\n",
    "print(f\"Current number of features in training: {X_train.shape[1]}\")"
   ]
  },
  {
   "cell_type": "code",
   "execution_count": 35,
   "id": "c46e59ef",
   "metadata": {},
   "outputs": [
    {
     "name": "stdout",
     "output_type": "stream",
     "text": [
      "Current number of features in test: 87\n"
     ]
    }
   ],
   "source": [
    "X_test.drop(columns = balanced_in_outcome, inplace = True)\n",
    "print(f\"Current number of features in test: {X_test.shape[1]}\")"
   ]
  },
  {
   "cell_type": "code",
   "execution_count": 36,
   "id": "0aaa79f2",
   "metadata": {},
   "outputs": [],
   "source": [
    "# now we should adjust the lists of variables \n",
    "\n",
    "categorical_columns = ['DestinationDischarge','admission.ward','admission.way','discharge.department',\n",
    "                       'type.of.heart.failure', 'NYHA.cardiac.function.classification', 'Killip.grade',\n",
    "                       'consciousness', 'ageCat']\n",
    "\n",
    "ordinal_columns = ['CCI.score', 'eye.opening','verbal.response', 'movement', 'GCS']\n",
    "\n",
    "not_continuous = categorical_columns.copy()\n",
    "\n",
    "binary_columns = ['gender', 'diabetes', 'moderate.to.severe.chronic.kidney.disease',\n",
    "                  're.admission.within.28.days', 're.admission.within.3.months', \n",
    "                  're.admission.within.6.months', 'return.to.emergency.department.within.6.months']\n",
    "\n",
    "not_continuous.extend(binary_columns)\n",
    "not_continuous.extend(ordinal_columns)"
   ]
  },
  {
   "cell_type": "markdown",
   "id": "433fbd61",
   "metadata": {},
   "source": [
    "## Binary variables to {0,1}"
   ]
  },
  {
   "cell_type": "code",
   "execution_count": 37,
   "id": "faf153a0",
   "metadata": {},
   "outputs": [
    {
     "data": {
      "text/plain": [
       "Female    914\n",
       "Male      658\n",
       "Name: gender, dtype: int64"
      ]
     },
     "execution_count": 37,
     "metadata": {},
     "output_type": "execute_result"
    }
   ],
   "source": [
    "X_train['gender'].value_counts()"
   ]
  },
  {
   "cell_type": "code",
   "execution_count": 38,
   "id": "4336dfc6",
   "metadata": {},
   "outputs": [],
   "source": [
    "X_train['gender'] = [1 if elem=='Male' else 0 for elem in X_train['gender']]"
   ]
  },
  {
   "cell_type": "code",
   "execution_count": 39,
   "id": "a11250d5",
   "metadata": {},
   "outputs": [],
   "source": [
    "X_test['gender'] = [1 if elem=='Male' else 0 for elem in X_test['gender']]"
   ]
  },
  {
   "cell_type": "code",
   "execution_count": 40,
   "id": "a83218dd",
   "metadata": {},
   "outputs": [],
   "source": [
    "# Convert CCI.score to int -- doesn't work\n",
    "# data_new[\"CCI.score\"].loc[data_new[\"CCI.score\"].notnull()] = data[\"CCI.score\"].loc[data[\"CCI.score\"].notnull()].astype(int).values"
   ]
  },
  {
   "cell_type": "markdown",
   "id": "8780bab3",
   "metadata": {},
   "source": [
    "# Continuous variables and correlation analysis"
   ]
  },
  {
   "cell_type": "markdown",
   "id": "719f97a3",
   "metadata": {},
   "source": [
    "We will plot the correlation matrix just to have an idea of the possible groups of features that have a high (positive or negative) correlation. But clearly there are too many continuous variables to get a clear understading from this."
   ]
  },
  {
   "cell_type": "code",
   "execution_count": 41,
   "id": "161657f8",
   "metadata": {},
   "outputs": [
    {
     "data": {
      "image/png": "[encoded data removed]",
      "text/plain": [
       "<Figure size 720x576 with 2 Axes>"
      ]
     },
     "metadata": {
      "needs_background": "light"
     },
     "output_type": "display_data"
    }
   ],
   "source": [
    "plt.figure(figsize=(10,8))\n",
    "cor_matrix = X_train[continuous_columns].corr()\n",
    "\n",
    "mask = np.tril(np.ones_like(cor_matrix, dtype=bool))\n",
    "sns.heatmap(cor_matrix, mask = mask, xticklabels = False, yticklabels = False, vmin=-1, vmax=1, center = 0,\n",
    "            cmap=sns.diverging_palette(20, 220, n=200))\n",
    "plt.show()"
   ]
  },
  {
   "cell_type": "code",
   "execution_count": 42,
   "id": "2273eea9",
   "metadata": {},
   "outputs": [],
   "source": [
    "highly_corr_features = np.where(np.abs(cor_matrix) > 0.9)\n",
    "coupled_features = zip(highly_corr_features[0],highly_corr_features[1])\n",
    "\n",
    "ls = []\n",
    "ls_names = []\n",
    "# list of tuples of correlated features -- recover the names from correlation matrix\n",
    "for elem1,elem2 in coupled_features:\n",
    "    # exclude the couples with the same feature (corr = 1) and the couple already present in the list\n",
    "    if elem1 != elem2 and (elem2,elem1) not in ls:\n",
    "        ls.append((elem1,elem2))\n",
    "        ls_names.append((cor_matrix.iloc[:,elem1].name,cor_matrix.iloc[:,elem2].name))"
   ]
  },
  {
   "cell_type": "code",
   "execution_count": 43,
   "id": "9f433a2b",
   "metadata": {
    "scrolled": true
   },
   "outputs": [
    {
     "data": {
      "text/plain": [
       "[(4, 5), (15, 29), (20, 22), (31, 35), (42, 46), (54, 58), (57, 58)]"
      ]
     },
     "execution_count": 43,
     "metadata": {},
     "output_type": "execute_result"
    }
   ],
   "source": [
    "ls"
   ]
  },
  {
   "cell_type": "code",
   "execution_count": 44,
   "id": "c261aa35",
   "metadata": {
    "scrolled": true
   },
   "outputs": [
    {
     "data": {
      "text/plain": [
       "[('diastolic.blood.pressure', 'map'),\n",
       " ('white.blood.cell', 'neutrophil.count'),\n",
       " ('mean.corpuscular.volume', 'mean.hemoglobin.volume'),\n",
       " ('international.normalized.ratio', 'prothrombin.time.ratio'),\n",
       " ('hydroxybutyrate.dehydrogenase', 'lactate.dehydrogenase'),\n",
       " ('indirect.bilirubin', 'total.bilirubin'),\n",
       " ('direct.bilirubin', 'total.bilirubin')]"
      ]
     },
     "execution_count": 44,
     "metadata": {},
     "output_type": "execute_result"
    }
   ],
   "source": [
    "ls_names"
   ]
  },
  {
   "cell_type": "code",
   "execution_count": 45,
   "id": "f127a9a4",
   "metadata": {},
   "outputs": [
    {
     "data": {
      "image/png": "[encoded data removed]",
      "text/plain": [
       "<Figure size 720x720 with 14 Axes>"
      ]
     },
     "metadata": {
      "needs_background": "light"
     },
     "output_type": "display_data"
    }
   ],
   "source": [
    "fig, axes = plt.subplots(len(ls_names), 2,figsize=(10, 10))\n",
    "fig.suptitle('Data distribution wrt outcome')\n",
    "\n",
    "for i,tup in enumerate(ls_names):\n",
    "    \n",
    "    sns.histplot(X_train, x=tup[0], kde=True, stat = 'density', ax = axes[i,0], hue=outcome_name)\n",
    "    axes[i,0].legend(labels=['1', '0'])\n",
    "    sns.histplot(X_train, x=tup[1], kde=True, stat = 'density', ax = axes[i,1], hue=outcome_name)\n",
    "    axes[i,1].legend(labels=['1', '0'])\n",
    "    \n",
    "plt.show()"
   ]
  },
  {
   "cell_type": "markdown",
   "id": "846b7250",
   "metadata": {},
   "source": [
    "From this plots we can see that all couples of correlated features present a difference in the distributions of patients which were readmitted after 6 months and those who were not. We will now analyze these highly correlated features on the basis of domain knowledge to decide which ones to keep."
   ]
  },
  {
   "cell_type": "markdown",
   "id": "ad27e5fd",
   "metadata": {},
   "source": [
    "### Analysis of the highly correlated features:"
   ]
  },
  {
   "cell_type": "code",
   "execution_count": 46,
   "id": "fc133b31",
   "metadata": {},
   "outputs": [],
   "source": [
    "col_to_drop = []"
   ]
  },
  {
   "cell_type": "code",
   "execution_count": 47,
   "id": "d3f9dece",
   "metadata": {},
   "outputs": [
    {
     "data": {
      "text/html": [
       "<div>\n",
       "<style scoped>\n",
       "    .dataframe tbody tr th:only-of-type {\n",
       "        vertical-align: middle;\n",
       "    }\n",
       "\n",
       "    .dataframe tbody tr th {\n",
       "        vertical-align: top;\n",
       "    }\n",
       "\n",
       "    .dataframe thead th {\n",
       "        text-align: right;\n",
       "    }\n",
       "</style>\n",
       "<table border=\"1\" class=\"dataframe\">\n",
       "  <thead>\n",
       "    <tr style=\"text-align: right;\">\n",
       "      <th></th>\n",
       "      <th>diastolic.blood.pressure</th>\n",
       "      <th>map</th>\n",
       "    </tr>\n",
       "  </thead>\n",
       "  <tbody>\n",
       "    <tr>\n",
       "      <th>diastolic.blood.pressure</th>\n",
       "      <td>1.000000</td>\n",
       "      <td>0.924812</td>\n",
       "    </tr>\n",
       "    <tr>\n",
       "      <th>map</th>\n",
       "      <td>0.924812</td>\n",
       "      <td>1.000000</td>\n",
       "    </tr>\n",
       "  </tbody>\n",
       "</table>\n",
       "</div>"
      ],
      "text/plain": [
       "                          diastolic.blood.pressure       map\n",
       "diastolic.blood.pressure                  1.000000  0.924812\n",
       "map                                       0.924812  1.000000"
      ]
     },
     "execution_count": 47,
     "metadata": {},
     "output_type": "execute_result"
    }
   ],
   "source": [
    "cor_matrix = X_train.loc[:,['diastolic.blood.pressure', 'map']].corr()\n",
    "cor_matrix"
   ]
  },
  {
   "cell_type": "markdown",
   "id": "7c91883e",
   "metadata": {},
   "source": [
    "We keep the feature 'diastolic.blood.pressure' since the 'map' (Mean Arterial Pressure) synthesises the systolic and dyastolic blood pressures and so we already have this information."
   ]
  },
  {
   "cell_type": "code",
   "execution_count": 48,
   "id": "e148a9ab",
   "metadata": {},
   "outputs": [],
   "source": [
    "col_to_drop = ['map']"
   ]
  },
  {
   "cell_type": "code",
   "execution_count": 49,
   "id": "524edb6d",
   "metadata": {
    "scrolled": true
   },
   "outputs": [
    {
     "data": {
      "text/html": [
       "<div>\n",
       "<style scoped>\n",
       "    .dataframe tbody tr th:only-of-type {\n",
       "        vertical-align: middle;\n",
       "    }\n",
       "\n",
       "    .dataframe tbody tr th {\n",
       "        vertical-align: top;\n",
       "    }\n",
       "\n",
       "    .dataframe thead th {\n",
       "        text-align: right;\n",
       "    }\n",
       "</style>\n",
       "<table border=\"1\" class=\"dataframe\">\n",
       "  <thead>\n",
       "    <tr style=\"text-align: right;\">\n",
       "      <th></th>\n",
       "      <th>white.blood.cell</th>\n",
       "      <th>neutrophil.count</th>\n",
       "    </tr>\n",
       "  </thead>\n",
       "  <tbody>\n",
       "    <tr>\n",
       "      <th>white.blood.cell</th>\n",
       "      <td>1.000000</td>\n",
       "      <td>0.977833</td>\n",
       "    </tr>\n",
       "    <tr>\n",
       "      <th>neutrophil.count</th>\n",
       "      <td>0.977833</td>\n",
       "      <td>1.000000</td>\n",
       "    </tr>\n",
       "  </tbody>\n",
       "</table>\n",
       "</div>"
      ],
      "text/plain": [
       "                  white.blood.cell  neutrophil.count\n",
       "white.blood.cell          1.000000          0.977833\n",
       "neutrophil.count          0.977833          1.000000"
      ]
     },
     "execution_count": 49,
     "metadata": {},
     "output_type": "execute_result"
    }
   ],
   "source": [
    "cor_matrix = X_train.loc[:,['white.blood.cell', 'neutrophil.count']].corr()\n",
    "cor_matrix"
   ]
  },
  {
   "cell_type": "markdown",
   "id": "1cf590df",
   "metadata": {},
   "source": [
    "We drop 'white.blood.cell' since we have already a variable that gives us information about white cells."
   ]
  },
  {
   "cell_type": "code",
   "execution_count": 50,
   "id": "cc3a285c",
   "metadata": {},
   "outputs": [],
   "source": [
    "col_to_drop.append('white.blood.cell')"
   ]
  },
  {
   "cell_type": "code",
   "execution_count": 51,
   "id": "90b83011",
   "metadata": {
    "scrolled": true
   },
   "outputs": [
    {
     "data": {
      "text/html": [
       "<div>\n",
       "<style scoped>\n",
       "    .dataframe tbody tr th:only-of-type {\n",
       "        vertical-align: middle;\n",
       "    }\n",
       "\n",
       "    .dataframe tbody tr th {\n",
       "        vertical-align: top;\n",
       "    }\n",
       "\n",
       "    .dataframe thead th {\n",
       "        text-align: right;\n",
       "    }\n",
       "</style>\n",
       "<table border=\"1\" class=\"dataframe\">\n",
       "  <thead>\n",
       "    <tr style=\"text-align: right;\">\n",
       "      <th></th>\n",
       "      <th>mean.corpuscular.volume</th>\n",
       "      <th>mean.hemoglobin.volume</th>\n",
       "    </tr>\n",
       "  </thead>\n",
       "  <tbody>\n",
       "    <tr>\n",
       "      <th>mean.corpuscular.volume</th>\n",
       "      <td>1.000000</td>\n",
       "      <td>0.940252</td>\n",
       "    </tr>\n",
       "    <tr>\n",
       "      <th>mean.hemoglobin.volume</th>\n",
       "      <td>0.940252</td>\n",
       "      <td>1.000000</td>\n",
       "    </tr>\n",
       "  </tbody>\n",
       "</table>\n",
       "</div>"
      ],
      "text/plain": [
       "                         mean.corpuscular.volume  mean.hemoglobin.volume\n",
       "mean.corpuscular.volume                 1.000000                0.940252\n",
       "mean.hemoglobin.volume                  0.940252                1.000000"
      ]
     },
     "execution_count": 51,
     "metadata": {},
     "output_type": "execute_result"
    }
   ],
   "source": [
    "cor_matrix = X_train.loc[:,['mean.corpuscular.volume', 'mean.hemoglobin.volume']].corr()\n",
    "cor_matrix"
   ]
  },
  {
   "cell_type": "markdown",
   "id": "2c61b8c1",
   "metadata": {},
   "source": [
    "We take 'mean.corpuscular.volume' since it has a better distribution as we can see in the file 1_Data processing and cleaning"
   ]
  },
  {
   "cell_type": "code",
   "execution_count": 52,
   "id": "a6e694aa",
   "metadata": {},
   "outputs": [],
   "source": [
    "col_to_drop.append('mean.hemoglobin.volume')"
   ]
  },
  {
   "cell_type": "code",
   "execution_count": 53,
   "id": "edf83877",
   "metadata": {},
   "outputs": [
    {
     "data": {
      "text/html": [
       "<div>\n",
       "<style scoped>\n",
       "    .dataframe tbody tr th:only-of-type {\n",
       "        vertical-align: middle;\n",
       "    }\n",
       "\n",
       "    .dataframe tbody tr th {\n",
       "        vertical-align: top;\n",
       "    }\n",
       "\n",
       "    .dataframe thead th {\n",
       "        text-align: right;\n",
       "    }\n",
       "</style>\n",
       "<table border=\"1\" class=\"dataframe\">\n",
       "  <thead>\n",
       "    <tr style=\"text-align: right;\">\n",
       "      <th></th>\n",
       "      <th>international.normalized.ratio</th>\n",
       "      <th>prothrombin.time.ratio</th>\n",
       "    </tr>\n",
       "  </thead>\n",
       "  <tbody>\n",
       "    <tr>\n",
       "      <th>international.normalized.ratio</th>\n",
       "      <td>1.000000</td>\n",
       "      <td>0.997146</td>\n",
       "    </tr>\n",
       "    <tr>\n",
       "      <th>prothrombin.time.ratio</th>\n",
       "      <td>0.997146</td>\n",
       "      <td>1.000000</td>\n",
       "    </tr>\n",
       "  </tbody>\n",
       "</table>\n",
       "</div>"
      ],
      "text/plain": [
       "                                international.normalized.ratio  \\\n",
       "international.normalized.ratio                        1.000000   \n",
       "prothrombin.time.ratio                                0.997146   \n",
       "\n",
       "                                prothrombin.time.ratio  \n",
       "international.normalized.ratio                0.997146  \n",
       "prothrombin.time.ratio                        1.000000  "
      ]
     },
     "execution_count": 53,
     "metadata": {},
     "output_type": "execute_result"
    }
   ],
   "source": [
    "cor_matrix = X_train.loc[:,['international.normalized.ratio', 'prothrombin.time.ratio']].corr()\n",
    "cor_matrix"
   ]
  },
  {
   "cell_type": "markdown",
   "id": "a362eb51",
   "metadata": {},
   "source": [
    "We take 'prothrombin.time.ratio' since the 'international.normalized.ratio' is computed from the other one."
   ]
  },
  {
   "cell_type": "code",
   "execution_count": 54,
   "id": "6d9d3699",
   "metadata": {},
   "outputs": [],
   "source": [
    "col_to_drop.append('international.normalized.ratio')"
   ]
  },
  {
   "cell_type": "code",
   "execution_count": 55,
   "id": "2320c2de",
   "metadata": {
    "scrolled": true
   },
   "outputs": [
    {
     "data": {
      "text/html": [
       "<div>\n",
       "<style scoped>\n",
       "    .dataframe tbody tr th:only-of-type {\n",
       "        vertical-align: middle;\n",
       "    }\n",
       "\n",
       "    .dataframe tbody tr th {\n",
       "        vertical-align: top;\n",
       "    }\n",
       "\n",
       "    .dataframe thead th {\n",
       "        text-align: right;\n",
       "    }\n",
       "</style>\n",
       "<table border=\"1\" class=\"dataframe\">\n",
       "  <thead>\n",
       "    <tr style=\"text-align: right;\">\n",
       "      <th></th>\n",
       "      <th>hydroxybutyrate.dehydrogenase</th>\n",
       "      <th>lactate.dehydrogenase</th>\n",
       "    </tr>\n",
       "  </thead>\n",
       "  <tbody>\n",
       "    <tr>\n",
       "      <th>hydroxybutyrate.dehydrogenase</th>\n",
       "      <td>1.000000</td>\n",
       "      <td>0.921708</td>\n",
       "    </tr>\n",
       "    <tr>\n",
       "      <th>lactate.dehydrogenase</th>\n",
       "      <td>0.921708</td>\n",
       "      <td>1.000000</td>\n",
       "    </tr>\n",
       "  </tbody>\n",
       "</table>\n",
       "</div>"
      ],
      "text/plain": [
       "                               hydroxybutyrate.dehydrogenase  \\\n",
       "hydroxybutyrate.dehydrogenase                       1.000000   \n",
       "lactate.dehydrogenase                               0.921708   \n",
       "\n",
       "                               lactate.dehydrogenase  \n",
       "hydroxybutyrate.dehydrogenase               0.921708  \n",
       "lactate.dehydrogenase                       1.000000  "
      ]
     },
     "execution_count": 55,
     "metadata": {},
     "output_type": "execute_result"
    }
   ],
   "source": [
    "cor_matrix = X_train.loc[:,['hydroxybutyrate.dehydrogenase', 'lactate.dehydrogenase']].corr()\n",
    "cor_matrix"
   ]
  },
  {
   "cell_type": "markdown",
   "id": "c0138376",
   "metadata": {},
   "source": [
    "3-hydroxybutyrate dehydrogenase is an enzyme belonging to the class of oxidoreductases, which catalyzes the following reaction:\n",
    "\n",
    "(D)-3-hydroxybutanoate + NAD+ ⇄ acetoacetate + NADH + H+\n",
    "\n",
    "L-lactate dehydrogenase (or LDH) is an enzyme, belonging to the class of oxidoreductases, which catalyzes the following reaction:\n",
    "\n",
    "(L)-lactate + NAD+ ⇄ pyruvate + NADH + H+\n",
    "\n",
    "We notice that these two enzymes catalyze indeed very similar chemical reactions, so we can explain ourselves the big correlation between the two. We decide to keep only the lactate.dehydrogenase."
   ]
  },
  {
   "cell_type": "code",
   "execution_count": 56,
   "id": "e6d7bc35",
   "metadata": {},
   "outputs": [],
   "source": [
    "col_to_drop.append('hydroxybutyrate.dehydrogenase')"
   ]
  },
  {
   "cell_type": "code",
   "execution_count": 57,
   "id": "cd1959c7",
   "metadata": {
    "scrolled": true
   },
   "outputs": [
    {
     "data": {
      "text/html": [
       "<div>\n",
       "<style scoped>\n",
       "    .dataframe tbody tr th:only-of-type {\n",
       "        vertical-align: middle;\n",
       "    }\n",
       "\n",
       "    .dataframe tbody tr th {\n",
       "        vertical-align: top;\n",
       "    }\n",
       "\n",
       "    .dataframe thead th {\n",
       "        text-align: right;\n",
       "    }\n",
       "</style>\n",
       "<table border=\"1\" class=\"dataframe\">\n",
       "  <thead>\n",
       "    <tr style=\"text-align: right;\">\n",
       "      <th></th>\n",
       "      <th>indirect.bilirubin</th>\n",
       "      <th>total.bilirubin</th>\n",
       "    </tr>\n",
       "  </thead>\n",
       "  <tbody>\n",
       "    <tr>\n",
       "      <th>indirect.bilirubin</th>\n",
       "      <td>1.00000</td>\n",
       "      <td>0.93821</td>\n",
       "    </tr>\n",
       "    <tr>\n",
       "      <th>total.bilirubin</th>\n",
       "      <td>0.93821</td>\n",
       "      <td>1.00000</td>\n",
       "    </tr>\n",
       "  </tbody>\n",
       "</table>\n",
       "</div>"
      ],
      "text/plain": [
       "                    indirect.bilirubin  total.bilirubin\n",
       "indirect.bilirubin             1.00000          0.93821\n",
       "total.bilirubin                0.93821          1.00000"
      ]
     },
     "execution_count": 57,
     "metadata": {},
     "output_type": "execute_result"
    }
   ],
   "source": [
    "cor_matrix = X_train.loc[:,['indirect.bilirubin', 'total.bilirubin']].corr()\n",
    "cor_matrix"
   ]
  },
  {
   "cell_type": "code",
   "execution_count": 58,
   "id": "8c52fe6a",
   "metadata": {
    "scrolled": true
   },
   "outputs": [
    {
     "data": {
      "text/html": [
       "<div>\n",
       "<style scoped>\n",
       "    .dataframe tbody tr th:only-of-type {\n",
       "        vertical-align: middle;\n",
       "    }\n",
       "\n",
       "    .dataframe tbody tr th {\n",
       "        vertical-align: top;\n",
       "    }\n",
       "\n",
       "    .dataframe thead th {\n",
       "        text-align: right;\n",
       "    }\n",
       "</style>\n",
       "<table border=\"1\" class=\"dataframe\">\n",
       "  <thead>\n",
       "    <tr style=\"text-align: right;\">\n",
       "      <th></th>\n",
       "      <th>direct.bilirubin</th>\n",
       "      <th>total.bilirubin</th>\n",
       "    </tr>\n",
       "  </thead>\n",
       "  <tbody>\n",
       "    <tr>\n",
       "      <th>direct.bilirubin</th>\n",
       "      <td>1.000000</td>\n",
       "      <td>0.928215</td>\n",
       "    </tr>\n",
       "    <tr>\n",
       "      <th>total.bilirubin</th>\n",
       "      <td>0.928215</td>\n",
       "      <td>1.000000</td>\n",
       "    </tr>\n",
       "  </tbody>\n",
       "</table>\n",
       "</div>"
      ],
      "text/plain": [
       "                  direct.bilirubin  total.bilirubin\n",
       "direct.bilirubin          1.000000         0.928215\n",
       "total.bilirubin           0.928215         1.000000"
      ]
     },
     "execution_count": 58,
     "metadata": {},
     "output_type": "execute_result"
    }
   ],
   "source": [
    "cor_matrix = X_train.loc[:,['direct.bilirubin', 'total.bilirubin']].corr()\n",
    "cor_matrix"
   ]
  },
  {
   "cell_type": "markdown",
   "id": "b21ac4be",
   "metadata": {},
   "source": [
    "We drop the 'total.bilirubin' since is the sum of the indirect and direct bilirubin."
   ]
  },
  {
   "cell_type": "code",
   "execution_count": 59,
   "id": "b353a46a",
   "metadata": {},
   "outputs": [],
   "source": [
    "col_to_drop.append('total.bilirubin')"
   ]
  },
  {
   "cell_type": "markdown",
   "id": "3e9c7c2e",
   "metadata": {},
   "source": [
    "### Deleting columns"
   ]
  },
  {
   "cell_type": "markdown",
   "id": "5c484446",
   "metadata": {},
   "source": [
    "Examining the columns about re-admission to the hospital at different times, we noticed that there were some incongruencies between 28 days, 3 months and our target 6 months. We proceeded to correct them and then we removed the two variables \"re.admission.within.28.days\" and \"re.admission.within.3.months\", since they are redundant with our target."
   ]
  },
  {
   "cell_type": "code",
   "execution_count": 62,
   "id": "6a5cb764",
   "metadata": {},
   "outputs": [],
   "source": [
    "index_28days=X_train[X_train[\"re.admission.within.28.days\"]==1].index"
   ]
  },
  {
   "cell_type": "code",
   "execution_count": 63,
   "id": "79a7b486",
   "metadata": {},
   "outputs": [],
   "source": [
    "index_3months=list(X_train[X_train[\"re.admission.within.3.months\"]==1].index)"
   ]
  },
  {
   "cell_type": "code",
   "execution_count": 64,
   "id": "3c56fce2",
   "metadata": {},
   "outputs": [],
   "source": [
    "index_6months=list(X_train[X_train[\"re.admission.within.6.months\"]==1].index)"
   ]
  },
  {
   "cell_type": "code",
   "execution_count": 66,
   "id": "8854b2dc",
   "metadata": {},
   "outputs": [
    {
     "data": {
      "text/plain": [
       "[837990]"
      ]
     },
     "execution_count": 66,
     "metadata": {},
     "output_type": "execute_result"
    }
   ],
   "source": [
    "value_missing=[]\n",
    "value_missing = [col_name for col_name in index_28days if col_name not in index_6months]\n",
    "value_missing"
   ]
  },
  {
   "cell_type": "code",
   "execution_count": 67,
   "id": "8373861f",
   "metadata": {},
   "outputs": [
    {
     "data": {
      "text/plain": [
       "[]"
      ]
     },
     "execution_count": 67,
     "metadata": {},
     "output_type": "execute_result"
    }
   ],
   "source": [
    "value_missing = [col_name for col_name in index_6months if col_name not in index_6months]\n",
    "value_missing"
   ]
  },
  {
   "cell_type": "code",
   "execution_count": 65,
   "id": "9ae03ee2",
   "metadata": {},
   "outputs": [],
   "source": [
    "X_train.loc[837990,\"re.admission.within.6.months\"]=1"
   ]
  },
  {
   "cell_type": "code",
   "execution_count": 64,
   "id": "f7824e9b",
   "metadata": {},
   "outputs": [],
   "source": [
    "col_to_drop.append('re.admission.within.28.days')\n",
    "col_to_drop.append('re.admission.within.3.months')"
   ]
  },
  {
   "cell_type": "markdown",
   "id": "0d952e5b",
   "metadata": {},
   "source": [
    "#### We drop the column that are correlated"
   ]
  },
  {
   "cell_type": "code",
   "execution_count": 66,
   "id": "18fc56a0",
   "metadata": {},
   "outputs": [
    {
     "name": "stdout",
     "output_type": "stream",
     "text": [
      "Current number of features of training set: 79\n"
     ]
    }
   ],
   "source": [
    "train_data = X_train.copy()\n",
    "train_data.drop(col_to_drop, axis=1, inplace = True)\n",
    "print(f\"Current number of features of training set: {train_data.shape[1]}\")"
   ]
  },
  {
   "cell_type": "code",
   "execution_count": 67,
   "id": "fe424068",
   "metadata": {},
   "outputs": [
    {
     "name": "stdout",
     "output_type": "stream",
     "text": [
      "Current number of features of test set: 79\n"
     ]
    }
   ],
   "source": [
    "test_data = X_test.copy()\n",
    "test_data.drop(col_to_drop, axis=1, inplace = True)\n",
    "print(f\"Current number of features of test set: {test_data.shape[1]}\")"
   ]
  },
  {
   "cell_type": "code",
   "execution_count": 68,
   "id": "b75be6d5",
   "metadata": {},
   "outputs": [],
   "source": [
    "train_data.to_csv('train_data.csv')"
   ]
  },
  {
   "cell_type": "code",
   "execution_count": 69,
   "id": "a7db12f8",
   "metadata": {},
   "outputs": [],
   "source": [
    "test_data.to_csv('test_data.csv')"
   ]
  }
 ],
 "metadata": {
  "kernelspec": {
   "display_name": "Python 3 (ipykernel)",
   "language": "python",
   "name": "python3"
  },
  "language_info": {
   "codemirror_mode": {
    "name": "ipython",
    "version": 3
   },
   "file_extension": ".py",
   "mimetype": "text/x-python",
   "name": "python",
   "nbconvert_exporter": "python",
   "pygments_lexer": "ipython3",
   "version": "3.8.8"
  }
 },
 "nbformat": 4,
 "nbformat_minor": 5
}
