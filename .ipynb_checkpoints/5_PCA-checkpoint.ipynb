{
 "cells": [
  {
   "cell_type": "code",
   "execution_count": 1,
   "id": "1748edc6",
   "metadata": {},
   "outputs": [],
   "source": [
    "import numpy as np\n",
    "import pandas as pd\n",
    "import seaborn as sns\n",
    "import matplotlib.pyplot as plt\n",
    "\n",
    "np.random.seed(130298)"
   ]
  },
  {
   "cell_type": "code",
   "execution_count": 2,
   "id": "75058705",
   "metadata": {},
   "outputs": [
    {
     "data": {
      "text/plain": [
       "'C:\\\\Users\\\\Eleonora\\\\statistical learning for healthcare data\\\\heart-failure-project'"
      ]
     },
     "execution_count": 2,
     "metadata": {},
     "output_type": "execute_result"
    }
   ],
   "source": [
    "%pwd"
   ]
  },
  {
   "cell_type": "code",
   "execution_count": 26,
   "id": "e5463015",
   "metadata": {},
   "outputs": [
    {
     "data": {
      "text/plain": [
       "(2008, 108)"
      ]
     },
     "execution_count": 26,
     "metadata": {},
     "output_type": "execute_result"
    }
   ],
   "source": [
    "data = pd.read_csv('example.csv')\n",
    "data.set_index('inpatient.number', inplace = True)\n",
    "data.shape"
   ]
  },
  {
   "cell_type": "code",
   "execution_count": 3,
   "id": "4386337f",
   "metadata": {},
   "outputs": [],
   "source": [
    "categorical_columns = ['DestinationDischarge','admission.ward','admission.way','occupation','discharge.department','visit.times',\n",
    "                       'gender', 'type.of.heart.failure', 'NYHA.cardiac.function.classification', 'Killip.grade','CCI.score',\n",
    "                       'consciousness','eye.opening','verbal.response', 'movement','oxygen.inhalation', 'outcome.during.hospitalization',\n",
    "                       'GCS','ageCat']\n",
    "\n",
    "prova = categorical_columns.copy()\n",
    "binary_columns = ['myocardial.infarction', 'congestive.heart.failure', 'peripheral.vascular.disease',\n",
    "                  'cerebrovascular.disease', 'dementia', 'Chronic.obstructive.pulmonary.disease',\n",
    "                  'peptic.ulcer.disease', 'diabetes', 'moderate.to.severe.chronic.kidney.disease',\n",
    "                  'solid.tumor', 'liver.disease', 'type.II.respiratory.failure', 'death.within.28.days', 're.admission.within.28.days', \n",
    "                  'death.within.3.months','re.admission.within.3.months', 'death.within.6.months', 're.admission.within.6.months',\n",
    "                  'return.to.emergency.department.within.6.months','respiratory.support.']\n",
    "# NB 'respiratory.support.' is in the binary variables because we will rebin it in 0/1\n",
    "\n",
    "prova.extend(binary_columns)\n",
    "continuous_columns = [col_name for col_name in data.columns if col_name not in prova]\n"
   ]
  },
  {
   "cell_type": "markdown",
   "id": "ee6951f5",
   "metadata": {},
   "source": [
    "We perform a split by taking the readmission in 6 months as a reference"
   ]
  },
  {
   "cell_type": "code",
   "execution_count": 21,
   "id": "879084ee",
   "metadata": {},
   "outputs": [],
   "source": [
    "from sklearn.model_selection import train_test_split\n",
    "X = data.drop(columns='re.admission.within.6.months')\n",
    "y = data['re.admission.within.6.months']\n",
    "\n",
    "X_train,X_test,y_train,y_test = train_test_split(X, y, test_size=0.15, random_state=1, shuffle=True,stratify=y)\n",
    "X_train,X_val,y_train,y_val = train_test_split(X_train, y_train, test_size=0.177, random_state=1,shuffle=True,stratify=y_train)"
   ]
  },
  {
   "cell_type": "markdown",
   "id": "65724575",
   "metadata": {},
   "source": [
    "Remove missing values "
   ]
  },
  {
   "cell_type": "code",
   "execution_count": 28,
   "id": "303f9450",
   "metadata": {},
   "outputs": [
    {
     "data": {
      "text/plain": [
       "(464, 69)"
      ]
     },
     "execution_count": 28,
     "metadata": {},
     "output_type": "execute_result"
    }
   ],
   "source": [
    "X_train.dropna(inplace = True)\n",
    "X_train[continuous_columns].shape"
   ]
  },
  {
   "cell_type": "markdown",
   "id": "de850267",
   "metadata": {},
   "source": [
    "While applying StandardScaler, each feature of your data should be normally distributed such that it will scale the distribution to a mean of zero and a standard deviation of one."
   ]
  },
  {
   "cell_type": "code",
   "execution_count": 23,
   "id": "80685383",
   "metadata": {},
   "outputs": [],
   "source": [
    "from sklearn.preprocessing import StandardScaler\n",
    "data.dropna(inplace=True)\n",
    "x = X_train.loc[:, continuous_columns].values\n",
    "y = y_train\n",
    "x = StandardScaler().fit_transform(x) # normalizing the features"
   ]
  },
  {
   "cell_type": "markdown",
   "id": "baeec19f",
   "metadata": {},
   "source": [
    "Do PCA"
   ]
  },
  {
   "cell_type": "code",
   "execution_count": 29,
   "id": "49f5a9ad",
   "metadata": {},
   "outputs": [],
   "source": [
    "from sklearn.decomposition import PCA\n",
    "pca = PCA(n_components=69)\n",
    "principalComponents = pca.fit_transform(x)\n",
    "pca_data = pd.DataFrame(data = principalComponents)"
   ]
  },
  {
   "cell_type": "code",
   "execution_count": 30,
   "id": "e1423c41",
   "metadata": {},
   "outputs": [],
   "source": [
    "pca_data = pd.concat([pca_data, y_train], axis = 1)"
   ]
  },
  {
   "cell_type": "code",
   "execution_count": 31,
   "id": "7f8b55b3",
   "metadata": {
    "collapsed": true
   },
   "outputs": [
    {
     "name": "stdout",
     "output_type": "stream",
     "text": [
      "Explained variation per principal component: [1.03977203e-01 7.40045702e-02 6.92770034e-02 5.84380538e-02\n",
      " 4.78375171e-02 3.90298687e-02 3.76704270e-02 3.44990445e-02\n",
      " 3.27514460e-02 3.04746597e-02 2.75063684e-02 2.51235598e-02\n",
      " 2.29380371e-02 2.22221004e-02 2.07259403e-02 2.05098316e-02\n",
      " 1.94143468e-02 1.86469913e-02 1.75116047e-02 1.68238348e-02\n",
      " 1.55504437e-02 1.49228172e-02 1.35716311e-02 1.34209294e-02\n",
      " 1.29215379e-02 1.22232489e-02 1.19547258e-02 1.15179144e-02\n",
      " 1.05046176e-02 9.78474845e-03 9.63789815e-03 9.56890045e-03\n",
      " 8.81690564e-03 8.29980477e-03 8.12409948e-03 7.29744116e-03\n",
      " 7.14575161e-03 6.51996865e-03 6.37220029e-03 5.57979673e-03\n",
      " 5.48591635e-03 5.05722846e-03 4.71316162e-03 4.41713746e-03\n",
      " 4.31971552e-03 4.04062232e-03 3.70916237e-03 3.45245306e-03\n",
      " 3.08923612e-03 2.89779139e-03 2.78747988e-03 2.50034980e-03\n",
      " 2.36915085e-03 1.98866684e-03 1.58393154e-03 1.21376237e-03\n",
      " 9.27459570e-04 8.07364650e-04 5.72568564e-04 3.73926593e-04\n",
      " 2.79123893e-04 1.86914888e-04 7.59564674e-05 2.44633913e-05\n",
      " 8.45192002e-06 2.13883036e-07 8.78336237e-31 3.54442446e-33\n",
      " 3.44206199e-33]\n"
     ]
    }
   ],
   "source": [
    "print('Explained variation per principal component: {}'.format(pca.explained_variance_ratio_))"
   ]
  },
  {
   "cell_type": "markdown",
   "id": "1250eea6",
   "metadata": {},
   "source": [
    "You will use the sklearn library to import the PCA module, and in the PCA method, you will pass the number of components (n_components=2) and finally call fit_transform on the aggregate data. Here, several components represent the lower dimension in which you will project your higher dimension data.\n",
    "\n"
   ]
  },
  {
   "cell_type": "code",
   "execution_count": 18,
   "id": "07aa005a",
   "metadata": {},
   "outputs": [],
   "source": [
    "from sklearn.decomposition import PCA\n",
    "pca_data = PCA(n_components=2)\n",
    "principalComponents_data = pca_data.fit_transform(x)"
   ]
  },
  {
   "cell_type": "code",
   "execution_count": 33,
   "id": "86d9a7f7",
   "metadata": {},
   "outputs": [
    {
     "name": "stdout",
     "output_type": "stream",
     "text": [
      "Explained variation per principal component: [1.03977203e-01 7.40045702e-02 6.92770034e-02 5.84380538e-02\n",
      " 4.78375171e-02 3.90298687e-02 3.76704270e-02 3.44990445e-02\n",
      " 3.27514460e-02 3.04746597e-02 2.75063684e-02 2.51235598e-02\n",
      " 2.29380371e-02 2.22221004e-02 2.07259403e-02 2.05098316e-02\n",
      " 1.94143468e-02 1.86469913e-02 1.75116047e-02 1.68238348e-02\n",
      " 1.55504437e-02 1.49228172e-02 1.35716311e-02 1.34209294e-02\n",
      " 1.29215379e-02 1.22232489e-02 1.19547258e-02 1.15179144e-02\n",
      " 1.05046176e-02 9.78474845e-03 9.63789815e-03 9.56890045e-03\n",
      " 8.81690564e-03 8.29980477e-03 8.12409948e-03 7.29744116e-03\n",
      " 7.14575161e-03 6.51996865e-03 6.37220029e-03 5.57979673e-03\n",
      " 5.48591635e-03 5.05722846e-03 4.71316162e-03 4.41713746e-03\n",
      " 4.31971552e-03 4.04062232e-03 3.70916237e-03 3.45245306e-03\n",
      " 3.08923612e-03 2.89779139e-03 2.78747988e-03 2.50034980e-03\n",
      " 2.36915085e-03 1.98866684e-03 1.58393154e-03 1.21376237e-03\n",
      " 9.27459570e-04 8.07364650e-04 5.72568564e-04 3.73926593e-04\n",
      " 2.79123893e-04 1.86914888e-04 7.59564674e-05 2.44633913e-05\n",
      " 8.45192002e-06 2.13883036e-07 8.78336237e-31 3.54442446e-33\n",
      " 3.44206199e-33]\n"
     ]
    }
   ],
   "source": [
    "print('Explained variation per principal component: {}'.format(pca.explained_variance_ratio_))"
   ]
  },
  {
   "cell_type": "code",
   "execution_count": 34,
   "id": "49817cc3",
   "metadata": {},
   "outputs": [
    {
     "data": {
      "text/plain": [
       "array([0.1039772 , 0.17798177, 0.24725878, 0.30569683, 0.35353435,\n",
       "       0.39256422, 0.43023464, 0.46473369, 0.49748513, 0.52795979,\n",
       "       0.55546616, 0.58058972, 0.60352776, 0.62574986, 0.6464758 ,\n",
       "       0.66698563, 0.68639998, 0.70504697, 0.72255857, 0.73938241,\n",
       "       0.75493285, 0.76985567, 0.7834273 , 0.79684823, 0.80976977,\n",
       "       0.82199302, 0.83394774, 0.84546566, 0.85597027, 0.86575502,\n",
       "       0.87539292, 0.88496182, 0.89377873, 0.90207853, 0.91020263,\n",
       "       0.91750007, 0.92464582, 0.93116579, 0.93753799, 0.94311779,\n",
       "       0.94860371, 0.95366094, 0.9583741 , 0.96279123, 0.96711095,\n",
       "       0.97115157, 0.97486073, 0.97831319, 0.98140242, 0.98430021,\n",
       "       0.98708769, 0.98958804, 0.9919572 , 0.99394586, 0.99552979,\n",
       "       0.99674356, 0.99767102, 0.99847838, 0.99905095, 0.99942488,\n",
       "       0.999704  , 0.99989091, 0.99996687, 0.99999133, 0.99999979,\n",
       "       1.        , 1.        , 1.        , 1.        ])"
      ]
     },
     "execution_count": 34,
     "metadata": {},
     "output_type": "execute_result"
    }
   ],
   "source": [
    "np.cumsum(pca.explained_variance_ratio_)"
   ]
  },
  {
   "cell_type": "code",
   "execution_count": 36,
   "id": "f8a52aa6",
   "metadata": {},
   "outputs": [
    {
     "data": {
      "text/plain": [
       "(array([17, 18, 19, 20, 21, 22, 23, 24, 25, 26, 27, 28, 29, 30, 31, 32, 33,\n",
       "        34, 35, 36, 37, 38, 39, 40, 41, 42, 43, 44, 45, 46, 47, 48, 49, 50,\n",
       "        51, 52, 53, 54, 55, 56, 57, 58, 59, 60, 61, 62, 63, 64, 65, 66, 67,\n",
       "        68]),)"
      ]
     },
     "execution_count": 36,
     "metadata": {},
     "output_type": "execute_result"
    }
   ],
   "source": [
    "np.where(cum_expl_var>0.7)"
   ]
  },
  {
   "cell_type": "code",
   "execution_count": null,
   "id": "aec2d5f8",
   "metadata": {},
   "outputs": [],
   "source": []
  },
  {
   "cell_type": "code",
   "execution_count": null,
   "id": "2e5d0351",
   "metadata": {},
   "outputs": [],
   "source": []
  },
  {
   "cell_type": "code",
   "execution_count": null,
   "id": "14679cb9",
   "metadata": {},
   "outputs": [],
   "source": []
  },
  {
   "cell_type": "code",
   "execution_count": null,
   "id": "6853af96",
   "metadata": {},
   "outputs": [],
   "source": []
  }
 ],
 "metadata": {
  "kernelspec": {
   "display_name": "Python 3 (ipykernel)",
   "language": "python",
   "name": "python3"
  },
  "language_info": {
   "codemirror_mode": {
    "name": "ipython",
    "version": 3
   },
   "file_extension": ".py",
   "mimetype": "text/x-python",
   "name": "python",
   "nbconvert_exporter": "python",
   "pygments_lexer": "ipython3",
   "version": "3.8.8"
  }
 },
 "nbformat": 4,
 "nbformat_minor": 5
}
