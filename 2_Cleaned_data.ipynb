{
 "cells": [
  {
   "cell_type": "code",
   "execution_count": 1,
   "id": "0078f665",
   "metadata": {},
   "outputs": [],
   "source": [
    "import numpy as np\n",
    "import pandas as pd\n",
    "import seaborn as sns\n",
    "import matplotlib.pyplot as plt\n",
    "\n",
    "np.random.seed(130298)"
   ]
  },
  {
   "cell_type": "code",
   "execution_count": 2,
   "id": "16111590",
   "metadata": {},
   "outputs": [
    {
     "data": {
      "text/plain": [
       "'/Users/annachiararossi/Documents/Healthcare data/Project/heart failure dataset'"
      ]
     },
     "execution_count": 2,
     "metadata": {},
     "output_type": "execute_result"
    }
   ],
   "source": [
    "%pwd"
   ]
  },
  {
   "cell_type": "markdown",
   "id": "0a66d8e4",
   "metadata": {},
   "source": [
    "# Dataset importing and NAs identification"
   ]
  },
  {
   "cell_type": "markdown",
   "id": "4d91af37",
   "metadata": {},
   "source": [
    "Looking at the variables one at a time, in the notebook \"1_Data preprocessing and cleaning\", we highlighted some values which were likely miswritten. We identified the value 'Unknown' to be recognized as a missing value and same for all patients for which a value of 0 was reported, where it is not physically possible. Also some unlikely values in weight and height will be substituted by missing values, as they represent biased information. For more detailed explanations on these choices, see the notebook previously cited."
   ]
  },
  {
   "cell_type": "code",
   "execution_count": 3,
   "id": "ae074fb1",
   "metadata": {},
   "outputs": [
    {
     "data": {
      "text/html": [
       "<div>\n",
       "<style scoped>\n",
       "    .dataframe tbody tr th:only-of-type {\n",
       "        vertical-align: middle;\n",
       "    }\n",
       "\n",
       "    .dataframe tbody tr th {\n",
       "        vertical-align: top;\n",
       "    }\n",
       "\n",
       "    .dataframe thead th {\n",
       "        text-align: right;\n",
       "    }\n",
       "</style>\n",
       "<table border=\"1\" class=\"dataframe\">\n",
       "  <thead>\n",
       "    <tr style=\"text-align: right;\">\n",
       "      <th></th>\n",
       "      <th>DestinationDischarge</th>\n",
       "      <th>admission.ward</th>\n",
       "      <th>admission.way</th>\n",
       "      <th>occupation</th>\n",
       "      <th>discharge.department</th>\n",
       "      <th>visit.times</th>\n",
       "      <th>gender</th>\n",
       "      <th>body.temperature</th>\n",
       "      <th>pulse</th>\n",
       "      <th>respiration</th>\n",
       "      <th>...</th>\n",
       "      <th>body.temperature.blood.gas</th>\n",
       "      <th>oxygen.saturation</th>\n",
       "      <th>partial.oxygen.pressure</th>\n",
       "      <th>oxyhemoglobin</th>\n",
       "      <th>anion.gap</th>\n",
       "      <th>free.calcium</th>\n",
       "      <th>total.hemoglobin</th>\n",
       "      <th>GCS</th>\n",
       "      <th>dischargeDay</th>\n",
       "      <th>ageCat</th>\n",
       "    </tr>\n",
       "    <tr>\n",
       "      <th>inpatient.number</th>\n",
       "      <th></th>\n",
       "      <th></th>\n",
       "      <th></th>\n",
       "      <th></th>\n",
       "      <th></th>\n",
       "      <th></th>\n",
       "      <th></th>\n",
       "      <th></th>\n",
       "      <th></th>\n",
       "      <th></th>\n",
       "      <th></th>\n",
       "      <th></th>\n",
       "      <th></th>\n",
       "      <th></th>\n",
       "      <th></th>\n",
       "      <th></th>\n",
       "      <th></th>\n",
       "      <th></th>\n",
       "      <th></th>\n",
       "      <th></th>\n",
       "      <th></th>\n",
       "    </tr>\n",
       "  </thead>\n",
       "  <tbody>\n",
       "    <tr>\n",
       "      <th>857781</th>\n",
       "      <td>Home</td>\n",
       "      <td>Cardiology</td>\n",
       "      <td>NonEmergency</td>\n",
       "      <td>UrbanResident</td>\n",
       "      <td>Cardiology</td>\n",
       "      <td>1</td>\n",
       "      <td>Male</td>\n",
       "      <td>36.7</td>\n",
       "      <td>87.0</td>\n",
       "      <td>19.0</td>\n",
       "      <td>...</td>\n",
       "      <td>37.0</td>\n",
       "      <td>97.0</td>\n",
       "      <td>93.0</td>\n",
       "      <td>95.9</td>\n",
       "      <td>17.8</td>\n",
       "      <td>1.14</td>\n",
       "      <td>125.0</td>\n",
       "      <td>15</td>\n",
       "      <td>11</td>\n",
       "      <td>(69,79]</td>\n",
       "    </tr>\n",
       "    <tr>\n",
       "      <th>743087</th>\n",
       "      <td>Home</td>\n",
       "      <td>Cardiology</td>\n",
       "      <td>NonEmergency</td>\n",
       "      <td>UrbanResident</td>\n",
       "      <td>Cardiology</td>\n",
       "      <td>1</td>\n",
       "      <td>Female</td>\n",
       "      <td>36.8</td>\n",
       "      <td>95.0</td>\n",
       "      <td>18.0</td>\n",
       "      <td>...</td>\n",
       "      <td>NaN</td>\n",
       "      <td>NaN</td>\n",
       "      <td>NaN</td>\n",
       "      <td>NaN</td>\n",
       "      <td>NaN</td>\n",
       "      <td>NaN</td>\n",
       "      <td>NaN</td>\n",
       "      <td>15</td>\n",
       "      <td>8</td>\n",
       "      <td>(69,79]</td>\n",
       "    </tr>\n",
       "    <tr>\n",
       "      <th>866418</th>\n",
       "      <td>Home</td>\n",
       "      <td>Cardiology</td>\n",
       "      <td>NonEmergency</td>\n",
       "      <td>farmer</td>\n",
       "      <td>Cardiology</td>\n",
       "      <td>2</td>\n",
       "      <td>Male</td>\n",
       "      <td>36.5</td>\n",
       "      <td>98.0</td>\n",
       "      <td>18.0</td>\n",
       "      <td>...</td>\n",
       "      <td>NaN</td>\n",
       "      <td>NaN</td>\n",
       "      <td>NaN</td>\n",
       "      <td>NaN</td>\n",
       "      <td>NaN</td>\n",
       "      <td>NaN</td>\n",
       "      <td>NaN</td>\n",
       "      <td>15</td>\n",
       "      <td>5</td>\n",
       "      <td>(59,69]</td>\n",
       "    </tr>\n",
       "    <tr>\n",
       "      <th>775928</th>\n",
       "      <td>Home</td>\n",
       "      <td>Cardiology</td>\n",
       "      <td>Emergency</td>\n",
       "      <td>UrbanResident</td>\n",
       "      <td>Cardiology</td>\n",
       "      <td>1</td>\n",
       "      <td>Male</td>\n",
       "      <td>36.0</td>\n",
       "      <td>73.0</td>\n",
       "      <td>19.0</td>\n",
       "      <td>...</td>\n",
       "      <td>NaN</td>\n",
       "      <td>NaN</td>\n",
       "      <td>NaN</td>\n",
       "      <td>NaN</td>\n",
       "      <td>NaN</td>\n",
       "      <td>NaN</td>\n",
       "      <td>NaN</td>\n",
       "      <td>15</td>\n",
       "      <td>11</td>\n",
       "      <td>(69,79]</td>\n",
       "    </tr>\n",
       "    <tr>\n",
       "      <th>810128</th>\n",
       "      <td>Home</td>\n",
       "      <td>Cardiology</td>\n",
       "      <td>NonEmergency</td>\n",
       "      <td>UrbanResident</td>\n",
       "      <td>Cardiology</td>\n",
       "      <td>1</td>\n",
       "      <td>Female</td>\n",
       "      <td>35.0</td>\n",
       "      <td>88.0</td>\n",
       "      <td>19.0</td>\n",
       "      <td>...</td>\n",
       "      <td>NaN</td>\n",
       "      <td>NaN</td>\n",
       "      <td>NaN</td>\n",
       "      <td>NaN</td>\n",
       "      <td>NaN</td>\n",
       "      <td>NaN</td>\n",
       "      <td>NaN</td>\n",
       "      <td>15</td>\n",
       "      <td>5</td>\n",
       "      <td>(69,79]</td>\n",
       "    </tr>\n",
       "  </tbody>\n",
       "</table>\n",
       "<p>5 rows × 165 columns</p>\n",
       "</div>"
      ],
      "text/plain": [
       "                 DestinationDischarge admission.ward admission.way  \\\n",
       "inpatient.number                                                     \n",
       "857781                           Home     Cardiology  NonEmergency   \n",
       "743087                           Home     Cardiology  NonEmergency   \n",
       "866418                           Home     Cardiology  NonEmergency   \n",
       "775928                           Home     Cardiology     Emergency   \n",
       "810128                           Home     Cardiology  NonEmergency   \n",
       "\n",
       "                     occupation discharge.department  visit.times  gender  \\\n",
       "inpatient.number                                                            \n",
       "857781            UrbanResident           Cardiology            1    Male   \n",
       "743087            UrbanResident           Cardiology            1  Female   \n",
       "866418                   farmer           Cardiology            2    Male   \n",
       "775928            UrbanResident           Cardiology            1    Male   \n",
       "810128            UrbanResident           Cardiology            1  Female   \n",
       "\n",
       "                  body.temperature  pulse  respiration  ...  \\\n",
       "inpatient.number                                        ...   \n",
       "857781                        36.7   87.0         19.0  ...   \n",
       "743087                        36.8   95.0         18.0  ...   \n",
       "866418                        36.5   98.0         18.0  ...   \n",
       "775928                        36.0   73.0         19.0  ...   \n",
       "810128                        35.0   88.0         19.0  ...   \n",
       "\n",
       "                  body.temperature.blood.gas  oxygen.saturation  \\\n",
       "inpatient.number                                                  \n",
       "857781                                  37.0               97.0   \n",
       "743087                                   NaN                NaN   \n",
       "866418                                   NaN                NaN   \n",
       "775928                                   NaN                NaN   \n",
       "810128                                   NaN                NaN   \n",
       "\n",
       "                  partial.oxygen.pressure  oxyhemoglobin  anion.gap  \\\n",
       "inpatient.number                                                      \n",
       "857781                               93.0           95.9       17.8   \n",
       "743087                                NaN            NaN        NaN   \n",
       "866418                                NaN            NaN        NaN   \n",
       "775928                                NaN            NaN        NaN   \n",
       "810128                                NaN            NaN        NaN   \n",
       "\n",
       "                  free.calcium total.hemoglobin GCS dischargeDay   ageCat  \n",
       "inpatient.number                                                           \n",
       "857781                    1.14            125.0  15           11  (69,79]  \n",
       "743087                     NaN              NaN  15            8  (69,79]  \n",
       "866418                     NaN              NaN  15            5  (59,69]  \n",
       "775928                     NaN              NaN  15           11  (69,79]  \n",
       "810128                     NaN              NaN  15            5  (69,79]  \n",
       "\n",
       "[5 rows x 165 columns]"
      ]
     },
     "execution_count": 3,
     "metadata": {},
     "output_type": "execute_result"
    }
   ],
   "source": [
    "sentinels={'DestinationDischarge':['Unknown'], 'occupation':['NA'], \n",
    "          'pulse':[0],'respiration':[0], 'systolic.blood.pressure':[0],\n",
    "          'diastolic.blood.pressure':[0], 'map':[0], 'weight':[0,8],\n",
    "           'height':[0.35,0.48,0.6], 'left.ventricular.end.diastolic.diameter.LV':[0]\n",
    "          }\n",
    "\n",
    "df = pd.read_csv('dat.csv', na_values=sentinels)\n",
    "df.drop(columns = ['Unnamed: 0'], inplace = True)\n",
    "df.set_index('inpatient.number', inplace = True)\n",
    "df.head()"
   ]
  },
  {
   "cell_type": "markdown",
   "id": "dc8836fa",
   "metadata": {},
   "source": [
    "We remove the columns with more than 50% of missing values, as no gain would come if we would impute their values due to the quantity."
   ]
  },
  {
   "cell_type": "code",
   "execution_count": 4,
   "id": "f397d30d",
   "metadata": {},
   "outputs": [
    {
     "name": "stdout",
     "output_type": "stream",
     "text": [
      "number of columns dropped: 43\n",
      "Current number of features: 122\n"
     ]
    }
   ],
   "source": [
    "missing_perc = df.isnull().sum()/len(df)\n",
    "columns_missing = df.columns[np.where(missing_perc>0.5)]\n",
    "print(f\"number of columns dropped: {len(columns_missing)}\")\n",
    "data = df.copy()\n",
    "data.drop(columns = list(columns_missing), inplace = True)\n",
    "print(f\"Current number of features: {data.shape[1]}\")"
   ]
  },
  {
   "cell_type": "markdown",
   "id": "ef4fbcac",
   "metadata": {},
   "source": [
    "# Analysis of the variance of the features\n",
    "We want to know if some features have 0 (or almost 0) variance, to exclude them from the models apriori. Indeed, a variable which has no dispersion in its values, cannot be used to explain the variability in another variable. \n",
    "In the previous histplots, we realized that some of the 0/1 categorical variables have very few cases of one of the two categories. The names of these are stored in the list \"col_to_exclude\" and with a variance analysis we will see that their variance is almost 0. We choose $\\tau$ = 0.01 as a threshold."
   ]
  },
  {
   "cell_type": "code",
   "execution_count": 5,
   "id": "3de75b82",
   "metadata": {},
   "outputs": [
    {
     "data": {
      "text/plain": [
       "['height',\n",
       " 'connective.tissue.disease',\n",
       " 'hemiplegia',\n",
       " 'leukemia',\n",
       " 'malignant.lymphoma',\n",
       " 'AIDS',\n",
       " 'acute.renal.failure',\n",
       " 'monocyte.ratio',\n",
       " 'hematocrit',\n",
       " 'basophil.ratio',\n",
       " 'basophil.count',\n",
       " 'eosinophil.ratio',\n",
       " 'platelet.hematocrit',\n",
       " 'hydroxybutyrate.dehydrogenase.to.lactate.dehydrogenase']"
      ]
     },
     "execution_count": 5,
     "metadata": {},
     "output_type": "execute_result"
    }
   ],
   "source": [
    "variance = data.var()\n",
    "col_to_exclude = list(variance[variance < 0.01].index)\n",
    "col_to_exclude"
   ]
  },
  {
   "cell_type": "code",
   "execution_count": 6,
   "id": "d5be54ed",
   "metadata": {
    "scrolled": true
   },
   "outputs": [
    {
     "name": "stdout",
     "output_type": "stream",
     "text": [
      "Current number of features: 108\n"
     ]
    }
   ],
   "source": [
    "data.drop(columns = col_to_exclude, inplace = True)\n",
    "print(f\"Current number of features: {data.shape[1]}\")"
   ]
  },
  {
   "cell_type": "markdown",
   "id": "4fbfcfd9",
   "metadata": {},
   "source": [
    "# Categorical Variables"
   ]
  },
  {
   "cell_type": "markdown",
   "id": "cf91514d",
   "metadata": {},
   "source": [
    "The variable 'visit.times' it's ordinal, and it will be kept as such in the one-hot encoding since its values are numerical. The same goes for 'eye.opening','verbal.response', 'movement', 'GCS' and 'CCI.score', whose meaning is explained in the file \"1_Data preprocessing and cleaning\"."
   ]
  },
  {
   "cell_type": "code",
   "execution_count": 13,
   "id": "7cb68d89",
   "metadata": {
    "scrolled": true
   },
   "outputs": [
    {
     "data": {
      "text/plain": [
       "0.009462151394422311"
      ]
     },
     "execution_count": 13,
     "metadata": {},
     "output_type": "execute_result"
    }
   ],
   "source": [
    "data['GCS'][data['GCS']<=8].value_counts().sum()/data['GCS'].shape[0] "
   ]
  },
  {
   "cell_type": "code",
   "execution_count": 16,
   "id": "80d694ec",
   "metadata": {},
   "outputs": [],
   "source": [
    "#data['CCI.score'] = data['CCI.score'].astype(int)\n",
    "### Prima occorre fillare i missing values o eliminare le righe corrispondenti (sono solo 3)"
   ]
  },
  {
   "cell_type": "markdown",
   "id": "0c00e15d",
   "metadata": {},
   "source": [
    "Also notice that we will distinguish categorical and binary vairables, as the latter do not need one-hot encoding. This will be an advantage since less columns will be required."
   ]
  },
  {
   "cell_type": "code",
   "execution_count": 23,
   "id": "08fb20c0",
   "metadata": {},
   "outputs": [],
   "source": [
    "categorical_columns = ['DestinationDischarge','admission.ward','admission.way','occupation','discharge.department',\n",
    "                       'type.of.heart.failure', 'NYHA.cardiac.function.classification', 'Killip.grade',\n",
    "                       'consciousness', 'outcome.during.hospitalization','ageCat']\n",
    "\n",
    "ordinal_columns = ['visit.times', 'CCI.score', 'eye.opening','verbal.response', 'movement', 'GCS']\n",
    "\n",
    "not_continuous = categorical_columns.copy()\n",
    "\n",
    "binary_columns = ['gender', 'myocardial.infarction', 'congestive.heart.failure', 'peripheral.vascular.disease',\n",
    "                  'cerebrovascular.disease', 'dementia', 'Chronic.obstructive.pulmonary.disease',\n",
    "                  'peptic.ulcer.disease', 'diabetes', 'moderate.to.severe.chronic.kidney.disease',\n",
    "                  'solid.tumor', 'liver.disease', 'type.II.respiratory.failure', 'oxygen.inhalation', 'death.within.28.days', 're.admission.within.28.days', \n",
    "                  'death.within.3.months','re.admission.within.3.months', 'death.within.6.months', 're.admission.within.6.months',\n",
    "                  'return.to.emergency.department.within.6.months','respiratory.support.']\n",
    "# NB 'respiratory.support.' is in the binary variables because we will rebin it in 0/1\n",
    "\n",
    "not_continuous.extend(binary_columns)\n",
    "not_continuous.extend(ordinal_columns)"
   ]
  },
  {
   "cell_type": "code",
   "execution_count": 24,
   "id": "63c5697c",
   "metadata": {
    "scrolled": false
   },
   "outputs": [],
   "source": [
    "# list of the columns with continuous variables, all those not included in the previous\n",
    "continuous_columns = [col_name for col_name in data.columns if col_name not in not_continuous]"
   ]
  },
  {
   "cell_type": "markdown",
   "id": "64a86e41",
   "metadata": {},
   "source": [
    "## One-hot encoding"
   ]
  },
  {
   "cell_type": "code",
   "execution_count": 27,
   "id": "74a9847c",
   "metadata": {},
   "outputs": [],
   "source": [
    "# convert to categorical\n",
    "cat_data = data[categorical_columns]\n",
    "cat_data = pd.get_dummies(cat_data)"
   ]
  },
  {
   "cell_type": "code",
   "execution_count": 28,
   "id": "e9b5cbce",
   "metadata": {},
   "outputs": [
    {
     "data": {
      "text/html": [
       "<div>\n",
       "<style scoped>\n",
       "    .dataframe tbody tr th:only-of-type {\n",
       "        vertical-align: middle;\n",
       "    }\n",
       "\n",
       "    .dataframe tbody tr th {\n",
       "        vertical-align: top;\n",
       "    }\n",
       "\n",
       "    .dataframe thead th {\n",
       "        text-align: right;\n",
       "    }\n",
       "</style>\n",
       "<table border=\"1\" class=\"dataframe\">\n",
       "  <thead>\n",
       "    <tr style=\"text-align: right;\">\n",
       "      <th></th>\n",
       "      <th>body.temperature</th>\n",
       "      <th>pulse</th>\n",
       "      <th>respiration</th>\n",
       "      <th>systolic.blood.pressure</th>\n",
       "      <th>diastolic.blood.pressure</th>\n",
       "      <th>map</th>\n",
       "      <th>weight</th>\n",
       "      <th>BMI</th>\n",
       "      <th>fio2</th>\n",
       "      <th>left.ventricular.end.diastolic.diameter.LV</th>\n",
       "      <th>...</th>\n",
       "      <th>outcome.during.hospitalization_Dead</th>\n",
       "      <th>outcome.during.hospitalization_DischargeAgainstOrder</th>\n",
       "      <th>ageCat_(21,29]</th>\n",
       "      <th>ageCat_(29,39]</th>\n",
       "      <th>ageCat_(39,49]</th>\n",
       "      <th>ageCat_(49,59]</th>\n",
       "      <th>ageCat_(59,69]</th>\n",
       "      <th>ageCat_(69,79]</th>\n",
       "      <th>ageCat_(79,89]</th>\n",
       "      <th>ageCat_(89,110]</th>\n",
       "    </tr>\n",
       "    <tr>\n",
       "      <th>inpatient.number</th>\n",
       "      <th></th>\n",
       "      <th></th>\n",
       "      <th></th>\n",
       "      <th></th>\n",
       "      <th></th>\n",
       "      <th></th>\n",
       "      <th></th>\n",
       "      <th></th>\n",
       "      <th></th>\n",
       "      <th></th>\n",
       "      <th></th>\n",
       "      <th></th>\n",
       "      <th></th>\n",
       "      <th></th>\n",
       "      <th></th>\n",
       "      <th></th>\n",
       "      <th></th>\n",
       "      <th></th>\n",
       "      <th></th>\n",
       "      <th></th>\n",
       "      <th></th>\n",
       "    </tr>\n",
       "  </thead>\n",
       "  <tbody>\n",
       "    <tr>\n",
       "      <th>857781</th>\n",
       "      <td>36.7</td>\n",
       "      <td>87.0</td>\n",
       "      <td>19.0</td>\n",
       "      <td>102.0</td>\n",
       "      <td>64.0</td>\n",
       "      <td>76.666667</td>\n",
       "      <td>50.0</td>\n",
       "      <td>18.590125</td>\n",
       "      <td>33</td>\n",
       "      <td>NaN</td>\n",
       "      <td>...</td>\n",
       "      <td>0</td>\n",
       "      <td>0</td>\n",
       "      <td>0</td>\n",
       "      <td>0</td>\n",
       "      <td>0</td>\n",
       "      <td>0</td>\n",
       "      <td>0</td>\n",
       "      <td>1</td>\n",
       "      <td>0</td>\n",
       "      <td>0</td>\n",
       "    </tr>\n",
       "    <tr>\n",
       "      <th>743087</th>\n",
       "      <td>36.8</td>\n",
       "      <td>95.0</td>\n",
       "      <td>18.0</td>\n",
       "      <td>150.0</td>\n",
       "      <td>70.0</td>\n",
       "      <td>96.666667</td>\n",
       "      <td>51.0</td>\n",
       "      <td>19.195303</td>\n",
       "      <td>33</td>\n",
       "      <td>40.0</td>\n",
       "      <td>...</td>\n",
       "      <td>0</td>\n",
       "      <td>0</td>\n",
       "      <td>0</td>\n",
       "      <td>0</td>\n",
       "      <td>0</td>\n",
       "      <td>0</td>\n",
       "      <td>0</td>\n",
       "      <td>1</td>\n",
       "      <td>0</td>\n",
       "      <td>0</td>\n",
       "    </tr>\n",
       "    <tr>\n",
       "      <th>866418</th>\n",
       "      <td>36.5</td>\n",
       "      <td>98.0</td>\n",
       "      <td>18.0</td>\n",
       "      <td>102.0</td>\n",
       "      <td>67.0</td>\n",
       "      <td>78.666667</td>\n",
       "      <td>70.0</td>\n",
       "      <td>24.221453</td>\n",
       "      <td>33</td>\n",
       "      <td>46.0</td>\n",
       "      <td>...</td>\n",
       "      <td>0</td>\n",
       "      <td>0</td>\n",
       "      <td>0</td>\n",
       "      <td>0</td>\n",
       "      <td>0</td>\n",
       "      <td>0</td>\n",
       "      <td>1</td>\n",
       "      <td>0</td>\n",
       "      <td>0</td>\n",
       "      <td>0</td>\n",
       "    </tr>\n",
       "    <tr>\n",
       "      <th>775928</th>\n",
       "      <td>36.0</td>\n",
       "      <td>73.0</td>\n",
       "      <td>19.0</td>\n",
       "      <td>110.0</td>\n",
       "      <td>74.0</td>\n",
       "      <td>86.000000</td>\n",
       "      <td>65.0</td>\n",
       "      <td>22.491349</td>\n",
       "      <td>33</td>\n",
       "      <td>NaN</td>\n",
       "      <td>...</td>\n",
       "      <td>0</td>\n",
       "      <td>0</td>\n",
       "      <td>0</td>\n",
       "      <td>0</td>\n",
       "      <td>0</td>\n",
       "      <td>0</td>\n",
       "      <td>0</td>\n",
       "      <td>1</td>\n",
       "      <td>0</td>\n",
       "      <td>0</td>\n",
       "    </tr>\n",
       "    <tr>\n",
       "      <th>810128</th>\n",
       "      <td>35.0</td>\n",
       "      <td>88.0</td>\n",
       "      <td>19.0</td>\n",
       "      <td>134.0</td>\n",
       "      <td>62.0</td>\n",
       "      <td>86.000000</td>\n",
       "      <td>76.0</td>\n",
       "      <td>31.633715</td>\n",
       "      <td>33</td>\n",
       "      <td>64.0</td>\n",
       "      <td>...</td>\n",
       "      <td>0</td>\n",
       "      <td>0</td>\n",
       "      <td>0</td>\n",
       "      <td>0</td>\n",
       "      <td>0</td>\n",
       "      <td>0</td>\n",
       "      <td>0</td>\n",
       "      <td>1</td>\n",
       "      <td>0</td>\n",
       "      <td>0</td>\n",
       "    </tr>\n",
       "    <tr>\n",
       "      <th>...</th>\n",
       "      <td>...</td>\n",
       "      <td>...</td>\n",
       "      <td>...</td>\n",
       "      <td>...</td>\n",
       "      <td>...</td>\n",
       "      <td>...</td>\n",
       "      <td>...</td>\n",
       "      <td>...</td>\n",
       "      <td>...</td>\n",
       "      <td>...</td>\n",
       "      <td>...</td>\n",
       "      <td>...</td>\n",
       "      <td>...</td>\n",
       "      <td>...</td>\n",
       "      <td>...</td>\n",
       "      <td>...</td>\n",
       "      <td>...</td>\n",
       "      <td>...</td>\n",
       "      <td>...</td>\n",
       "      <td>...</td>\n",
       "      <td>...</td>\n",
       "    </tr>\n",
       "    <tr>\n",
       "      <th>740689</th>\n",
       "      <td>36.1</td>\n",
       "      <td>117.0</td>\n",
       "      <td>22.0</td>\n",
       "      <td>120.0</td>\n",
       "      <td>80.0</td>\n",
       "      <td>93.333333</td>\n",
       "      <td>35.0</td>\n",
       "      <td>15.555556</td>\n",
       "      <td>33</td>\n",
       "      <td>NaN</td>\n",
       "      <td>...</td>\n",
       "      <td>0</td>\n",
       "      <td>1</td>\n",
       "      <td>0</td>\n",
       "      <td>0</td>\n",
       "      <td>0</td>\n",
       "      <td>0</td>\n",
       "      <td>0</td>\n",
       "      <td>0</td>\n",
       "      <td>1</td>\n",
       "      <td>0</td>\n",
       "    </tr>\n",
       "    <tr>\n",
       "      <th>734280</th>\n",
       "      <td>36.3</td>\n",
       "      <td>70.0</td>\n",
       "      <td>21.0</td>\n",
       "      <td>120.0</td>\n",
       "      <td>86.0</td>\n",
       "      <td>97.333333</td>\n",
       "      <td>50.0</td>\n",
       "      <td>20.811655</td>\n",
       "      <td>29</td>\n",
       "      <td>NaN</td>\n",
       "      <td>...</td>\n",
       "      <td>0</td>\n",
       "      <td>0</td>\n",
       "      <td>0</td>\n",
       "      <td>0</td>\n",
       "      <td>0</td>\n",
       "      <td>0</td>\n",
       "      <td>0</td>\n",
       "      <td>0</td>\n",
       "      <td>1</td>\n",
       "      <td>0</td>\n",
       "    </tr>\n",
       "    <tr>\n",
       "      <th>781004</th>\n",
       "      <td>36.8</td>\n",
       "      <td>113.0</td>\n",
       "      <td>19.0</td>\n",
       "      <td>135.0</td>\n",
       "      <td>100.0</td>\n",
       "      <td>111.666667</td>\n",
       "      <td>75.0</td>\n",
       "      <td>25.951557</td>\n",
       "      <td>33</td>\n",
       "      <td>NaN</td>\n",
       "      <td>...</td>\n",
       "      <td>0</td>\n",
       "      <td>0</td>\n",
       "      <td>0</td>\n",
       "      <td>0</td>\n",
       "      <td>1</td>\n",
       "      <td>0</td>\n",
       "      <td>0</td>\n",
       "      <td>0</td>\n",
       "      <td>0</td>\n",
       "      <td>0</td>\n",
       "    </tr>\n",
       "    <tr>\n",
       "      <th>744870</th>\n",
       "      <td>36.4</td>\n",
       "      <td>134.0</td>\n",
       "      <td>19.0</td>\n",
       "      <td>92.0</td>\n",
       "      <td>72.0</td>\n",
       "      <td>78.666667</td>\n",
       "      <td>40.0</td>\n",
       "      <td>17.777778</td>\n",
       "      <td>41</td>\n",
       "      <td>NaN</td>\n",
       "      <td>...</td>\n",
       "      <td>0</td>\n",
       "      <td>1</td>\n",
       "      <td>0</td>\n",
       "      <td>0</td>\n",
       "      <td>0</td>\n",
       "      <td>1</td>\n",
       "      <td>0</td>\n",
       "      <td>0</td>\n",
       "      <td>0</td>\n",
       "      <td>0</td>\n",
       "    </tr>\n",
       "    <tr>\n",
       "      <th>791864</th>\n",
       "      <td>36.3</td>\n",
       "      <td>100.0</td>\n",
       "      <td>19.0</td>\n",
       "      <td>142.0</td>\n",
       "      <td>80.0</td>\n",
       "      <td>100.666667</td>\n",
       "      <td>45.0</td>\n",
       "      <td>18.730489</td>\n",
       "      <td>33</td>\n",
       "      <td>NaN</td>\n",
       "      <td>...</td>\n",
       "      <td>0</td>\n",
       "      <td>0</td>\n",
       "      <td>0</td>\n",
       "      <td>0</td>\n",
       "      <td>0</td>\n",
       "      <td>0</td>\n",
       "      <td>0</td>\n",
       "      <td>0</td>\n",
       "      <td>1</td>\n",
       "      <td>0</td>\n",
       "    </tr>\n",
       "  </tbody>\n",
       "</table>\n",
       "<p>2008 rows × 140 columns</p>\n",
       "</div>"
      ],
      "text/plain": [
       "                  body.temperature  pulse  respiration  \\\n",
       "inpatient.number                                         \n",
       "857781                        36.7   87.0         19.0   \n",
       "743087                        36.8   95.0         18.0   \n",
       "866418                        36.5   98.0         18.0   \n",
       "775928                        36.0   73.0         19.0   \n",
       "810128                        35.0   88.0         19.0   \n",
       "...                            ...    ...          ...   \n",
       "740689                        36.1  117.0         22.0   \n",
       "734280                        36.3   70.0         21.0   \n",
       "781004                        36.8  113.0         19.0   \n",
       "744870                        36.4  134.0         19.0   \n",
       "791864                        36.3  100.0         19.0   \n",
       "\n",
       "                  systolic.blood.pressure  diastolic.blood.pressure  \\\n",
       "inpatient.number                                                      \n",
       "857781                              102.0                      64.0   \n",
       "743087                              150.0                      70.0   \n",
       "866418                              102.0                      67.0   \n",
       "775928                              110.0                      74.0   \n",
       "810128                              134.0                      62.0   \n",
       "...                                   ...                       ...   \n",
       "740689                              120.0                      80.0   \n",
       "734280                              120.0                      86.0   \n",
       "781004                              135.0                     100.0   \n",
       "744870                               92.0                      72.0   \n",
       "791864                              142.0                      80.0   \n",
       "\n",
       "                         map  weight        BMI  fio2  \\\n",
       "inpatient.number                                        \n",
       "857781             76.666667    50.0  18.590125    33   \n",
       "743087             96.666667    51.0  19.195303    33   \n",
       "866418             78.666667    70.0  24.221453    33   \n",
       "775928             86.000000    65.0  22.491349    33   \n",
       "810128             86.000000    76.0  31.633715    33   \n",
       "...                      ...     ...        ...   ...   \n",
       "740689             93.333333    35.0  15.555556    33   \n",
       "734280             97.333333    50.0  20.811655    29   \n",
       "781004            111.666667    75.0  25.951557    33   \n",
       "744870             78.666667    40.0  17.777778    41   \n",
       "791864            100.666667    45.0  18.730489    33   \n",
       "\n",
       "                  left.ventricular.end.diastolic.diameter.LV  ...  \\\n",
       "inpatient.number                                              ...   \n",
       "857781                                                   NaN  ...   \n",
       "743087                                                  40.0  ...   \n",
       "866418                                                  46.0  ...   \n",
       "775928                                                   NaN  ...   \n",
       "810128                                                  64.0  ...   \n",
       "...                                                      ...  ...   \n",
       "740689                                                   NaN  ...   \n",
       "734280                                                   NaN  ...   \n",
       "781004                                                   NaN  ...   \n",
       "744870                                                   NaN  ...   \n",
       "791864                                                   NaN  ...   \n",
       "\n",
       "                  outcome.during.hospitalization_Dead  \\\n",
       "inpatient.number                                        \n",
       "857781                                              0   \n",
       "743087                                              0   \n",
       "866418                                              0   \n",
       "775928                                              0   \n",
       "810128                                              0   \n",
       "...                                               ...   \n",
       "740689                                              0   \n",
       "734280                                              0   \n",
       "781004                                              0   \n",
       "744870                                              0   \n",
       "791864                                              0   \n",
       "\n",
       "                  outcome.during.hospitalization_DischargeAgainstOrder  \\\n",
       "inpatient.number                                                         \n",
       "857781                                                            0      \n",
       "743087                                                            0      \n",
       "866418                                                            0      \n",
       "775928                                                            0      \n",
       "810128                                                            0      \n",
       "...                                                             ...      \n",
       "740689                                                            1      \n",
       "734280                                                            0      \n",
       "781004                                                            0      \n",
       "744870                                                            1      \n",
       "791864                                                            0      \n",
       "\n",
       "                  ageCat_(21,29]  ageCat_(29,39]  ageCat_(39,49]  \\\n",
       "inpatient.number                                                   \n",
       "857781                         0               0               0   \n",
       "743087                         0               0               0   \n",
       "866418                         0               0               0   \n",
       "775928                         0               0               0   \n",
       "810128                         0               0               0   \n",
       "...                          ...             ...             ...   \n",
       "740689                         0               0               0   \n",
       "734280                         0               0               0   \n",
       "781004                         0               0               1   \n",
       "744870                         0               0               0   \n",
       "791864                         0               0               0   \n",
       "\n",
       "                  ageCat_(49,59]  ageCat_(59,69]  ageCat_(69,79]  \\\n",
       "inpatient.number                                                   \n",
       "857781                         0               0               1   \n",
       "743087                         0               0               1   \n",
       "866418                         0               1               0   \n",
       "775928                         0               0               1   \n",
       "810128                         0               0               1   \n",
       "...                          ...             ...             ...   \n",
       "740689                         0               0               0   \n",
       "734280                         0               0               0   \n",
       "781004                         0               0               0   \n",
       "744870                         1               0               0   \n",
       "791864                         0               0               0   \n",
       "\n",
       "                  ageCat_(79,89]  ageCat_(89,110]  \n",
       "inpatient.number                                   \n",
       "857781                         0                0  \n",
       "743087                         0                0  \n",
       "866418                         0                0  \n",
       "775928                         0                0  \n",
       "810128                         0                0  \n",
       "...                          ...              ...  \n",
       "740689                         1                0  \n",
       "734280                         1                0  \n",
       "781004                         0                0  \n",
       "744870                         0                0  \n",
       "791864                         1                0  \n",
       "\n",
       "[2008 rows x 140 columns]"
      ]
     },
     "execution_count": 28,
     "metadata": {},
     "output_type": "execute_result"
    }
   ],
   "source": [
    "# not_cat should contain both continuous, binary and ordinal variables\n",
    "not_cat = continuous_columns.copy()\n",
    "not_cat.extend(binary_columns)\n",
    "not_cat.extend(ordinal_columns)\n",
    "\n",
    "data_new = data[not_cat].join(cat_data)\n",
    "data_new  # data containing the dummies for algorithms"
   ]
  },
  {
   "cell_type": "markdown",
   "id": "433fbd61",
   "metadata": {},
   "source": [
    "## Binary variables to {0,1}"
   ]
  },
  {
   "cell_type": "code",
   "execution_count": 50,
   "id": "ad80e54b",
   "metadata": {},
   "outputs": [
    {
     "data": {
      "text/plain": [
       "NonTypeII    1894\n",
       "TypeII        114\n",
       "Name: type.II.respiratory.failure, dtype: int64"
      ]
     },
     "execution_count": 50,
     "metadata": {},
     "output_type": "execute_result"
    }
   ],
   "source": [
    "data['type.II.respiratory.failure'].value_counts()"
   ]
  },
  {
   "cell_type": "code",
   "execution_count": 49,
   "id": "2281a02a",
   "metadata": {
    "scrolled": true
   },
   "outputs": [
    {
     "data": {
      "text/plain": [
       "114"
      ]
     },
     "execution_count": 49,
     "metadata": {},
     "output_type": "execute_result"
    }
   ],
   "source": [
    "data_new['type.II.respiratory.failure'] = [1 if elem=='TypeII' else 0 for elem in data['type.II.respiratory.failure']]"
   ]
  },
  {
   "cell_type": "code",
   "execution_count": 51,
   "id": "faf153a0",
   "metadata": {},
   "outputs": [
    {
     "data": {
      "text/plain": [
       "Female    1163\n",
       "Male       845\n",
       "Name: gender, dtype: int64"
      ]
     },
     "execution_count": 51,
     "metadata": {},
     "output_type": "execute_result"
    }
   ],
   "source": [
    "data['gender'].value_counts()"
   ]
  },
  {
   "cell_type": "code",
   "execution_count": 52,
   "id": "4336dfc6",
   "metadata": {},
   "outputs": [],
   "source": [
    "data_new['gender'] = [1 if elem=='Male' else 0 for elem in data['gender']]"
   ]
  },
  {
   "cell_type": "code",
   "execution_count": 54,
   "id": "d876a149",
   "metadata": {},
   "outputs": [
    {
     "data": {
      "text/plain": [
       "OxygenTherapy    1898\n",
       "AmbientAir        110\n",
       "Name: oxygen.inhalation, dtype: int64"
      ]
     },
     "execution_count": 54,
     "metadata": {},
     "output_type": "execute_result"
    }
   ],
   "source": [
    "data['oxygen.inhalation'].value_counts()"
   ]
  },
  {
   "cell_type": "code",
   "execution_count": 55,
   "id": "5a3dc985",
   "metadata": {},
   "outputs": [],
   "source": [
    "data_new['oxygen.inhalation'] = [1 if elem=='AmbientAir' else 0 for elem in data['oxygen.inhalation']]"
   ]
  },
  {
   "cell_type": "markdown",
   "id": "b216e1d3",
   "metadata": {},
   "source": [
    "## Rebinning some categorical variables"
   ]
  },
  {
   "cell_type": "code",
   "execution_count": 57,
   "id": "02985761",
   "metadata": {
    "scrolled": true
   },
   "outputs": [
    {
     "data": {
      "text/plain": [
       "None    1966\n",
       "IMV       25\n",
       "NIMV      17\n",
       "Name: respiratory.support., dtype: int64"
      ]
     },
     "execution_count": 57,
     "metadata": {},
     "output_type": "execute_result"
    }
   ],
   "source": [
    "# 0: None\n",
    "# 1: mandatory ventilation (intermittent or not)\n",
    "data['respiratory.support.'].value_counts()"
   ]
  },
  {
   "cell_type": "code",
   "execution_count": 58,
   "id": "39f8fe8c",
   "metadata": {},
   "outputs": [],
   "source": [
    "new_col = data['respiratory.support.'].copy()\n",
    "new_col[new_col == 'None'] = 0\n",
    "new_col[new_col == 'IMV'] = 1\n",
    "new_col[new_col == 'NIMV'] = 1"
   ]
  },
  {
   "cell_type": "markdown",
   "id": "23934388",
   "metadata": {},
   "source": [
    "Now we substitute the previous column with these values."
   ]
  },
  {
   "cell_type": "code",
   "execution_count": 59,
   "id": "a362c415",
   "metadata": {},
   "outputs": [],
   "source": [
    "data_new['respiratory.support.'] = new_col"
   ]
  },
  {
   "cell_type": "markdown",
   "id": "8780bab3",
   "metadata": {},
   "source": [
    "# Continuous variables and correlation analysis"
   ]
  },
  {
   "cell_type": "markdown",
   "id": "719f97a3",
   "metadata": {},
   "source": [
    "We will plot the correlation matrix just to have an idea of the possible groups of features that have a high (positive or negative) correlation. But clearly there are too many continuous variables to get a clear understading from this."
   ]
  },
  {
   "cell_type": "code",
   "execution_count": 28,
   "id": "161657f8",
   "metadata": {},
   "outputs": [
    {
     "data": {
      "image/png": "[encoded data removed]",
      "text/plain": [
       "<Figure size 720x576 with 2 Axes>"
      ]
     },
     "metadata": {
      "needs_background": "light"
     },
     "output_type": "display_data"
    }
   ],
   "source": [
    "plt.figure(figsize=(10,8))\n",
    "cor_matrix = data[continuous_columns].corr()\n",
    "\n",
    "mask = np.tril(np.ones_like(cor_matrix, dtype=bool))\n",
    "sns.heatmap(cor_matrix, mask = mask, xticklabels = False, yticklabels = False, vmin=-1, vmax=1, center = 0,\n",
    "            cmap=sns.diverging_palette(20, 220, n=200))\n",
    "plt.show()"
   ]
  },
  {
   "cell_type": "code",
   "execution_count": 29,
   "id": "2273eea9",
   "metadata": {},
   "outputs": [],
   "source": [
    "highly_corr_features = np.where(np.abs(cor_matrix) > 0.9)\n",
    "coupled_features = zip(highly_corr_features[0],highly_corr_features[1])\n",
    "\n",
    "ls = []\n",
    "ls_names = []\n",
    "# list of tuples of correlated features -- recover the names from correlation matrix\n",
    "for elem1,elem2 in coupled_features:\n",
    "    # exclude the couples with the same feature (corr = 1) and the couple already present in the list\n",
    "    if elem1 != elem2 and (elem2,elem1) not in ls:\n",
    "        ls.append((elem1,elem2))\n",
    "        ls_names.append((cor_matrix.iloc[:,elem1].name,cor_matrix.iloc[:,elem2].name))"
   ]
  },
  {
   "cell_type": "code",
   "execution_count": 30,
   "id": "9f433a2b",
   "metadata": {
    "scrolled": true
   },
   "outputs": [
    {
     "data": {
      "text/plain": [
       "[(5, 6), (17, 32), (22, 24), (34, 38), (47, 51), (59, 63), (62, 63)]"
      ]
     },
     "execution_count": 30,
     "metadata": {},
     "output_type": "execute_result"
    }
   ],
   "source": [
    "ls"
   ]
  },
  {
   "cell_type": "code",
   "execution_count": 31,
   "id": "c261aa35",
   "metadata": {
    "scrolled": true
   },
   "outputs": [
    {
     "data": {
      "text/plain": [
       "[('diastolic.blood.pressure', 'map'),\n",
       " ('white.blood.cell', 'neutrophil.count'),\n",
       " ('mean.corpuscular.volume', 'mean.hemoglobin.volume'),\n",
       " ('international.normalized.ratio', 'prothrombin.time.ratio'),\n",
       " ('hydroxybutyrate.dehydrogenase', 'lactate.dehydrogenase'),\n",
       " ('indirect.bilirubin', 'total.bilirubin'),\n",
       " ('direct.bilirubin', 'total.bilirubin')]"
      ]
     },
     "execution_count": 31,
     "metadata": {},
     "output_type": "execute_result"
    }
   ],
   "source": [
    "ls_names"
   ]
  },
  {
   "cell_type": "markdown",
   "id": "ad27e5fd",
   "metadata": {},
   "source": [
    "### Analysis of the highly correlated features:"
   ]
  },
  {
   "cell_type": "code",
   "execution_count": 32,
   "id": "d3f9dece",
   "metadata": {},
   "outputs": [
    {
     "data": {
      "text/html": [
       "<div>\n",
       "<style scoped>\n",
       "    .dataframe tbody tr th:only-of-type {\n",
       "        vertical-align: middle;\n",
       "    }\n",
       "\n",
       "    .dataframe tbody tr th {\n",
       "        vertical-align: top;\n",
       "    }\n",
       "\n",
       "    .dataframe thead th {\n",
       "        text-align: right;\n",
       "    }\n",
       "</style>\n",
       "<table border=\"1\" class=\"dataframe\">\n",
       "  <thead>\n",
       "    <tr style=\"text-align: right;\">\n",
       "      <th></th>\n",
       "      <th>diastolic.blood.pressure</th>\n",
       "      <th>map</th>\n",
       "    </tr>\n",
       "  </thead>\n",
       "  <tbody>\n",
       "    <tr>\n",
       "      <th>diastolic.blood.pressure</th>\n",
       "      <td>1.000000</td>\n",
       "      <td>0.922416</td>\n",
       "    </tr>\n",
       "    <tr>\n",
       "      <th>map</th>\n",
       "      <td>0.922416</td>\n",
       "      <td>1.000000</td>\n",
       "    </tr>\n",
       "  </tbody>\n",
       "</table>\n",
       "</div>"
      ],
      "text/plain": [
       "                          diastolic.blood.pressure       map\n",
       "diastolic.blood.pressure                  1.000000  0.922416\n",
       "map                                       0.922416  1.000000"
      ]
     },
     "execution_count": 32,
     "metadata": {},
     "output_type": "execute_result"
    },
    {
     "data": {
      "text/plain": [
       "<Figure size 720x576 with 0 Axes>"
      ]
     },
     "metadata": {},
     "output_type": "display_data"
    }
   ],
   "source": [
    "plt.figure(figsize=(10,8))\n",
    "cor_matrix = data.loc[:,['diastolic.blood.pressure', 'map']].corr()\n",
    "cor_matrix"
   ]
  },
  {
   "cell_type": "markdown",
   "id": "7c91883e",
   "metadata": {},
   "source": [
    "I'd keep the feature 'map' (Mean Arterial Pressure) since it synthesises the systolic and dyastolic blood pressures."
   ]
  },
  {
   "cell_type": "code",
   "execution_count": 33,
   "id": "524edb6d",
   "metadata": {},
   "outputs": [
    {
     "data": {
      "text/html": [
       "<div>\n",
       "<style scoped>\n",
       "    .dataframe tbody tr th:only-of-type {\n",
       "        vertical-align: middle;\n",
       "    }\n",
       "\n",
       "    .dataframe tbody tr th {\n",
       "        vertical-align: top;\n",
       "    }\n",
       "\n",
       "    .dataframe thead th {\n",
       "        text-align: right;\n",
       "    }\n",
       "</style>\n",
       "<table border=\"1\" class=\"dataframe\">\n",
       "  <thead>\n",
       "    <tr style=\"text-align: right;\">\n",
       "      <th></th>\n",
       "      <th>white.blood.cell</th>\n",
       "      <th>neutrophil.count</th>\n",
       "    </tr>\n",
       "  </thead>\n",
       "  <tbody>\n",
       "    <tr>\n",
       "      <th>white.blood.cell</th>\n",
       "      <td>1.000000</td>\n",
       "      <td>0.975485</td>\n",
       "    </tr>\n",
       "    <tr>\n",
       "      <th>neutrophil.count</th>\n",
       "      <td>0.975485</td>\n",
       "      <td>1.000000</td>\n",
       "    </tr>\n",
       "  </tbody>\n",
       "</table>\n",
       "</div>"
      ],
      "text/plain": [
       "                  white.blood.cell  neutrophil.count\n",
       "white.blood.cell          1.000000          0.975485\n",
       "neutrophil.count          0.975485          1.000000"
      ]
     },
     "execution_count": 33,
     "metadata": {},
     "output_type": "execute_result"
    }
   ],
   "source": [
    "cor_matrix = data.loc[:,['white.blood.cell', 'neutrophil.count']].corr()\n",
    "cor_matrix"
   ]
  },
  {
   "cell_type": "code",
   "execution_count": 34,
   "id": "90b83011",
   "metadata": {},
   "outputs": [
    {
     "data": {
      "text/html": [
       "<div>\n",
       "<style scoped>\n",
       "    .dataframe tbody tr th:only-of-type {\n",
       "        vertical-align: middle;\n",
       "    }\n",
       "\n",
       "    .dataframe tbody tr th {\n",
       "        vertical-align: top;\n",
       "    }\n",
       "\n",
       "    .dataframe thead th {\n",
       "        text-align: right;\n",
       "    }\n",
       "</style>\n",
       "<table border=\"1\" class=\"dataframe\">\n",
       "  <thead>\n",
       "    <tr style=\"text-align: right;\">\n",
       "      <th></th>\n",
       "      <th>mean.corpuscular.volume</th>\n",
       "      <th>mean.hemoglobin.volume</th>\n",
       "    </tr>\n",
       "  </thead>\n",
       "  <tbody>\n",
       "    <tr>\n",
       "      <th>mean.corpuscular.volume</th>\n",
       "      <td>1.000000</td>\n",
       "      <td>0.940614</td>\n",
       "    </tr>\n",
       "    <tr>\n",
       "      <th>mean.hemoglobin.volume</th>\n",
       "      <td>0.940614</td>\n",
       "      <td>1.000000</td>\n",
       "    </tr>\n",
       "  </tbody>\n",
       "</table>\n",
       "</div>"
      ],
      "text/plain": [
       "                         mean.corpuscular.volume  mean.hemoglobin.volume\n",
       "mean.corpuscular.volume                 1.000000                0.940614\n",
       "mean.hemoglobin.volume                  0.940614                1.000000"
      ]
     },
     "execution_count": 34,
     "metadata": {},
     "output_type": "execute_result"
    }
   ],
   "source": [
    "cor_matrix = data.loc[:,['mean.corpuscular.volume', 'mean.hemoglobin.volume']].corr()\n",
    "cor_matrix"
   ]
  },
  {
   "cell_type": "code",
   "execution_count": 35,
   "id": "edf83877",
   "metadata": {},
   "outputs": [
    {
     "data": {
      "text/html": [
       "<div>\n",
       "<style scoped>\n",
       "    .dataframe tbody tr th:only-of-type {\n",
       "        vertical-align: middle;\n",
       "    }\n",
       "\n",
       "    .dataframe tbody tr th {\n",
       "        vertical-align: top;\n",
       "    }\n",
       "\n",
       "    .dataframe thead th {\n",
       "        text-align: right;\n",
       "    }\n",
       "</style>\n",
       "<table border=\"1\" class=\"dataframe\">\n",
       "  <thead>\n",
       "    <tr style=\"text-align: right;\">\n",
       "      <th></th>\n",
       "      <th>international.normalized.ratio</th>\n",
       "      <th>prothrombin.time.ratio</th>\n",
       "    </tr>\n",
       "  </thead>\n",
       "  <tbody>\n",
       "    <tr>\n",
       "      <th>international.normalized.ratio</th>\n",
       "      <td>1.000000</td>\n",
       "      <td>0.997028</td>\n",
       "    </tr>\n",
       "    <tr>\n",
       "      <th>prothrombin.time.ratio</th>\n",
       "      <td>0.997028</td>\n",
       "      <td>1.000000</td>\n",
       "    </tr>\n",
       "  </tbody>\n",
       "</table>\n",
       "</div>"
      ],
      "text/plain": [
       "                                international.normalized.ratio  \\\n",
       "international.normalized.ratio                        1.000000   \n",
       "prothrombin.time.ratio                                0.997028   \n",
       "\n",
       "                                prothrombin.time.ratio  \n",
       "international.normalized.ratio                0.997028  \n",
       "prothrombin.time.ratio                        1.000000  "
      ]
     },
     "execution_count": 35,
     "metadata": {},
     "output_type": "execute_result"
    }
   ],
   "source": [
    "cor_matrix = data.loc[:,['international.normalized.ratio', 'prothrombin.time.ratio']].corr()\n",
    "cor_matrix"
   ]
  },
  {
   "cell_type": "code",
   "execution_count": 36,
   "id": "2320c2de",
   "metadata": {},
   "outputs": [
    {
     "data": {
      "text/html": [
       "<div>\n",
       "<style scoped>\n",
       "    .dataframe tbody tr th:only-of-type {\n",
       "        vertical-align: middle;\n",
       "    }\n",
       "\n",
       "    .dataframe tbody tr th {\n",
       "        vertical-align: top;\n",
       "    }\n",
       "\n",
       "    .dataframe thead th {\n",
       "        text-align: right;\n",
       "    }\n",
       "</style>\n",
       "<table border=\"1\" class=\"dataframe\">\n",
       "  <thead>\n",
       "    <tr style=\"text-align: right;\">\n",
       "      <th></th>\n",
       "      <th>hydroxybutyrate.dehydrogenase</th>\n",
       "      <th>lactate.dehydrogenase</th>\n",
       "    </tr>\n",
       "  </thead>\n",
       "  <tbody>\n",
       "    <tr>\n",
       "      <th>hydroxybutyrate.dehydrogenase</th>\n",
       "      <td>1.000000</td>\n",
       "      <td>0.920142</td>\n",
       "    </tr>\n",
       "    <tr>\n",
       "      <th>lactate.dehydrogenase</th>\n",
       "      <td>0.920142</td>\n",
       "      <td>1.000000</td>\n",
       "    </tr>\n",
       "  </tbody>\n",
       "</table>\n",
       "</div>"
      ],
      "text/plain": [
       "                               hydroxybutyrate.dehydrogenase  \\\n",
       "hydroxybutyrate.dehydrogenase                       1.000000   \n",
       "lactate.dehydrogenase                               0.920142   \n",
       "\n",
       "                               lactate.dehydrogenase  \n",
       "hydroxybutyrate.dehydrogenase               0.920142  \n",
       "lactate.dehydrogenase                       1.000000  "
      ]
     },
     "execution_count": 36,
     "metadata": {},
     "output_type": "execute_result"
    }
   ],
   "source": [
    "cor_matrix = data.loc[:,['hydroxybutyrate.dehydrogenase', 'lactate.dehydrogenase']].corr()\n",
    "cor_matrix"
   ]
  },
  {
   "cell_type": "markdown",
   "id": "c0138376",
   "metadata": {},
   "source": [
    "La 3-idrossibutirrato deidrogenasi è un enzima appartenente alla classe delle ossidoreduttasi, che catalizza la seguente reazione:\n",
    "\n",
    "(D)-3-idrossibutanoato + NAD+ ⇄ acetoacetato + NADH + H+\n",
    "\n",
    "La L-lattato deidrogenasi (o LDH) è un enzima, appartenente alla classe delle ossidoreduttasi, che catalizza la seguente reazione:\n",
    "\n",
    "(L)-lattato + NAD+ ⇄ piruvato + NADH + H+\n",
    "\n",
    "We notice that these two enzymes catalyze indeed very similar chemical reactions, so we can explain ourselves the big correlation between the two."
   ]
  },
  {
   "cell_type": "code",
   "execution_count": 37,
   "id": "cd1959c7",
   "metadata": {},
   "outputs": [
    {
     "data": {
      "text/html": [
       "<div>\n",
       "<style scoped>\n",
       "    .dataframe tbody tr th:only-of-type {\n",
       "        vertical-align: middle;\n",
       "    }\n",
       "\n",
       "    .dataframe tbody tr th {\n",
       "        vertical-align: top;\n",
       "    }\n",
       "\n",
       "    .dataframe thead th {\n",
       "        text-align: right;\n",
       "    }\n",
       "</style>\n",
       "<table border=\"1\" class=\"dataframe\">\n",
       "  <thead>\n",
       "    <tr style=\"text-align: right;\">\n",
       "      <th></th>\n",
       "      <th>indirect.bilirubin</th>\n",
       "      <th>total.bilirubin</th>\n",
       "    </tr>\n",
       "  </thead>\n",
       "  <tbody>\n",
       "    <tr>\n",
       "      <th>indirect.bilirubin</th>\n",
       "      <td>1.000000</td>\n",
       "      <td>0.927824</td>\n",
       "    </tr>\n",
       "    <tr>\n",
       "      <th>total.bilirubin</th>\n",
       "      <td>0.927824</td>\n",
       "      <td>1.000000</td>\n",
       "    </tr>\n",
       "  </tbody>\n",
       "</table>\n",
       "</div>"
      ],
      "text/plain": [
       "                    indirect.bilirubin  total.bilirubin\n",
       "indirect.bilirubin            1.000000         0.927824\n",
       "total.bilirubin               0.927824         1.000000"
      ]
     },
     "execution_count": 37,
     "metadata": {},
     "output_type": "execute_result"
    }
   ],
   "source": [
    "cor_matrix = data.loc[:,['indirect.bilirubin', 'total.bilirubin']].corr()\n",
    "cor_matrix"
   ]
  },
  {
   "cell_type": "code",
   "execution_count": 38,
   "id": "8c52fe6a",
   "metadata": {},
   "outputs": [
    {
     "data": {
      "text/html": [
       "<div>\n",
       "<style scoped>\n",
       "    .dataframe tbody tr th:only-of-type {\n",
       "        vertical-align: middle;\n",
       "    }\n",
       "\n",
       "    .dataframe tbody tr th {\n",
       "        vertical-align: top;\n",
       "    }\n",
       "\n",
       "    .dataframe thead th {\n",
       "        text-align: right;\n",
       "    }\n",
       "</style>\n",
       "<table border=\"1\" class=\"dataframe\">\n",
       "  <thead>\n",
       "    <tr style=\"text-align: right;\">\n",
       "      <th></th>\n",
       "      <th>direct.bilirubin</th>\n",
       "      <th>total.bilirubin</th>\n",
       "    </tr>\n",
       "  </thead>\n",
       "  <tbody>\n",
       "    <tr>\n",
       "      <th>direct.bilirubin</th>\n",
       "      <td>1.000000</td>\n",
       "      <td>0.932437</td>\n",
       "    </tr>\n",
       "    <tr>\n",
       "      <th>total.bilirubin</th>\n",
       "      <td>0.932437</td>\n",
       "      <td>1.000000</td>\n",
       "    </tr>\n",
       "  </tbody>\n",
       "</table>\n",
       "</div>"
      ],
      "text/plain": [
       "                  direct.bilirubin  total.bilirubin\n",
       "direct.bilirubin          1.000000         0.932437\n",
       "total.bilirubin           0.932437         1.000000"
      ]
     },
     "execution_count": 38,
     "metadata": {},
     "output_type": "execute_result"
    }
   ],
   "source": [
    "cor_matrix = data.loc[:,['direct.bilirubin', 'total.bilirubin']].corr()\n",
    "cor_matrix"
   ]
  },
  {
   "cell_type": "markdown",
   "id": "4132414a",
   "metadata": {},
   "source": [
    "I'd keep the feature 'total.bilirubin' since it synthesises in just one value the two features of direct and indirect bilirubin."
   ]
  },
  {
   "cell_type": "markdown",
   "id": "35df1066",
   "metadata": {},
   "source": [
    "#### NB: the following code can be used to drop one of the features"
   ]
  },
  {
   "cell_type": "code",
   "execution_count": 63,
   "id": "6728bd93",
   "metadata": {},
   "outputs": [],
   "source": [
    "#mask = np.triu(np.ones_like(cor_matrix, dtype=bool))\n",
    "#reduced_matrix = cor_matrix.mask(mask)\n",
    "#reduced_matrix\n",
    "# puts NaN values to the upper half and diagonal of the matrix"
   ]
  },
  {
   "cell_type": "code",
   "execution_count": 64,
   "id": "defefbc8",
   "metadata": {},
   "outputs": [],
   "source": [
    "# Find columns that meet the 0.90 threshold --> drops always the first one of the two\n",
    "#to_drop = [c for c in reduced_matrix.columns if any(reduced_matrix[c] > 0.9)]\n",
    "#to_drop"
   ]
  },
  {
   "cell_type": "code",
   "execution_count": 65,
   "id": "1a681f70",
   "metadata": {},
   "outputs": [],
   "source": [
    "#data1 = data.copy()\n",
    "#data_reduced = data1.drop(to_drop, axis=1)\n",
    "#print(f\"Current number of features: {data_reduced.shape[1]}\")"
   ]
  },
  {
   "cell_type": "code",
   "execution_count": 27,
   "id": "45c59db8",
   "metadata": {},
   "outputs": [],
   "source": [
    "# do when we are sure we will use this data\n",
    "#data_new.to_csv('data_cleaned.csv')"
   ]
  }
 ],
 "metadata": {
  "kernelspec": {
   "display_name": "Python 3",
   "language": "python",
   "name": "python3"
  },
  "language_info": {
   "codemirror_mode": {
    "name": "ipython",
    "version": 3
   },
   "file_extension": ".py",
   "mimetype": "text/x-python",
   "name": "python",
   "nbconvert_exporter": "python",
   "pygments_lexer": "ipython3",
   "version": "3.8.8"
  }
 },
 "nbformat": 4,
 "nbformat_minor": 5
}
