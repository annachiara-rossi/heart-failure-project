{
 "cells": [
  {
   "cell_type": "markdown",
   "id": "4734d2bc",
   "metadata": {},
   "source": [
    "## Importin libraries"
   ]
  },
  {
   "cell_type": "code",
   "execution_count": 1,
   "id": "603de935",
   "metadata": {},
   "outputs": [],
   "source": [
    "import numpy as np\n",
    "import pandas as pd\n",
    "import matplotlib.pyplot as plt\n",
    "import seaborn as sns\n",
    "np.random.seed(130298) "
   ]
  },
  {
   "cell_type": "code",
   "execution_count": 2,
   "id": "05a19b92",
   "metadata": {},
   "outputs": [],
   "source": [
    "from sklearn.pipeline import Pipeline\n",
    "from sklearn.preprocessing import StandardScaler, OneHotEncoder, FunctionTransformer \n",
    "from sklearn.compose import ColumnTransformer\n",
    "from sklearn.metrics import auc, f1_score, recall_score, precision_score,roc_curve, mean_squared_error"
   ]
  },
  {
   "cell_type": "code",
   "execution_count": 3,
   "id": "b37ca8d8",
   "metadata": {},
   "outputs": [],
   "source": [
    "from fancyimpute import IterativeImputer, KNN"
   ]
  },
  {
   "cell_type": "code",
   "execution_count": 4,
   "id": "b06ae280",
   "metadata": {},
   "outputs": [],
   "source": [
    "from sklearn.ensemble import RandomForestClassifier"
   ]
  },
  {
   "cell_type": "code",
   "execution_count": 5,
   "id": "2117f9e6",
   "metadata": {},
   "outputs": [],
   "source": [
    "def compute_metrics(Y, final_pred):\n",
    "    fpr, tpr, _ = roc_curve(Y,final_pred)\n",
    "    AUC = auc(fpr, tpr)\n",
    "    f1 = f1_score(Y,final_pred)\n",
    "    rec = recall_score(Y,final_pred)\n",
    "    prec = precision_score(Y,final_pred)\n",
    "    #print(f'AUC: {AUC}, F1: {f1}, Recall: {rec}, Precision: {prec}')\n",
    "    return [AUC, f1, rec, prec]"
   ]
  },
  {
   "cell_type": "code",
   "execution_count": 6,
   "id": "f0b783ef",
   "metadata": {},
   "outputs": [
    {
     "data": {
      "text/plain": [
       "'/Users/annachiararossi/Documents/Healthcare data/heart-failure-project'"
      ]
     },
     "execution_count": 6,
     "metadata": {},
     "output_type": "execute_result"
    }
   ],
   "source": [
    "%pwd"
   ]
  },
  {
   "cell_type": "markdown",
   "id": "57eee318",
   "metadata": {},
   "source": [
    "## Datasets definition"
   ]
  },
  {
   "cell_type": "code",
   "execution_count": 7,
   "id": "b2f1346d",
   "metadata": {},
   "outputs": [],
   "source": [
    "outcome_name = 're.admission.within.6.months'\n",
    "\n",
    "# take the training set\n",
    "X_train = pd.read_csv('train_data_drugs.csv')\n",
    "X_train.set_index('inpatient.number', inplace = True)\n",
    "\n",
    "# separate the outcome\n",
    "Y_train = X_train[outcome_name].copy()\n",
    "X_train.drop(columns = outcome_name, inplace = True)\n",
    "\n",
    "# take the test set\n",
    "X_test = pd.read_csv('test_data_drugs.csv')\n",
    "X_test.set_index('inpatient.number', inplace = True)\n",
    "\n",
    "# separate the outcome\n",
    "Y_test = X_test[outcome_name].copy()\n",
    "X_test.drop(columns = outcome_name, inplace = True)\n"
   ]
  },
  {
   "cell_type": "code",
   "execution_count": 9,
   "id": "26c41254",
   "metadata": {},
   "outputs": [],
   "source": [
    "# now we should adjust the lists of variables \n",
    "\n",
    "cat_columns = ['DestinationDischarge','admission.ward','admission.way','discharge.department',\n",
    "                       'type.of.heart.failure', 'NYHA.cardiac.function.classification', 'Killip.grade',\n",
    "                       'consciousness', 'ageCat']\n",
    "\n",
    "ordinal_columns = ['CCI.score', 'eye.opening','verbal.response', 'movement', 'GCS']\n",
    "\n",
    "not_continuous = cat_columns.copy()\n",
    "\n",
    "binary_columns = ['gender', 'diabetes', 'moderate.to.severe.chronic.kidney.disease',\n",
    "                  're.admission.within.28.days', 're.admission.within.3.months', \n",
    "                  'return.to.emergency.department.within.6.months', 'diuretics',\n",
    "                  'hypertension', 'heart_failure', 'angina_etal', 'cholesterol_drug']\n",
    "\n",
    "not_continuous.extend(binary_columns)\n",
    "not_continuous.extend(ordinal_columns)"
   ]
  },
  {
   "cell_type": "code",
   "execution_count": 10,
   "id": "13ece53f",
   "metadata": {},
   "outputs": [],
   "source": [
    "for cat in cat_columns:\n",
    "    X_train[cat] = cat + '_' + X_train[cat]\n",
    "    X_test[cat] = cat + '_' + X_test[cat]"
   ]
  },
  {
   "cell_type": "code",
   "execution_count": 11,
   "id": "73b623b4",
   "metadata": {},
   "outputs": [],
   "source": [
    "cont_columns = [col_name for col_name in X_train.columns if col_name not in not_continuous]"
   ]
  },
  {
   "cell_type": "code",
   "execution_count": 12,
   "id": "c0b0a883",
   "metadata": {},
   "outputs": [],
   "source": [
    "var_to_log = ['creatinine.enzymatic.method', 'urea', 'glomerular.filtration.rate', \n",
    "              'cystatin', 'lymphocyte.count', 'neutrophil.count',\n",
    "              'activated.partial.thromboplastin.time', 'prothrombin.time.ratio',\n",
    "              'glutamyltranspeptidase','indirect.bilirubin','alkaline.phosphatase',\n",
    "              'globulin','direct.bilirubin','cholesterol',\n",
    "              'low.density.lipoprotein.cholesterol','triglyceride']"
   ]
  },
  {
   "cell_type": "markdown",
   "id": "9e8dd8c7",
   "metadata": {},
   "source": [
    "## Pipeline definition"
   ]
  },
  {
   "cell_type": "code",
   "execution_count": 13,
   "id": "a59a64d8",
   "metadata": {},
   "outputs": [],
   "source": [
    "def log_transf(x):\n",
    "    return np.log(x)\n",
    "\n",
    "log_transformer = FunctionTransformer(log_transf)\n",
    "#knn_transformer = FunctionTransformer(KNN)"
   ]
  },
  {
   "cell_type": "code",
   "execution_count": 14,
   "id": "ada7484a",
   "metadata": {},
   "outputs": [],
   "source": [
    "full_pipeline = ColumnTransformer([\n",
    "        (\"log\", log_transformer, var_to_log),\n",
    "        (\"num\", StandardScaler(), cont_columns),     \n",
    "        (\"cat\", OneHotEncoder(), cat_columns)],\n",
    "        remainder = 'passthrough')\n",
    "\n",
    "#full_pipeline = Pipeline([('stationarity', starting_pipeline)])\n",
    "\n",
    "#('imputation',KNN())\n",
    "X_train_prepared = full_pipeline.fit_transform(X_train)\n",
    "X_test_prepared = full_pipeline.transform(X_test) "
   ]
  },
  {
   "cell_type": "code",
   "execution_count": 17,
   "id": "90b40b08",
   "metadata": {
    "scrolled": true
   },
   "outputs": [
    {
     "name": "stdout",
     "output_type": "stream",
     "text": [
      "Imputing row 1/1572 with 0 missing, elapsed time: 0.855\n",
      "Imputing row 101/1572 with 1 missing, elapsed time: 0.860\n",
      "Imputing row 201/1572 with 1 missing, elapsed time: 0.865\n",
      "Imputing row 301/1572 with 1 missing, elapsed time: 0.871\n",
      "Imputing row 401/1572 with 1 missing, elapsed time: 0.876\n",
      "Imputing row 501/1572 with 0 missing, elapsed time: 0.880\n",
      "Imputing row 601/1572 with 0 missing, elapsed time: 0.887\n",
      "Imputing row 701/1572 with 0 missing, elapsed time: 0.893\n",
      "Imputing row 801/1572 with 3 missing, elapsed time: 0.897\n",
      "Imputing row 901/1572 with 4 missing, elapsed time: 0.903\n",
      "Imputing row 1001/1572 with 7 missing, elapsed time: 0.908\n",
      "Imputing row 1101/1572 with 4 missing, elapsed time: 0.912\n",
      "Imputing row 1201/1572 with 0 missing, elapsed time: 0.917\n",
      "Imputing row 1301/1572 with 0 missing, elapsed time: 0.922\n",
      "Imputing row 1401/1572 with 1 missing, elapsed time: 0.925\n",
      "Imputing row 1501/1572 with 0 missing, elapsed time: 0.930\n",
      "Imputing row 1/398 with 1 missing, elapsed time: 0.053\n",
      "Imputing row 101/398 with 1 missing, elapsed time: 0.057\n",
      "Imputing row 201/398 with 1 missing, elapsed time: 0.060\n",
      "Imputing row 301/398 with 0 missing, elapsed time: 0.063\n"
     ]
    }
   ],
   "source": [
    "knn_imputer = KNN()\n",
    "X_train_prepared = knn_imputer.fit_transform(X_train_prepared)\n",
    "X_test_prepared = knn_imputer.fit_transform(X_test_prepared)"
   ]
  },
  {
   "cell_type": "markdown",
   "id": "ddb83991",
   "metadata": {},
   "source": [
    "## Random Forest classifier"
   ]
  },
  {
   "cell_type": "code",
   "execution_count": 18,
   "id": "af5bd4c0",
   "metadata": {},
   "outputs": [
    {
     "data": {
      "text/plain": [
       "GridSearchCV(cv=10, estimator=RandomForestClassifier(random_state=42),\n",
       "             param_grid={'max_features': [10, 20, 30, 40, 50, 60, 70, 80, 90,\n",
       "                                          100, 110, 120, 127],\n",
       "                         'n_estimators': [10, 30, 50, 100]},\n",
       "             return_train_score=True, scoring='neg_mean_squared_error')"
      ]
     },
     "execution_count": 18,
     "metadata": {},
     "output_type": "execute_result"
    }
   ],
   "source": [
    "from sklearn.model_selection import GridSearchCV\n",
    "\n",
    "param_grid = {'n_estimators': [10, 30, 50, 100], \n",
    "     'max_features': list(np.arange(10,X_train_prepared.shape[1],10)) + [X_train_prepared.shape[1]]} \n",
    "    # try 12 (3×4) combinations of hyperparameters\n",
    "    \n",
    "\n",
    "forest_clf = RandomForestClassifier(random_state=42)\n",
    "\n",
    "# train across 5 folds, that's a total of (12+6)*5=90 rounds of training \n",
    "grid_search = GridSearchCV(forest_clf, param_grid, cv=10,\n",
    "                           scoring='neg_mean_squared_error',\n",
    "                           return_train_score=True)\n",
    "grid_search.fit(X_train_prepared, Y_train)\n",
    "\n"
   ]
  },
  {
   "cell_type": "code",
   "execution_count": 19,
   "id": "810809d8",
   "metadata": {
    "scrolled": true
   },
   "outputs": [
    {
     "data": {
      "text/plain": [
       "RandomForestClassifier(max_features=20, n_estimators=30, random_state=42)"
      ]
     },
     "execution_count": 19,
     "metadata": {},
     "output_type": "execute_result"
    }
   ],
   "source": [
    "final_model = grid_search.best_estimator_\n",
    "final_model"
   ]
  },
  {
   "cell_type": "markdown",
   "id": "c23c3cd3",
   "metadata": {},
   "source": [
    "### Fetaure importance"
   ]
  },
  {
   "cell_type": "code",
   "execution_count": 20,
   "id": "9e054c9b",
   "metadata": {
    "collapsed": true
   },
   "outputs": [
    {
     "data": {
      "text/plain": [
       "array([2.70209535e-03, 1.35649970e-03, 3.66477111e-03, 1.91013630e-03,\n",
       "       1.64117525e-03, 1.88582659e-03, 2.85664935e-03, 3.16411005e-03,\n",
       "       1.75968980e-03, 2.20460570e-03, 9.39320733e-04, 1.78962388e-03,\n",
       "       1.54671042e-03, 2.22948060e-03, 2.65780512e-03, 1.49985101e-03,\n",
       "       1.49042096e-03, 2.79230759e-03, 2.95509426e-04, 1.02118626e-03,\n",
       "       9.78632007e-04, 1.58097546e-03, 1.61292933e-03, 1.07459426e-03,\n",
       "       6.56984621e-03, 3.39531828e-03, 2.32187529e-03, 5.92540077e-03,\n",
       "       5.52226493e-03, 1.22847152e-03, 7.68631458e-04, 1.63306394e-03,\n",
       "       1.10504072e-03, 3.82747617e-03, 3.76777252e-03, 2.30061964e-03,\n",
       "       3.21114995e-03, 8.93413650e-04, 6.54375249e-03, 1.17210802e-03,\n",
       "       2.75897651e-03, 2.19183064e-03, 2.74615564e-03, 3.27287143e-03,\n",
       "       3.34052895e-03, 2.54178064e-03, 3.67043485e-03, 8.09525553e-04,\n",
       "       2.28592355e-03, 3.02553874e-03, 2.90831900e-03, 4.25440843e-03,\n",
       "       3.21218259e-03, 2.48979068e-03, 2.51960743e-03, 2.02283119e-03,\n",
       "       1.90433655e-03, 3.07813286e-03, 2.09618065e-03, 2.25003767e-03,\n",
       "       2.12028794e-03, 3.65690396e-03, 6.49961228e-04, 1.92675427e-03,\n",
       "       1.99036984e-03, 2.41173033e-03, 1.70361432e-03, 2.58820635e-03,\n",
       "       1.24977079e-03, 2.03202738e-03, 2.46733589e-03, 8.50346578e-04,\n",
       "       1.87475879e-03, 2.69957854e-03, 2.37306906e-03, 3.72471351e-03,\n",
       "       6.65830848e-05, 3.99995284e-04, 3.44374160e-04, 7.35651548e-05,\n",
       "       0.00000000e+00, 0.00000000e+00, 3.39902599e-04, 2.75104762e-04,\n",
       "       2.51252280e-04, 3.62496756e-04, 1.83992861e-04, 0.00000000e+00,\n",
       "       0.00000000e+00, 1.20763157e-03, 2.06491439e-03, 1.27968276e-04,\n",
       "       0.00000000e+00, 4.43391437e-05, 1.28554952e-03, 6.93492220e-05,\n",
       "       1.45982451e-04, 3.60336389e-04, 0.00000000e+00, 0.00000000e+00,\n",
       "       0.00000000e+00, 0.00000000e+00, 0.00000000e+00, 0.00000000e+00,\n",
       "       8.63724654e-05, 8.69337142e-05, 2.06931666e-05, 4.64135677e-04,\n",
       "       4.49386169e-04, 3.48034191e-04, 2.44574555e-04, 4.13717729e-04,\n",
       "       6.62451220e-04, 4.26232231e-04, 8.23612811e-04, 3.32097291e-04,\n",
       "       1.07975348e-05, 0.00000000e+00, 2.56388498e-02, 2.19778780e-01,\n",
       "       5.60070059e-01, 0.00000000e+00, 0.00000000e+00, 0.00000000e+00,\n",
       "       0.00000000e+00, 0.00000000e+00, 0.00000000e+00])"
      ]
     },
     "execution_count": 20,
     "metadata": {},
     "output_type": "execute_result"
    }
   ],
   "source": [
    "feature_importances = final_model.feature_importances_\n",
    "feature_importances"
   ]
  },
  {
   "cell_type": "code",
   "execution_count": 22,
   "id": "e3573e86",
   "metadata": {},
   "outputs": [],
   "source": [
    "cat_list_one_hot = full_pipeline.named_transformers_[\"cat\"].categories_"
   ]
  },
  {
   "cell_type": "code",
   "execution_count": 32,
   "id": "e0dc7da6",
   "metadata": {},
   "outputs": [
    {
     "data": {
      "text/plain": [
       "['DestinationDischarge_HealthcareFacility',\n",
       " 'DestinationDischarge_Home',\n",
       " nan,\n",
       " 'admission.ward_Cardiology',\n",
       " 'admission.ward_GeneralWard',\n",
       " 'admission.ward_ICU',\n",
       " 'admission.ward_Others',\n",
       " 'admission.way_Emergency',\n",
       " 'admission.way_NonEmergency',\n",
       " 'discharge.department_Cardiology',\n",
       " 'discharge.department_GeneralWard',\n",
       " 'discharge.department_ICU',\n",
       " 'discharge.department_Others',\n",
       " 'type.of.heart.failure_Both',\n",
       " 'type.of.heart.failure_Left',\n",
       " 'type.of.heart.failure_Right',\n",
       " 'NYHA.cardiac.function.classification_II',\n",
       " 'NYHA.cardiac.function.classification_III',\n",
       " 'NYHA.cardiac.function.classification_IV',\n",
       " 'Killip.grade_I',\n",
       " 'Killip.grade_II',\n",
       " 'Killip.grade_III',\n",
       " 'Killip.grade_IV',\n",
       " 'consciousness_Clear',\n",
       " 'consciousness_Nonresponsive',\n",
       " 'consciousness_ResponsiveToPain',\n",
       " 'consciousness_ResponsiveToSound',\n",
       " 'ageCat_(21,29]',\n",
       " 'ageCat_(29,39]',\n",
       " 'ageCat_(39,49]',\n",
       " 'ageCat_(49,59]',\n",
       " 'ageCat_(59,69]',\n",
       " 'ageCat_(69,79]',\n",
       " 'ageCat_(79,89]',\n",
       " 'ageCat_(89,110]']"
      ]
     },
     "execution_count": 32,
     "metadata": {},
     "output_type": "execute_result"
    }
   ],
   "source": [
    "cat_features = []\n",
    "for elem in cat_list_one_hot:\n",
    "    cat_features.extend(elem)\n",
    "cat_features"
   ]
  },
  {
   "cell_type": "code",
   "execution_count": null,
   "id": "7fb540b3",
   "metadata": {},
   "outputs": [],
   "source": [
    "# associate columns \n",
    "features_names = "
   ]
  },
  {
   "cell_type": "code",
   "execution_count": 29,
   "id": "fd2fa6c8",
   "metadata": {},
   "outputs": [],
   "source": [
    "final_predictions = final_model.predict(X_test_prepared)\n",
    "final_mse = mean_squared_error(Y_test, final_predictions)\n",
    "final_rmse = np.sqrt(final_mse)\n",
    "final_rmse"
   ]
  },
  {
   "cell_type": "code",
   "execution_count": null,
   "id": "e40aba72",
   "metadata": {},
   "outputs": [],
   "source": [
    "import seaborn as sns\n",
    "fig, ax = plt.subplots(1, 1, figsize=(12, 7))\n",
    "sns.barplot(x=\"feature\",\n",
    "            y=\"value\",\n",
    "            data=df.head(20),\n",
    "           palette=df.head(20)[\"colors\"])\n",
    "ax.set_xticklabels(ax.get_xticklabels(), rotation=90, fontsize=20)\n",
    "ax.set_title(\"Top 20 Features\", fontsize=25)\n",
    "ax.set_ylabel(\"Coef\", fontsize=22)\n",
    "ax.set_xlabel(\"Feature Name\", fontsize=22)"
   ]
  }
 ],
 "metadata": {
  "kernelspec": {
   "display_name": "Python 3",
   "language": "python",
   "name": "python3"
  },
  "language_info": {
   "codemirror_mode": {
    "name": "ipython",
    "version": 3
   },
   "file_extension": ".py",
   "mimetype": "text/x-python",
   "name": "python",
   "nbconvert_exporter": "python",
   "pygments_lexer": "ipython3",
   "version": "3.8.8"
  }
 },
 "nbformat": 4,
 "nbformat_minor": 5
}
