{
 "cells": [
  {
   "cell_type": "markdown",
   "id": "4734d2bc",
   "metadata": {},
   "source": [
    "## Importin libraries"
   ]
  },
  {
   "cell_type": "code",
   "execution_count": 1,
   "id": "603de935",
   "metadata": {},
   "outputs": [],
   "source": [
    "import numpy as np\n",
    "import pandas as pd\n",
    "import matplotlib.pyplot as plt\n",
    "import seaborn as sns\n",
    "np.random.seed(130298) "
   ]
  },
  {
   "cell_type": "code",
   "execution_count": 21,
   "id": "05a19b92",
   "metadata": {},
   "outputs": [],
   "source": [
    "from sklearn.pipeline import Pipeline\n",
    "from sklearn.preprocessing import StandardScaler, OneHotEncoder, FunctionTransformer \n",
    "from sklearn.compose import ColumnTransformer"
   ]
  },
  {
   "cell_type": "code",
   "execution_count": 14,
   "id": "b37ca8d8",
   "metadata": {},
   "outputs": [],
   "source": [
    "from fancyimpute import IterativeImputer, KNN"
   ]
  },
  {
   "cell_type": "code",
   "execution_count": 40,
   "id": "b06ae280",
   "metadata": {},
   "outputs": [],
   "source": [
    "from sklearn.ensemble import RandomForestClassifier"
   ]
  },
  {
   "cell_type": "code",
   "execution_count": 5,
   "id": "2117f9e6",
   "metadata": {},
   "outputs": [],
   "source": [
    "def compute_metrics(Y, final_pred):\n",
    "    fpr, tpr, _ = roc_curve(Y,final_pred)\n",
    "    AUC = auc(fpr, tpr)\n",
    "    f1 = f1_score(Y,final_pred)\n",
    "    rec = recall_score(Y,final_pred)\n",
    "    prec = precision_score(Y,final_pred)\n",
    "    #print(f'AUC: {AUC}, F1: {f1}, Recall: {rec}, Precision: {prec}')\n",
    "    return [AUC, f1, rec, prec]"
   ]
  },
  {
   "cell_type": "code",
   "execution_count": 6,
   "id": "f0b783ef",
   "metadata": {},
   "outputs": [
    {
     "data": {
      "text/plain": [
       "'/Users/annachiararossi/Documents/Healthcare data/project_local'"
      ]
     },
     "execution_count": 6,
     "metadata": {},
     "output_type": "execute_result"
    }
   ],
   "source": [
    "%pwd"
   ]
  },
  {
   "cell_type": "markdown",
   "id": "57eee318",
   "metadata": {},
   "source": [
    "## Datasets definition"
   ]
  },
  {
   "cell_type": "code",
   "execution_count": 7,
   "id": "b2f1346d",
   "metadata": {},
   "outputs": [],
   "source": [
    "outcome_name = 're.admission.within.6.months'\n",
    "\n",
    "# take the training set\n",
    "X_train = pd.read_csv('train_data_drugs.csv')\n",
    "X_train.set_index('inpatient.number', inplace = True)\n",
    "\n",
    "# separate the outcome\n",
    "Y_train = X_train[outcome_name].copy()\n",
    "X_train.drop(columns = outcome_name, inplace = True)\n",
    "\n",
    "# take the test set\n",
    "X_test = pd.read_csv('test_data_drugs.csv')\n",
    "X_test.set_index('inpatient.number', inplace = True)\n",
    "\n",
    "# separate the outcome\n",
    "Y_test = X_test[outcome_name].copy()\n",
    "X_test.drop(columns = outcome_name, inplace = True)\n"
   ]
  },
  {
   "cell_type": "code",
   "execution_count": 8,
   "id": "26c41254",
   "metadata": {},
   "outputs": [],
   "source": [
    "# now we should adjust the lists of variables \n",
    "\n",
    "cat_columns = ['DestinationDischarge','admission.ward','admission.way','discharge.department',\n",
    "                       'type.of.heart.failure', 'NYHA.cardiac.function.classification', 'Killip.grade',\n",
    "                       'consciousness', 'ageCat']\n",
    "\n",
    "ordinal_columns = ['CCI.score', 'eye.opening','verbal.response', 'movement', 'GCS']\n",
    "\n",
    "not_continuous = cat_columns.copy()\n",
    "\n",
    "binary_columns = ['gender', 'diabetes', 'moderate.to.severe.chronic.kidney.disease',\n",
    "                  're.admission.within.28.days', 're.admission.within.3.months', \n",
    "                  'return.to.emergency.department.within.6.months', 'diuretics',\n",
    "                  'hypertension', 'heart_failure', 'angina_etal', 'cholesterol_drug']\n",
    "\n",
    "not_continuous.extend(binary_columns)\n",
    "not_continuous.extend(ordinal_columns)"
   ]
  },
  {
   "cell_type": "code",
   "execution_count": 10,
   "id": "73b623b4",
   "metadata": {},
   "outputs": [],
   "source": [
    "cont_columns = [col_name for col_name in X_train.columns if col_name not in not_continuous]"
   ]
  },
  {
   "cell_type": "code",
   "execution_count": 23,
   "id": "c0b0a883",
   "metadata": {},
   "outputs": [],
   "source": [
    "var_to_log = ['creatinine.enzymatic.method', 'urea', 'glomerular.filtration.rate', \n",
    "              'cystatin', 'lymphocyte.count', 'neutrophil.count',\n",
    "              'activated.partial.thromboplastin.time', 'prothrombin.time.ratio',\n",
    "              'glutamyltranspeptidase','indirect.bilirubin','alkaline.phosphatase',\n",
    "              'globulin','direct.bilirubin','cholesterol',\n",
    "              'low.density.lipoprotein.cholesterol','triglyceride']"
   ]
  },
  {
   "cell_type": "markdown",
   "id": "9e8dd8c7",
   "metadata": {},
   "source": [
    "## Pipeline definition"
   ]
  },
  {
   "cell_type": "code",
   "execution_count": 46,
   "id": "a59a64d8",
   "metadata": {},
   "outputs": [],
   "source": [
    "def log_transf(x):\n",
    "    return np.log(x)\n",
    "\n",
    "log_transformer = FunctionTransformer(log_transf)\n",
    "#knn_transformer = FunctionTransformer(KNN)"
   ]
  },
  {
   "cell_type": "code",
   "execution_count": 53,
   "id": "ada7484a",
   "metadata": {},
   "outputs": [
    {
     "name": "stdout",
     "output_type": "stream",
     "text": [
      "Imputing row 1/1572 with 0 missing, elapsed time: 0.837\n",
      "Imputing row 101/1572 with 1 missing, elapsed time: 0.841\n",
      "Imputing row 201/1572 with 1 missing, elapsed time: 0.847\n",
      "Imputing row 301/1572 with 1 missing, elapsed time: 0.852\n",
      "Imputing row 401/1572 with 1 missing, elapsed time: 0.857\n",
      "Imputing row 501/1572 with 0 missing, elapsed time: 0.861\n",
      "Imputing row 601/1572 with 0 missing, elapsed time: 0.867\n",
      "Imputing row 701/1572 with 0 missing, elapsed time: 0.873\n",
      "Imputing row 801/1572 with 3 missing, elapsed time: 0.878\n",
      "Imputing row 901/1572 with 4 missing, elapsed time: 0.883\n",
      "Imputing row 1001/1572 with 7 missing, elapsed time: 0.888\n",
      "Imputing row 1101/1572 with 4 missing, elapsed time: 0.892\n",
      "Imputing row 1201/1572 with 0 missing, elapsed time: 0.896\n",
      "Imputing row 1301/1572 with 0 missing, elapsed time: 0.901\n",
      "Imputing row 1401/1572 with 1 missing, elapsed time: 0.905\n",
      "Imputing row 1501/1572 with 0 missing, elapsed time: 0.909\n"
     ]
    }
   ],
   "source": [
    "starting_pipeline = ColumnTransformer([\n",
    "        (\"log\", log_transformer, var_to_log),\n",
    "        (\"num\", StandardScaler(), cont_columns),     \n",
    "        (\"cat\", OneHotEncoder(), cat_columns)],\n",
    "        remainder = 'passthrough')\n",
    "\n",
    "full_pipeline = Pipeline([('stationarity', starting_pipeline),\n",
    "                          ('imputation',KNN())])\n",
    "\n",
    "X_train_prepared = full_pipeline.fit_transform(X_train)"
   ]
  },
  {
   "cell_type": "code",
   "execution_count": 54,
   "id": "4801287e",
   "metadata": {},
   "outputs": [
    {
     "ename": "ValueError",
     "evalue": "KNN.transform not implemented! This imputation algorithm likely doesn't support inductive mode. Only KNN.fit_transform is supported at this time.",
     "output_type": "error",
     "traceback": [
      "\u001b[0;31m---------------------------------------------------------------------------\u001b[0m",
      "\u001b[0;31mValueError\u001b[0m                                Traceback (most recent call last)",
      "\u001b[0;32m<ipython-input-54-90346a4eb4c4>\u001b[0m in \u001b[0;36m<module>\u001b[0;34m\u001b[0m\n\u001b[0;32m----> 1\u001b[0;31m \u001b[0mX_test_prepared\u001b[0m \u001b[0;34m=\u001b[0m \u001b[0mfull_pipeline\u001b[0m\u001b[0;34m.\u001b[0m\u001b[0mtransform\u001b[0m\u001b[0;34m(\u001b[0m\u001b[0mX_test\u001b[0m\u001b[0;34m)\u001b[0m\u001b[0;34m\u001b[0m\u001b[0;34m\u001b[0m\u001b[0m\n\u001b[0m",
      "\u001b[0;32m~/opt/anaconda3/lib/python3.8/site-packages/sklearn/pipeline.py\u001b[0m in \u001b[0;36m_transform\u001b[0;34m(self, X)\u001b[0m\n\u001b[1;32m    558\u001b[0m         \u001b[0mXt\u001b[0m \u001b[0;34m=\u001b[0m \u001b[0mX\u001b[0m\u001b[0;34m\u001b[0m\u001b[0;34m\u001b[0m\u001b[0m\n\u001b[1;32m    559\u001b[0m         \u001b[0;32mfor\u001b[0m \u001b[0m_\u001b[0m\u001b[0;34m,\u001b[0m \u001b[0m_\u001b[0m\u001b[0;34m,\u001b[0m \u001b[0mtransform\u001b[0m \u001b[0;32min\u001b[0m \u001b[0mself\u001b[0m\u001b[0;34m.\u001b[0m\u001b[0m_iter\u001b[0m\u001b[0;34m(\u001b[0m\u001b[0;34m)\u001b[0m\u001b[0;34m:\u001b[0m\u001b[0;34m\u001b[0m\u001b[0;34m\u001b[0m\u001b[0m\n\u001b[0;32m--> 560\u001b[0;31m             \u001b[0mXt\u001b[0m \u001b[0;34m=\u001b[0m \u001b[0mtransform\u001b[0m\u001b[0;34m.\u001b[0m\u001b[0mtransform\u001b[0m\u001b[0;34m(\u001b[0m\u001b[0mXt\u001b[0m\u001b[0;34m)\u001b[0m\u001b[0;34m\u001b[0m\u001b[0;34m\u001b[0m\u001b[0m\n\u001b[0m\u001b[1;32m    561\u001b[0m         \u001b[0;32mreturn\u001b[0m \u001b[0mXt\u001b[0m\u001b[0;34m\u001b[0m\u001b[0;34m\u001b[0m\u001b[0m\n\u001b[1;32m    562\u001b[0m \u001b[0;34m\u001b[0m\u001b[0m\n",
      "\u001b[0;32m~/opt/anaconda3/lib/python3.8/site-packages/fancyimpute/solver.py\u001b[0m in \u001b[0;36mtransform\u001b[0;34m(self, X, y)\u001b[0m\n\u001b[1;32m    219\u001b[0m         \u001b[0mon\u001b[0m \u001b[0mnew\u001b[0m\u001b[0;31m \u001b[0m\u001b[0;31m`\u001b[0m\u001b[0mX_test\u001b[0m\u001b[0;31m`\u001b[0m\u001b[0;34m.\u001b[0m\u001b[0;34m\u001b[0m\u001b[0;34m\u001b[0m\u001b[0m\n\u001b[1;32m    220\u001b[0m         \"\"\"\n\u001b[0;32m--> 221\u001b[0;31m         raise ValueError(\n\u001b[0m\u001b[1;32m    222\u001b[0m             \u001b[0;34m\"%s.transform not implemented! This imputation algorithm likely \"\u001b[0m\u001b[0;34m\u001b[0m\u001b[0;34m\u001b[0m\u001b[0m\n\u001b[1;32m    223\u001b[0m             \u001b[0;34m\"doesn't support inductive mode. Only %s.fit_transform is \"\u001b[0m\u001b[0;34m\u001b[0m\u001b[0;34m\u001b[0m\u001b[0m\n",
      "\u001b[0;31mValueError\u001b[0m: KNN.transform not implemented! This imputation algorithm likely doesn't support inductive mode. Only KNN.fit_transform is supported at this time."
     ]
    }
   ],
   "source": [
    "X_test_prepared = full_pipeline.transform(X_test) "
   ]
  },
  {
   "cell_type": "code",
   "execution_count": 55,
   "id": "af5bd4c0",
   "metadata": {},
   "outputs": [
    {
     "data": {
      "text/plain": [
       "GridSearchCV(cv=5, estimator=RandomForestClassifier(random_state=42),\n",
       "             param_grid=[{'max_features': [2, 4, 6, 8],\n",
       "                          'n_estimators': [3, 10, 30]},\n",
       "                         {'bootstrap': [False], 'max_features': [2, 3, 4],\n",
       "                          'n_estimators': [3, 10]}],\n",
       "             return_train_score=True, scoring='neg_mean_squared_error')"
      ]
     },
     "execution_count": 55,
     "metadata": {},
     "output_type": "execute_result"
    }
   ],
   "source": [
    "from sklearn.model_selection import GridSearchCV\n",
    "\n",
    "param_grid = [\n",
    "    \n",
    "    {'n_estimators': [3, 10, 30], 'max_features': [2, 4, 6, 8]}, \n",
    "    # try 12 (3×4) combinations of hyperparameters\n",
    "    \n",
    "    {'bootstrap': [False], 'n_estimators': [3, 10], 'max_features': [2, 3, 4]}, \n",
    "    # then try 6 (2×3) combinations with bootstrap set as False\n",
    "  ]\n",
    "\n",
    "forest_clf = RandomForestClassifier(random_state=42)\n",
    "\n",
    "# train across 5 folds, that's a total of (12+6)*5=90 rounds of training \n",
    "grid_search = GridSearchCV(forest_clf, param_grid, cv=5,\n",
    "                           scoring='neg_mean_squared_error',\n",
    "                           return_train_score=True)\n",
    "grid_search.fit(X_train_prepared, Y_train)\n",
    "\n"
   ]
  },
  {
   "cell_type": "code",
   "execution_count": 42,
   "id": "810809d8",
   "metadata": {},
   "outputs": [
    {
     "data": {
      "text/plain": [
       "RandomForestClassifier(max_features=8, n_estimators=30, random_state=42)"
      ]
     },
     "execution_count": 42,
     "metadata": {},
     "output_type": "execute_result"
    }
   ],
   "source": [
    "final_model = grid_search.best_estimator_\n",
    "final_model"
   ]
  },
  {
   "cell_type": "code",
   "execution_count": null,
   "id": "c9ccd822",
   "metadata": {},
   "outputs": [],
   "source": [
    "final_predictions = final_model.predict(X_test_prepared)\n",
    "    metrics = compute_metrics(Y = Y_test[1:], final_pred = final_predictions)"
   ]
  }
 ],
 "metadata": {
  "kernelspec": {
   "display_name": "Python 3",
   "language": "python",
   "name": "python3"
  },
  "language_info": {
   "codemirror_mode": {
    "name": "ipython",
    "version": 3
   },
   "file_extension": ".py",
   "mimetype": "text/x-python",
   "name": "python",
   "nbconvert_exporter": "python",
   "pygments_lexer": "ipython3",
   "version": "3.8.8"
  }
 },
 "nbformat": 4,
 "nbformat_minor": 5
}
