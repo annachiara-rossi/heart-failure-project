{
 "cells": [
  {
   "cell_type": "markdown",
   "id": "4734d2bc",
   "metadata": {},
   "source": [
    "## Importing necessary libraries"
   ]
  },
  {
   "cell_type": "code",
   "execution_count": 1,
   "id": "f0b783ef",
   "metadata": {},
   "outputs": [
    {
     "data": {
      "text/plain": [
       "'/Users/Nicole/github/heart-failure-project'"
      ]
     },
     "execution_count": 1,
     "metadata": {},
     "output_type": "execute_result"
    }
   ],
   "source": [
    "%pwd"
   ]
  },
  {
   "cell_type": "code",
   "execution_count": 2,
   "id": "603de935",
   "metadata": {},
   "outputs": [],
   "source": [
    "import numpy as np\n",
    "import pandas as pd\n",
    "import matplotlib.pyplot as plt\n",
    "import seaborn as sns\n",
    "np.random.seed(130298) "
   ]
  },
  {
   "cell_type": "code",
   "execution_count": 3,
   "id": "05a19b92",
   "metadata": {},
   "outputs": [],
   "source": [
    "from sklearn.pipeline import Pipeline\n",
    "from sklearn.compose import ColumnTransformer, make_column_transformer\n",
    "from sklearn.preprocessing import StandardScaler, OneHotEncoder, FunctionTransformer \n",
    "from fancyimpute import IterativeImputer, KNN"
   ]
  },
  {
   "cell_type": "code",
   "execution_count": 4,
   "id": "b06ae280",
   "metadata": {},
   "outputs": [],
   "source": [
    "from sklearn.linear_model import LogisticRegression\n",
    "from sklearn.ensemble import RandomForestClassifier\n",
    "from sklearn.metrics import auc, f1_score, recall_score, precision_score, roc_curve, mean_squared_error"
   ]
  },
  {
   "cell_type": "code",
   "execution_count": 5,
   "id": "b202d465",
   "metadata": {},
   "outputs": [],
   "source": [
    "from sklearn.model_selection import GridSearchCV"
   ]
  },
  {
   "cell_type": "code",
   "execution_count": 6,
   "id": "2117f9e6",
   "metadata": {},
   "outputs": [],
   "source": [
    "def compute_metrics(Y, final_pred):\n",
    "    fpr, tpr, _ = roc_curve(Y,final_pred)\n",
    "    AUC = auc(fpr, tpr)\n",
    "    f1 = f1_score(Y,final_pred)\n",
    "    rec = recall_score(Y,final_pred)\n",
    "    prec = precision_score(Y,final_pred)\n",
    "    print(f'AUC: {AUC}, F1: {f1}, Recall: {rec}, Precision: {prec}')\n",
    "    return [AUC, f1, rec, prec]"
   ]
  },
  {
   "cell_type": "markdown",
   "id": "57eee318",
   "metadata": {},
   "source": [
    "## Datasets definition"
   ]
  },
  {
   "cell_type": "code",
   "execution_count": 7,
   "id": "b2f1346d",
   "metadata": {},
   "outputs": [],
   "source": [
    "outcome_name = 're.admission.within.6.months'\n",
    "\n",
    "# take the training set\n",
    "X_train = pd.read_csv('train_data_drugs.csv')\n",
    "X_train.set_index('inpatient.number', inplace = True)\n",
    "\n",
    "# separate the outcome\n",
    "Y_train = X_train[outcome_name].copy()\n",
    "X_train.drop(columns = outcome_name, inplace = True)\n",
    "\n",
    "# take the test set\n",
    "X_test = pd.read_csv('test_data_drugs.csv')\n",
    "X_test.set_index('inpatient.number', inplace = True)\n",
    "\n",
    "# separate the outcome\n",
    "Y_test = X_test[outcome_name].copy()\n",
    "X_test.drop(columns = outcome_name, inplace = True)\n"
   ]
  },
  {
   "cell_type": "code",
   "execution_count": 8,
   "id": "aa8a62a1",
   "metadata": {},
   "outputs": [
    {
     "name": "stdout",
     "output_type": "stream",
     "text": [
      "Size of traing set: (1567, 81) and of test set: (397, 81)\n"
     ]
    }
   ],
   "source": [
    "print(f'Size of traing set: {X_train.shape} and of test set: {X_test.shape}')"
   ]
  },
  {
   "cell_type": "code",
   "execution_count": 9,
   "id": "de33da45",
   "metadata": {},
   "outputs": [],
   "source": [
    "# Log transformations\n",
    "var_to_log = ['creatinine.enzymatic.method', 'urea', 'glomerular.filtration.rate', \n",
    "              'cystatin', 'lymphocyte.count', 'neutrophil.count',\n",
    "              'activated.partial.thromboplastin.time', 'prothrombin.time.ratio',\n",
    "              'glutamyltranspeptidase','indirect.bilirubin','alkaline.phosphatase',\n",
    "              'globulin','direct.bilirubin', 'low.density.lipoprotein.cholesterol', \n",
    "              'triglyceride']\n",
    "X_train[var_to_log] = np.log(X_train[var_to_log])\n",
    "X_test[var_to_log] = np.log(X_test[var_to_log])"
   ]
  },
  {
   "cell_type": "code",
   "execution_count": 10,
   "id": "26c41254",
   "metadata": {},
   "outputs": [],
   "source": [
    "# take the lists of variables by type\n",
    "\n",
    "cat_columns = ['DestinationDischarge','admission.ward','admission.way','discharge.department',\n",
    "                       'type.of.heart.failure', 'NYHA.cardiac.function.classification', 'Killip.grade',\n",
    "                       'consciousness', 'ageCat']\n",
    "\n",
    "ordinal_columns = ['CCI.score', 'eye.opening','verbal.response', 'movement', 'GCS']\n",
    "\n",
    "not_continuous = cat_columns.copy()\n",
    "\n",
    "binary_columns = ['gender', 'diabetes', 'moderate.to.severe.chronic.kidney.disease',\n",
    "                  'return.to.emergency.department.within.6.months', 'diuretics',\n",
    "                  'hypertension', 'heart_failure', 'angina_etal', 'cholesterol']\n",
    "\n",
    "not_continuous.extend(binary_columns)\n",
    "not_continuous.extend(ordinal_columns)"
   ]
  },
  {
   "cell_type": "code",
   "execution_count": 11,
   "id": "73b623b4",
   "metadata": {},
   "outputs": [],
   "source": [
    "cont_columns = [col_name for col_name in X_train.columns if col_name not in not_continuous]"
   ]
  },
  {
   "cell_type": "code",
   "execution_count": 12,
   "id": "13ece53f",
   "metadata": {},
   "outputs": [],
   "source": [
    "# for each category we add its specification, needed to retreive columns after OneHotEcoding\n",
    "#for cat in cat_columns:\n",
    "#    X_train[cat] = cat + '_' + X_train[cat]\n",
    "#    X_test[cat] = cat + '_' + X_test[cat]"
   ]
  },
  {
   "cell_type": "markdown",
   "id": "9e8dd8c7",
   "metadata": {},
   "source": [
    "## Pipeline definition"
   ]
  },
  {
   "cell_type": "code",
   "execution_count": 13,
   "id": "a59a64d8",
   "metadata": {},
   "outputs": [],
   "source": [
    "#def log_transf_stand(x):\n",
    "#    \"Transform to log and standardize\"\n",
    "#    x = np.log(x)\n",
    "#    return (x - x.mean())/x.std()\n",
    "\n",
    "#log_transformer = FunctionTransformer(log_transf_stand)"
   ]
  },
  {
   "cell_type": "code",
   "execution_count": 14,
   "id": "7112a98c",
   "metadata": {},
   "outputs": [],
   "source": [
    "#full_pipeline = ColumnTransformer([\n",
    "#        (\"log\", log_transformer, var_to_log),\n",
    "#        (\"num\", StandardScaler(), list(set(cont_columns) - set(var_to_log))),     \n",
    "#        (\"cat\", OneHotEncoder(), cat_columns)],\n",
    "#       remainder = 'passthrough')"
   ]
  },
  {
   "cell_type": "code",
   "execution_count": 15,
   "id": "07e8ed65",
   "metadata": {},
   "outputs": [],
   "source": [
    "full_pipeline = ColumnTransformer([\n",
    "                (\"num\", StandardScaler(),cont_columns),\n",
    "                (\"cat\", OneHotEncoder(), cat_columns)],\n",
    "                remainder = 'passthrough') # do not modify columns not listed\n",
    "\n",
    "X_train_prepared = full_pipeline.fit_transform(X_train)\n",
    "X_test_prepared = full_pipeline.transform(X_test) "
   ]
  },
  {
   "cell_type": "code",
   "execution_count": 16,
   "id": "e30e6762",
   "metadata": {
    "scrolled": true
   },
   "outputs": [
    {
     "name": "stdout",
     "output_type": "stream",
     "text": [
      "Size of traing set: (1567, 107) and of test set: (397, 107)\n"
     ]
    }
   ],
   "source": [
    "print(f'Size of traing set: {X_train_prepared.shape} and of test set: {X_test_prepared.shape}')"
   ]
  },
  {
   "cell_type": "code",
   "execution_count": 74,
   "id": "caf27fdf",
   "metadata": {},
   "outputs": [],
   "source": [
    "column_prepared = list(full_pipeline.get_feature_names_out(input_features=X_train.columns))"
   ]
  },
  {
   "cell_type": "code",
   "execution_count": 17,
   "id": "90b40b08",
   "metadata": {
    "scrolled": false
   },
   "outputs": [
    {
     "name": "stdout",
     "output_type": "stream",
     "text": [
      "Imputing row 1/1567 with 0 missing, elapsed time: 1.254\n",
      "Imputing row 101/1567 with 2 missing, elapsed time: 1.260\n",
      "Imputing row 201/1567 with 3 missing, elapsed time: 1.266\n",
      "Imputing row 301/1567 with 0 missing, elapsed time: 1.273\n",
      "Imputing row 401/1567 with 16 missing, elapsed time: 1.278\n",
      "Imputing row 501/1567 with 4 missing, elapsed time: 1.285\n",
      "Imputing row 601/1567 with 4 missing, elapsed time: 1.291\n",
      "Imputing row 701/1567 with 5 missing, elapsed time: 1.296\n",
      "Imputing row 801/1567 with 1 missing, elapsed time: 1.303\n",
      "Imputing row 901/1567 with 0 missing, elapsed time: 1.308\n",
      "Imputing row 1001/1567 with 1 missing, elapsed time: 1.315\n",
      "Imputing row 1101/1567 with 1 missing, elapsed time: 1.321\n",
      "Imputing row 1201/1567 with 4 missing, elapsed time: 1.327\n",
      "Imputing row 1301/1567 with 1 missing, elapsed time: 1.334\n",
      "Imputing row 1401/1567 with 4 missing, elapsed time: 1.340\n",
      "Imputing row 1501/1567 with 0 missing, elapsed time: 1.346\n",
      "Imputing row 1/397 with 9 missing, elapsed time: 0.084\n",
      "Imputing row 101/397 with 4 missing, elapsed time: 0.090\n",
      "Imputing row 201/397 with 1 missing, elapsed time: 0.095\n",
      "Imputing row 301/397 with 0 missing, elapsed time: 0.101\n"
     ]
    }
   ],
   "source": [
    "# imputation cannot be done inside the Pipeline because the method 'transform' is missing\n",
    "\n",
    "knn_imputer = KNN()\n",
    "X_train_prepared = knn_imputer.fit_transform(X_train_prepared)\n",
    "X_test_prepared = knn_imputer.fit_transform(X_test_prepared)"
   ]
  },
  {
   "cell_type": "code",
   "execution_count": 20,
   "id": "7126f046",
   "metadata": {},
   "outputs": [
    {
     "data": {
      "text/html": [
       "<div>\n",
       "<style scoped>\n",
       "    .dataframe tbody tr th:only-of-type {\n",
       "        vertical-align: middle;\n",
       "    }\n",
       "\n",
       "    .dataframe tbody tr th {\n",
       "        vertical-align: top;\n",
       "    }\n",
       "\n",
       "    .dataframe thead th {\n",
       "        text-align: right;\n",
       "    }\n",
       "</style>\n",
       "<table border=\"1\" class=\"dataframe\">\n",
       "  <thead>\n",
       "    <tr style=\"text-align: right;\">\n",
       "      <th></th>\n",
       "      <th>num__body.temperature</th>\n",
       "      <th>num__pulse</th>\n",
       "      <th>num__respiration</th>\n",
       "      <th>num__systolic.blood.pressure</th>\n",
       "      <th>num__diastolic.blood.pressure</th>\n",
       "      <th>num__weight</th>\n",
       "      <th>num__BMI</th>\n",
       "      <th>num__fio2</th>\n",
       "      <th>num__left.ventricular.end.diastolic.diameter.LV</th>\n",
       "      <th>num__creatinine.enzymatic.method</th>\n",
       "      <th>...</th>\n",
       "      <th>remainder__CCI.score</th>\n",
       "      <th>remainder__eye.opening</th>\n",
       "      <th>remainder__verbal.response</th>\n",
       "      <th>remainder__movement</th>\n",
       "      <th>remainder__GCS</th>\n",
       "      <th>remainder__diuretics</th>\n",
       "      <th>remainder__hypertension</th>\n",
       "      <th>remainder__heart_failure</th>\n",
       "      <th>remainder__angina_etal</th>\n",
       "      <th>remainder__cholesterol</th>\n",
       "    </tr>\n",
       "    <tr>\n",
       "      <th>inpatient.number</th>\n",
       "      <th></th>\n",
       "      <th></th>\n",
       "      <th></th>\n",
       "      <th></th>\n",
       "      <th></th>\n",
       "      <th></th>\n",
       "      <th></th>\n",
       "      <th></th>\n",
       "      <th></th>\n",
       "      <th></th>\n",
       "      <th></th>\n",
       "      <th></th>\n",
       "      <th></th>\n",
       "      <th></th>\n",
       "      <th></th>\n",
       "      <th></th>\n",
       "      <th></th>\n",
       "      <th></th>\n",
       "      <th></th>\n",
       "      <th></th>\n",
       "      <th></th>\n",
       "    </tr>\n",
       "  </thead>\n",
       "  <tbody>\n",
       "    <tr>\n",
       "      <th>746794</th>\n",
       "      <td>1.556790</td>\n",
       "      <td>0.650323</td>\n",
       "      <td>-2.421625</td>\n",
       "      <td>1.652486</td>\n",
       "      <td>0.650813</td>\n",
       "      <td>-0.717652</td>\n",
       "      <td>0.066535</td>\n",
       "      <td>0.082293</td>\n",
       "      <td>-0.933569</td>\n",
       "      <td>-0.722531</td>\n",
       "      <td>...</td>\n",
       "      <td>1.0</td>\n",
       "      <td>4.0</td>\n",
       "      <td>5.0</td>\n",
       "      <td>6.0</td>\n",
       "      <td>15.0</td>\n",
       "      <td>1.0</td>\n",
       "      <td>1.0</td>\n",
       "      <td>0.0</td>\n",
       "      <td>1.0</td>\n",
       "      <td>0.0</td>\n",
       "    </tr>\n",
       "    <tr>\n",
       "      <th>830900</th>\n",
       "      <td>0.194327</td>\n",
       "      <td>-0.486118</td>\n",
       "      <td>-0.648407</td>\n",
       "      <td>0.918719</td>\n",
       "      <td>0.511105</td>\n",
       "      <td>3.537261</td>\n",
       "      <td>0.863395</td>\n",
       "      <td>0.082293</td>\n",
       "      <td>0.462482</td>\n",
       "      <td>-0.774648</td>\n",
       "      <td>...</td>\n",
       "      <td>1.0</td>\n",
       "      <td>4.0</td>\n",
       "      <td>5.0</td>\n",
       "      <td>6.0</td>\n",
       "      <td>15.0</td>\n",
       "      <td>1.0</td>\n",
       "      <td>0.0</td>\n",
       "      <td>1.0</td>\n",
       "      <td>1.0</td>\n",
       "      <td>1.0</td>\n",
       "    </tr>\n",
       "    <tr>\n",
       "      <th>730511</th>\n",
       "      <td>4.962947</td>\n",
       "      <td>0.508268</td>\n",
       "      <td>-0.057334</td>\n",
       "      <td>-0.059637</td>\n",
       "      <td>0.231688</td>\n",
       "      <td>-0.489843</td>\n",
       "      <td>-1.433437</td>\n",
       "      <td>0.082293</td>\n",
       "      <td>0.741692</td>\n",
       "      <td>-0.087419</td>\n",
       "      <td>...</td>\n",
       "      <td>3.0</td>\n",
       "      <td>4.0</td>\n",
       "      <td>5.0</td>\n",
       "      <td>6.0</td>\n",
       "      <td>15.0</td>\n",
       "      <td>1.0</td>\n",
       "      <td>1.0</td>\n",
       "      <td>1.0</td>\n",
       "      <td>1.0</td>\n",
       "      <td>0.0</td>\n",
       "    </tr>\n",
       "    <tr>\n",
       "      <th>790988</th>\n",
       "      <td>1.329713</td>\n",
       "      <td>0.129454</td>\n",
       "      <td>-0.648407</td>\n",
       "      <td>-0.956464</td>\n",
       "      <td>-1.584523</td>\n",
       "      <td>-1.001313</td>\n",
       "      <td>-0.213904</td>\n",
       "      <td>0.082293</td>\n",
       "      <td>-0.188636</td>\n",
       "      <td>3.288521</td>\n",
       "      <td>...</td>\n",
       "      <td>2.0</td>\n",
       "      <td>4.0</td>\n",
       "      <td>5.0</td>\n",
       "      <td>6.0</td>\n",
       "      <td>15.0</td>\n",
       "      <td>1.0</td>\n",
       "      <td>0.0</td>\n",
       "      <td>0.0</td>\n",
       "      <td>0.0</td>\n",
       "      <td>1.0</td>\n",
       "    </tr>\n",
       "    <tr>\n",
       "      <th>779438</th>\n",
       "      <td>0.194327</td>\n",
       "      <td>0.981785</td>\n",
       "      <td>-0.648407</td>\n",
       "      <td>0.755659</td>\n",
       "      <td>0.930230</td>\n",
       "      <td>0.511545</td>\n",
       "      <td>0.296504</td>\n",
       "      <td>-0.847097</td>\n",
       "      <td>-0.002868</td>\n",
       "      <td>0.835269</td>\n",
       "      <td>...</td>\n",
       "      <td>2.0</td>\n",
       "      <td>4.0</td>\n",
       "      <td>5.0</td>\n",
       "      <td>6.0</td>\n",
       "      <td>15.0</td>\n",
       "      <td>1.0</td>\n",
       "      <td>1.0</td>\n",
       "      <td>1.0</td>\n",
       "      <td>1.0</td>\n",
       "      <td>1.0</td>\n",
       "    </tr>\n",
       "  </tbody>\n",
       "</table>\n",
       "<p>5 rows × 107 columns</p>\n",
       "</div>"
      ],
      "text/plain": [
       "                  num__body.temperature  num__pulse  num__respiration  \\\n",
       "inpatient.number                                                        \n",
       "746794                         1.556790    0.650323         -2.421625   \n",
       "830900                         0.194327   -0.486118         -0.648407   \n",
       "730511                         4.962947    0.508268         -0.057334   \n",
       "790988                         1.329713    0.129454         -0.648407   \n",
       "779438                         0.194327    0.981785         -0.648407   \n",
       "\n",
       "                  num__systolic.blood.pressure  num__diastolic.blood.pressure  \\\n",
       "inpatient.number                                                                \n",
       "746794                                1.652486                       0.650813   \n",
       "830900                                0.918719                       0.511105   \n",
       "730511                               -0.059637                       0.231688   \n",
       "790988                               -0.956464                      -1.584523   \n",
       "779438                                0.755659                       0.930230   \n",
       "\n",
       "                  num__weight  num__BMI  num__fio2  \\\n",
       "inpatient.number                                     \n",
       "746794              -0.717652  0.066535   0.082293   \n",
       "830900               3.537261  0.863395   0.082293   \n",
       "730511              -0.489843 -1.433437   0.082293   \n",
       "790988              -1.001313 -0.213904   0.082293   \n",
       "779438               0.511545  0.296504  -0.847097   \n",
       "\n",
       "                  num__left.ventricular.end.diastolic.diameter.LV  \\\n",
       "inpatient.number                                                    \n",
       "746794                                                  -0.933569   \n",
       "830900                                                   0.462482   \n",
       "730511                                                   0.741692   \n",
       "790988                                                  -0.188636   \n",
       "779438                                                  -0.002868   \n",
       "\n",
       "                  num__creatinine.enzymatic.method  ...  remainder__CCI.score  \\\n",
       "inpatient.number                                    ...                         \n",
       "746794                                   -0.722531  ...                   1.0   \n",
       "830900                                   -0.774648  ...                   1.0   \n",
       "730511                                   -0.087419  ...                   3.0   \n",
       "790988                                    3.288521  ...                   2.0   \n",
       "779438                                    0.835269  ...                   2.0   \n",
       "\n",
       "                  remainder__eye.opening  remainder__verbal.response  \\\n",
       "inpatient.number                                                       \n",
       "746794                               4.0                         5.0   \n",
       "830900                               4.0                         5.0   \n",
       "730511                               4.0                         5.0   \n",
       "790988                               4.0                         5.0   \n",
       "779438                               4.0                         5.0   \n",
       "\n",
       "                  remainder__movement  remainder__GCS  remainder__diuretics  \\\n",
       "inpatient.number                                                              \n",
       "746794                            6.0            15.0                   1.0   \n",
       "830900                            6.0            15.0                   1.0   \n",
       "730511                            6.0            15.0                   1.0   \n",
       "790988                            6.0            15.0                   1.0   \n",
       "779438                            6.0            15.0                   1.0   \n",
       "\n",
       "                  remainder__hypertension  remainder__heart_failure  \\\n",
       "inpatient.number                                                      \n",
       "746794                                1.0                       0.0   \n",
       "830900                                0.0                       1.0   \n",
       "730511                                1.0                       1.0   \n",
       "790988                                0.0                       0.0   \n",
       "779438                                1.0                       1.0   \n",
       "\n",
       "                  remainder__angina_etal  remainder__cholesterol  \n",
       "inpatient.number                                                  \n",
       "746794                               1.0                     0.0  \n",
       "830900                               1.0                     1.0  \n",
       "730511                               1.0                     0.0  \n",
       "790988                               0.0                     1.0  \n",
       "779438                               1.0                     1.0  \n",
       "\n",
       "[5 rows x 107 columns]"
      ]
     },
     "execution_count": 20,
     "metadata": {},
     "output_type": "execute_result"
    }
   ],
   "source": [
    "X_train_prepared=pd.DataFrame(X_train_prepared, columns=column_prepared, index=X_train.index)\n",
    "X_train_prepared.head()"
   ]
  },
  {
   "cell_type": "code",
   "execution_count": 21,
   "id": "0bcae78d",
   "metadata": {},
   "outputs": [
    {
     "data": {
      "text/html": [
       "<div>\n",
       "<style scoped>\n",
       "    .dataframe tbody tr th:only-of-type {\n",
       "        vertical-align: middle;\n",
       "    }\n",
       "\n",
       "    .dataframe tbody tr th {\n",
       "        vertical-align: top;\n",
       "    }\n",
       "\n",
       "    .dataframe thead th {\n",
       "        text-align: right;\n",
       "    }\n",
       "</style>\n",
       "<table border=\"1\" class=\"dataframe\">\n",
       "  <thead>\n",
       "    <tr style=\"text-align: right;\">\n",
       "      <th></th>\n",
       "      <th>num__body.temperature</th>\n",
       "      <th>num__pulse</th>\n",
       "      <th>num__respiration</th>\n",
       "      <th>num__systolic.blood.pressure</th>\n",
       "      <th>num__diastolic.blood.pressure</th>\n",
       "      <th>num__weight</th>\n",
       "      <th>num__BMI</th>\n",
       "      <th>num__fio2</th>\n",
       "      <th>num__left.ventricular.end.diastolic.diameter.LV</th>\n",
       "      <th>num__creatinine.enzymatic.method</th>\n",
       "      <th>...</th>\n",
       "      <th>remainder__CCI.score</th>\n",
       "      <th>remainder__eye.opening</th>\n",
       "      <th>remainder__verbal.response</th>\n",
       "      <th>remainder__movement</th>\n",
       "      <th>remainder__GCS</th>\n",
       "      <th>remainder__diuretics</th>\n",
       "      <th>remainder__hypertension</th>\n",
       "      <th>remainder__heart_failure</th>\n",
       "      <th>remainder__angina_etal</th>\n",
       "      <th>remainder__cholesterol</th>\n",
       "    </tr>\n",
       "    <tr>\n",
       "      <th>inpatient.number</th>\n",
       "      <th></th>\n",
       "      <th></th>\n",
       "      <th></th>\n",
       "      <th></th>\n",
       "      <th></th>\n",
       "      <th></th>\n",
       "      <th></th>\n",
       "      <th></th>\n",
       "      <th></th>\n",
       "      <th></th>\n",
       "      <th></th>\n",
       "      <th></th>\n",
       "      <th></th>\n",
       "      <th></th>\n",
       "      <th></th>\n",
       "      <th></th>\n",
       "      <th></th>\n",
       "      <th></th>\n",
       "      <th></th>\n",
       "      <th></th>\n",
       "      <th></th>\n",
       "    </tr>\n",
       "  </thead>\n",
       "  <tbody>\n",
       "    <tr>\n",
       "      <th>770068</th>\n",
       "      <td>0.194327</td>\n",
       "      <td>-0.249359</td>\n",
       "      <td>-0.648407</td>\n",
       "      <td>-0.263462</td>\n",
       "      <td>0.231688</td>\n",
       "      <td>2.118957</td>\n",
       "      <td>0.744300</td>\n",
       "      <td>0.082293</td>\n",
       "      <td>0.149976</td>\n",
       "      <td>0.312704</td>\n",
       "      <td>...</td>\n",
       "      <td>1.0</td>\n",
       "      <td>4.0</td>\n",
       "      <td>5.0</td>\n",
       "      <td>6.0</td>\n",
       "      <td>15.0</td>\n",
       "      <td>1.0</td>\n",
       "      <td>1.0</td>\n",
       "      <td>1.0</td>\n",
       "      <td>1.0</td>\n",
       "      <td>0.0</td>\n",
       "    </tr>\n",
       "    <tr>\n",
       "      <th>860037</th>\n",
       "      <td>-0.941059</td>\n",
       "      <td>0.602971</td>\n",
       "      <td>-0.648407</td>\n",
       "      <td>0.755659</td>\n",
       "      <td>0.720667</td>\n",
       "      <td>2.024403</td>\n",
       "      <td>0.259282</td>\n",
       "      <td>0.082293</td>\n",
       "      <td>0.369412</td>\n",
       "      <td>-0.491654</td>\n",
       "      <td>...</td>\n",
       "      <td>1.0</td>\n",
       "      <td>4.0</td>\n",
       "      <td>5.0</td>\n",
       "      <td>6.0</td>\n",
       "      <td>15.0</td>\n",
       "      <td>1.0</td>\n",
       "      <td>1.0</td>\n",
       "      <td>1.0</td>\n",
       "      <td>1.0</td>\n",
       "      <td>1.0</td>\n",
       "    </tr>\n",
       "    <tr>\n",
       "      <th>782110</th>\n",
       "      <td>0.194327</td>\n",
       "      <td>-0.249359</td>\n",
       "      <td>-0.648407</td>\n",
       "      <td>-0.874934</td>\n",
       "      <td>0.231688</td>\n",
       "      <td>0.511545</td>\n",
       "      <td>0.046743</td>\n",
       "      <td>-2.705875</td>\n",
       "      <td>0.595091</td>\n",
       "      <td>0.393034</td>\n",
       "      <td>...</td>\n",
       "      <td>3.0</td>\n",
       "      <td>4.0</td>\n",
       "      <td>5.0</td>\n",
       "      <td>6.0</td>\n",
       "      <td>15.0</td>\n",
       "      <td>1.0</td>\n",
       "      <td>1.0</td>\n",
       "      <td>1.0</td>\n",
       "      <td>1.0</td>\n",
       "      <td>0.0</td>\n",
       "    </tr>\n",
       "    <tr>\n",
       "      <th>742279</th>\n",
       "      <td>-0.032750</td>\n",
       "      <td>-1.385801</td>\n",
       "      <td>-0.648407</td>\n",
       "      <td>-1.078759</td>\n",
       "      <td>-0.816126</td>\n",
       "      <td>-1.190420</td>\n",
       "      <td>-0.271977</td>\n",
       "      <td>0.082293</td>\n",
       "      <td>-0.301401</td>\n",
       "      <td>-1.061928</td>\n",
       "      <td>...</td>\n",
       "      <td>1.0</td>\n",
       "      <td>4.0</td>\n",
       "      <td>5.0</td>\n",
       "      <td>6.0</td>\n",
       "      <td>15.0</td>\n",
       "      <td>1.0</td>\n",
       "      <td>1.0</td>\n",
       "      <td>0.0</td>\n",
       "      <td>1.0</td>\n",
       "      <td>1.0</td>\n",
       "    </tr>\n",
       "    <tr>\n",
       "      <th>734121</th>\n",
       "      <td>0.194327</td>\n",
       "      <td>-1.243745</td>\n",
       "      <td>-0.057334</td>\n",
       "      <td>0.266481</td>\n",
       "      <td>0.790522</td>\n",
       "      <td>-0.717652</td>\n",
       "      <td>-0.353568</td>\n",
       "      <td>0.082293</td>\n",
       "      <td>-0.468219</td>\n",
       "      <td>0.717118</td>\n",
       "      <td>...</td>\n",
       "      <td>3.0</td>\n",
       "      <td>4.0</td>\n",
       "      <td>5.0</td>\n",
       "      <td>6.0</td>\n",
       "      <td>15.0</td>\n",
       "      <td>1.0</td>\n",
       "      <td>1.0</td>\n",
       "      <td>0.0</td>\n",
       "      <td>1.0</td>\n",
       "      <td>0.0</td>\n",
       "    </tr>\n",
       "  </tbody>\n",
       "</table>\n",
       "<p>5 rows × 107 columns</p>\n",
       "</div>"
      ],
      "text/plain": [
       "                  num__body.temperature  num__pulse  num__respiration  \\\n",
       "inpatient.number                                                        \n",
       "770068                         0.194327   -0.249359         -0.648407   \n",
       "860037                        -0.941059    0.602971         -0.648407   \n",
       "782110                         0.194327   -0.249359         -0.648407   \n",
       "742279                        -0.032750   -1.385801         -0.648407   \n",
       "734121                         0.194327   -1.243745         -0.057334   \n",
       "\n",
       "                  num__systolic.blood.pressure  num__diastolic.blood.pressure  \\\n",
       "inpatient.number                                                                \n",
       "770068                               -0.263462                       0.231688   \n",
       "860037                                0.755659                       0.720667   \n",
       "782110                               -0.874934                       0.231688   \n",
       "742279                               -1.078759                      -0.816126   \n",
       "734121                                0.266481                       0.790522   \n",
       "\n",
       "                  num__weight  num__BMI  num__fio2  \\\n",
       "inpatient.number                                     \n",
       "770068               2.118957  0.744300   0.082293   \n",
       "860037               2.024403  0.259282   0.082293   \n",
       "782110               0.511545  0.046743  -2.705875   \n",
       "742279              -1.190420 -0.271977   0.082293   \n",
       "734121              -0.717652 -0.353568   0.082293   \n",
       "\n",
       "                  num__left.ventricular.end.diastolic.diameter.LV  \\\n",
       "inpatient.number                                                    \n",
       "770068                                                   0.149976   \n",
       "860037                                                   0.369412   \n",
       "782110                                                   0.595091   \n",
       "742279                                                  -0.301401   \n",
       "734121                                                  -0.468219   \n",
       "\n",
       "                  num__creatinine.enzymatic.method  ...  remainder__CCI.score  \\\n",
       "inpatient.number                                    ...                         \n",
       "770068                                    0.312704  ...                   1.0   \n",
       "860037                                   -0.491654  ...                   1.0   \n",
       "782110                                    0.393034  ...                   3.0   \n",
       "742279                                   -1.061928  ...                   1.0   \n",
       "734121                                    0.717118  ...                   3.0   \n",
       "\n",
       "                  remainder__eye.opening  remainder__verbal.response  \\\n",
       "inpatient.number                                                       \n",
       "770068                               4.0                         5.0   \n",
       "860037                               4.0                         5.0   \n",
       "782110                               4.0                         5.0   \n",
       "742279                               4.0                         5.0   \n",
       "734121                               4.0                         5.0   \n",
       "\n",
       "                  remainder__movement  remainder__GCS  remainder__diuretics  \\\n",
       "inpatient.number                                                              \n",
       "770068                            6.0            15.0                   1.0   \n",
       "860037                            6.0            15.0                   1.0   \n",
       "782110                            6.0            15.0                   1.0   \n",
       "742279                            6.0            15.0                   1.0   \n",
       "734121                            6.0            15.0                   1.0   \n",
       "\n",
       "                  remainder__hypertension  remainder__heart_failure  \\\n",
       "inpatient.number                                                      \n",
       "770068                                1.0                       1.0   \n",
       "860037                                1.0                       1.0   \n",
       "782110                                1.0                       1.0   \n",
       "742279                                1.0                       0.0   \n",
       "734121                                1.0                       0.0   \n",
       "\n",
       "                  remainder__angina_etal  remainder__cholesterol  \n",
       "inpatient.number                                                  \n",
       "770068                               1.0                     0.0  \n",
       "860037                               1.0                     1.0  \n",
       "782110                               1.0                     0.0  \n",
       "742279                               1.0                     1.0  \n",
       "734121                               1.0                     0.0  \n",
       "\n",
       "[5 rows x 107 columns]"
      ]
     },
     "execution_count": 21,
     "metadata": {},
     "output_type": "execute_result"
    }
   ],
   "source": [
    "X_test_prepared=pd.DataFrame(X_test_prepared, columns=column_prepared, index=X_test.index)\n",
    "X_test_prepared.head()"
   ]
  },
  {
   "cell_type": "code",
   "execution_count": 22,
   "id": "2418774b",
   "metadata": {},
   "outputs": [],
   "source": [
    "X_train_prepared.drop(columns = \"cat__DestinationDischarge_nan\",inplace=True)\n",
    "X_test_prepared.drop(columns = \"cat__DestinationDischarge_nan\",inplace=True)\n",
    "column_prepared.remove(\"cat__DestinationDischarge_nan\")"
   ]
  },
  {
   "cell_type": "code",
   "execution_count": 23,
   "id": "8e4c3d47",
   "metadata": {
    "scrolled": false
   },
   "outputs": [
    {
     "name": "stdout",
     "output_type": "stream",
     "text": [
      "Size of traing set: (1567, 106) and of test set: (397, 106)\n"
     ]
    }
   ],
   "source": [
    "print(f'Size of traing set: {X_train_prepared.shape} and of test set: {X_test_prepared.shape}')"
   ]
  },
  {
   "cell_type": "code",
   "execution_count": null,
   "id": "cb8714d8",
   "metadata": {
    "scrolled": true
   },
   "outputs": [],
   "source": [
    "#for idx,elem in enumerate(features_names):\n",
    "#    if elem == 'nan':\n",
    "#        print(idx)"
   ]
  },
  {
   "cell_type": "code",
   "execution_count": null,
   "id": "586d459b",
   "metadata": {},
   "outputs": [],
   "source": [
    "#X_train_prepared = np.delete(X_train_prepared, idx, axis = 1)\n",
    "#X_test_prepared = np.delete(X_test_prepared, idx, axis = 1)\n",
    "\n",
    "# ADJUST THIS!!!"
   ]
  },
  {
   "cell_type": "markdown",
   "id": "9c5be909",
   "metadata": {},
   "source": [
    "## Logistic Regression with Elasticnet penalty\n",
    "Since we have many columns, of which we doubt some might still be collinear, we use an Elastic net penalty, which takes into account both the L2 norm and the L1 norm, which induces sparsity.\n",
    "\n",
    "Moreover, we add the “balanced” mode, which uses the values of y to automatically adjust weights inversely proportional to class frequencies in the input data as n_samples / (n_classes * np.bincount(y))."
   ]
  },
  {
   "cell_type": "code",
   "execution_count": 31,
   "id": "fc828ede",
   "metadata": {},
   "outputs": [
    {
     "data": {
      "text/plain": [
       "LogisticRegression(class_weight='balanced', l1_ratio=0.5, max_iter=5000,\n",
       "                   penalty='elasticnet', random_state=42, solver='saga')"
      ]
     },
     "execution_count": 31,
     "metadata": {},
     "output_type": "execute_result"
    }
   ],
   "source": [
    "log_reg_clf = LogisticRegression(penalty = 'elasticnet', solver = 'saga', \n",
    "                                 class_weight = 'balanced', l1_ratio = 0.5, \n",
    "                                 max_iter = 5000, random_state=42)\n",
    "# this method takes many iterations to converge\n",
    "log_reg_clf.fit(X_train_prepared, Y_train)"
   ]
  },
  {
   "cell_type": "code",
   "execution_count": 32,
   "id": "25e04ce7",
   "metadata": {},
   "outputs": [
    {
     "data": {
      "text/plain": [
       "0.6228236667783622"
      ]
     },
     "execution_count": 32,
     "metadata": {},
     "output_type": "execute_result"
    }
   ],
   "source": [
    "pred = log_reg_clf.predict(X_test_prepared)\n",
    "final_mse = mean_squared_error(Y_test, pred)\n",
    "final_rmse = np.sqrt(final_mse)\n",
    "final_rmse"
   ]
  },
  {
   "cell_type": "code",
   "execution_count": 33,
   "id": "ec389c11",
   "metadata": {},
   "outputs": [
    {
     "name": "stdout",
     "output_type": "stream",
     "text": [
      "AUC: 0.607022607022607, F1: 0.5389221556886228, Recall: 0.5844155844155844, Precision: 0.5\n"
     ]
    },
    {
     "data": {
      "text/plain": [
       "[0.607022607022607, 0.5389221556886228, 0.5844155844155844, 0.5]"
      ]
     },
     "execution_count": 33,
     "metadata": {},
     "output_type": "execute_result"
    }
   ],
   "source": [
    "compute_metrics(Y_test, pred)"
   ]
  },
  {
   "cell_type": "code",
   "execution_count": 34,
   "id": "ffdf61a6",
   "metadata": {},
   "outputs": [
    {
     "name": "stderr",
     "output_type": "stream",
     "text": [
      "/Library/Frameworks/Python.framework/Versions/3.9/lib/python3.9/site-packages/sklearn/base.py:443: UserWarning: X has feature names, but SelectFromModel was fitted without feature names\n",
      "  warnings.warn(\n"
     ]
    },
    {
     "data": {
      "text/plain": [
       "(1567, 35)"
      ]
     },
     "execution_count": 34,
     "metadata": {},
     "output_type": "execute_result"
    }
   ],
   "source": [
    "from sklearn.feature_selection import SelectFromModel\n",
    "\n",
    "model = SelectFromModel(log_reg_clf, prefit=True)\n",
    "X_new = model.transform(X_train_prepared)\n",
    "X_new.shape"
   ]
  },
  {
   "cell_type": "code",
   "execution_count": 35,
   "id": "4b0726b7",
   "metadata": {},
   "outputs": [],
   "source": [
    "significant_features=list(model.get_feature_names_out(input_features=column_prepared))"
   ]
  },
  {
   "cell_type": "code",
   "execution_count": null,
   "id": "f61665ed",
   "metadata": {},
   "outputs": [],
   "source": [
    "# TO GET THE NAMES OF THE IMPORTANT FEATURES, WE HAVE TO PASS THE MATRIX WITH THE COLUMN NAMES"
   ]
  },
  {
   "cell_type": "code",
   "execution_count": null,
   "id": "31f0e52f",
   "metadata": {},
   "outputs": [],
   "source": [
    "# AFTER THIS, FIT THE RANDOM FOREST ONLY WITH THE GOOD FEATURES!!"
   ]
  },
  {
   "cell_type": "code",
   "execution_count": null,
   "id": "2ef77a2d",
   "metadata": {
    "scrolled": true
   },
   "outputs": [],
   "source": [
    "#log_reg_clf = LogisticRegression(penalty = 'elasticnet', solver = 'saga', class_weight = 'balanced', max_iter = 1000, random_state=42)\n",
    "\n",
    "# C and l1_ratio can be tuned\n",
    "#'C': np.linspace(0.1,5,100),\n",
    "#param_grid = {'l1_ratio': np.linspace(0,1,101)}\n",
    "#grid_search = GridSearchCV(log_reg_clf, param_grid, cv=10,\n",
    "#                           scoring='neg_mean_squared_error',\n",
    "#                           return_train_score=True)\n",
    "#grid_search.fit(X_train_prepared, Y_train)"
   ]
  },
  {
   "cell_type": "markdown",
   "id": "ddb83991",
   "metadata": {},
   "source": [
    "## Random Forest classifier"
   ]
  },
  {
   "cell_type": "code",
   "execution_count": 91,
   "id": "af5bd4c0",
   "metadata": {},
   "outputs": [
    {
     "data": {
      "text/plain": [
       "GridSearchCV(cv=10, estimator=RandomForestClassifier(random_state=42),\n",
       "             param_grid={'max_features': [10, 20, 30, 40, 50, 60, 70, 80, 90,\n",
       "                                          100, 106],\n",
       "                         'n_estimators': [10, 30, 50, 100]},\n",
       "             return_train_score=True, scoring='f1_weighted')"
      ]
     },
     "execution_count": 91,
     "metadata": {},
     "output_type": "execute_result"
    }
   ],
   "source": [
    "param_grid = {'n_estimators': [10, 30, 50, 100],\n",
    "              'max_features': list(np.arange(10,X_train_prepared.shape[1],10)) + [X_train_prepared.shape[1]]} \n",
    "\n",
    "    \n",
    "\n",
    "forest_clf = RandomForestClassifier(random_state=42)\n",
    "\n",
    "# train across 5 folds, that's a total of (12+6)*5=90 rounds of training \n",
    "grid_search = GridSearchCV(forest_clf, param_grid, cv=10,\n",
    "                           scoring='f1_weighted',\n",
    "                           return_train_score=True)\n",
    "grid_search.fit(X_train_prepared, Y_train)"
   ]
  },
  {
   "cell_type": "code",
   "execution_count": 92,
   "id": "810809d8",
   "metadata": {
    "scrolled": true
   },
   "outputs": [
    {
     "data": {
      "text/plain": [
       "RandomForestClassifier(max_features=106, random_state=42)"
      ]
     },
     "execution_count": 92,
     "metadata": {},
     "output_type": "execute_result"
    }
   ],
   "source": [
    "final_model = grid_search.best_estimator_\n",
    "final_model"
   ]
  },
  {
   "cell_type": "markdown",
   "id": "c23c3cd3",
   "metadata": {},
   "source": [
    "### Fetaure importance"
   ]
  },
  {
   "cell_type": "code",
   "execution_count": 93,
   "id": "9e054c9b",
   "metadata": {},
   "outputs": [],
   "source": [
    "feature_importances = final_model.feature_importances_\n",
    "selected_features = sorted(list(zip(feature_importances,significant_features)), reverse=True)"
   ]
  },
  {
   "cell_type": "code",
   "execution_count": 94,
   "id": "dfa9f9c9",
   "metadata": {},
   "outputs": [
    {
     "data": {
      "text/plain": [
       "RandomForestClassifier(max_features=106, random_state=42)"
      ]
     },
     "execution_count": 94,
     "metadata": {},
     "output_type": "execute_result"
    }
   ],
   "source": [
    "final_model.fit(X_train_prepared,Y_train)"
   ]
  },
  {
   "cell_type": "code",
   "execution_count": 95,
   "id": "ea6b1c74",
   "metadata": {},
   "outputs": [],
   "source": [
    "selected_features_name = [elem[1] for elem in selected_features]"
   ]
  },
  {
   "cell_type": "markdown",
   "id": "56a2be61",
   "metadata": {},
   "source": [
    "### Predict on test set"
   ]
  },
  {
   "cell_type": "code",
   "execution_count": 96,
   "id": "fd2fa6c8",
   "metadata": {},
   "outputs": [
    {
     "data": {
      "text/plain": [
       "0.5938390659699312"
      ]
     },
     "execution_count": 96,
     "metadata": {},
     "output_type": "execute_result"
    }
   ],
   "source": [
    "final_predictions = final_model.predict(X_test_prepared)\n",
    "final_mse = mean_squared_error(Y_test, final_predictions)\n",
    "final_rmse = np.sqrt(final_mse)\n",
    "final_rmse"
   ]
  },
  {
   "cell_type": "code",
   "execution_count": 97,
   "id": "36ad8118",
   "metadata": {},
   "outputs": [
    {
     "name": "stdout",
     "output_type": "stream",
     "text": [
      "AUC: 0.5894527283416172, F1: 0.4214876033057851, Recall: 0.33116883116883117, Precision: 0.5795454545454546\n"
     ]
    },
    {
     "data": {
      "text/plain": [
       "[0.5894527283416172,\n",
       " 0.4214876033057851,\n",
       " 0.33116883116883117,\n",
       " 0.5795454545454546]"
      ]
     },
     "execution_count": 97,
     "metadata": {},
     "output_type": "execute_result"
    }
   ],
   "source": [
    "compute_metrics(Y_test, final_predictions)"
   ]
  },
  {
   "cell_type": "code",
   "execution_count": null,
   "id": "e3573e86",
   "metadata": {},
   "outputs": [],
   "source": [
    "#cat_list_one_hot = full_pipeline.named_transformers_[\"cat\"].categories_"
   ]
  },
  {
   "cell_type": "code",
   "execution_count": null,
   "id": "e0dc7da6",
   "metadata": {},
   "outputs": [],
   "source": [
    "#cat_features = []\n",
    "#for elem in cat_list_one_hot:\n",
    "#    cat_features.extend(elem)\n",
    "#cat_features"
   ]
  },
  {
   "cell_type": "code",
   "execution_count": null,
   "id": "f902a2a1",
   "metadata": {},
   "outputs": [],
   "source": [
    "sorted(zip(feature_importances,features_names), reverse=True)"
   ]
  }
 ],
 "metadata": {
  "kernelspec": {
   "display_name": "Python 3 (ipykernel)",
   "language": "python",
   "name": "python3"
  },
  "language_info": {
   "codemirror_mode": {
    "name": "ipython",
    "version": 3
   },
   "file_extension": ".py",
   "mimetype": "text/x-python",
   "name": "python",
   "nbconvert_exporter": "python",
   "pygments_lexer": "ipython3",
   "version": "3.9.2"
  }
 },
 "nbformat": 4,
 "nbformat_minor": 5
}
