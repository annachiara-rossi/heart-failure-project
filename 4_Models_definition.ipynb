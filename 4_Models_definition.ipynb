{
 "cells": [
  {
   "cell_type": "markdown",
   "id": "4734d2bc",
   "metadata": {},
   "source": [
    "## Importin libraries"
   ]
  },
  {
   "cell_type": "code",
   "execution_count": 1,
   "id": "603de935",
   "metadata": {},
   "outputs": [],
   "source": [
    "import numpy as np\n",
    "import pandas as pd\n",
    "import matplotlib.pyplot as plt\n",
    "import seaborn as sns\n",
    "np.random.seed(130298) "
   ]
  },
  {
   "cell_type": "code",
   "execution_count": 2,
   "id": "05a19b92",
   "metadata": {},
   "outputs": [],
   "source": [
    "from sklearn.pipeline import Pipeline\n",
    "from sklearn.preprocessing import StandardScaler, OneHotEncoder, FunctionTransformer \n",
    "from sklearn.compose import ColumnTransformer\n",
    "from sklearn.metrics import auc, f1_score, recall_score, precision_score,roc_curve, mean_squared_error"
   ]
  },
  {
   "cell_type": "code",
   "execution_count": 3,
   "id": "b37ca8d8",
   "metadata": {},
   "outputs": [],
   "source": [
    "from fancyimpute import IterativeImputer, KNN"
   ]
  },
  {
   "cell_type": "code",
   "execution_count": 4,
   "id": "b06ae280",
   "metadata": {},
   "outputs": [],
   "source": [
    "from sklearn.ensemble import RandomForestClassifier"
   ]
  },
  {
   "cell_type": "code",
   "execution_count": 5,
   "id": "2117f9e6",
   "metadata": {},
   "outputs": [],
   "source": [
    "def compute_metrics(Y, final_pred):\n",
    "    fpr, tpr, _ = roc_curve(Y,final_pred)\n",
    "    AUC = auc(fpr, tpr)\n",
    "    f1 = f1_score(Y,final_pred)\n",
    "    rec = recall_score(Y,final_pred)\n",
    "    prec = precision_score(Y,final_pred)\n",
    "    #print(f'AUC: {AUC}, F1: {f1}, Recall: {rec}, Precision: {prec}')\n",
    "    return [AUC, f1, rec, prec]"
   ]
  },
  {
   "cell_type": "code",
   "execution_count": 6,
   "id": "f0b783ef",
   "metadata": {},
   "outputs": [
    {
     "data": {
      "text/plain": [
       "'/Users/annachiararossi/Documents/Healthcare data/project_local'"
      ]
     },
     "execution_count": 6,
     "metadata": {},
     "output_type": "execute_result"
    }
   ],
   "source": [
    "%pwd"
   ]
  },
  {
   "cell_type": "markdown",
   "id": "57eee318",
   "metadata": {},
   "source": [
    "## Datasets definition"
   ]
  },
  {
   "cell_type": "code",
   "execution_count": 7,
   "id": "b2f1346d",
   "metadata": {},
   "outputs": [],
   "source": [
    "outcome_name = 're.admission.within.6.months'\n",
    "\n",
    "# take the training set\n",
    "X_train = pd.read_csv('train_data_drugs.csv')\n",
    "X_train.set_index('inpatient.number', inplace = True)\n",
    "\n",
    "# separate the outcome\n",
    "Y_train = X_train[outcome_name].copy()\n",
    "X_train.drop(columns = outcome_name, inplace = True)\n",
    "\n",
    "# take the test set\n",
    "X_test = pd.read_csv('test_data_drugs.csv')\n",
    "X_test.set_index('inpatient.number', inplace = True)\n",
    "\n",
    "# separate the outcome\n",
    "Y_test = X_test[outcome_name].copy()\n",
    "X_test.drop(columns = outcome_name, inplace = True)\n"
   ]
  },
  {
   "cell_type": "code",
   "execution_count": 8,
   "id": "26c41254",
   "metadata": {},
   "outputs": [],
   "source": [
    "# now we should adjust the lists of variables \n",
    "\n",
    "cat_columns = ['DestinationDischarge','admission.ward','admission.way','discharge.department',\n",
    "                       'type.of.heart.failure', 'NYHA.cardiac.function.classification', 'Killip.grade',\n",
    "                       'consciousness', 'ageCat']\n",
    "\n",
    "ordinal_columns = ['CCI.score', 'eye.opening','verbal.response', 'movement', 'GCS']\n",
    "\n",
    "not_continuous = cat_columns.copy()\n",
    "\n",
    "binary_columns = ['gender', 'diabetes', 'moderate.to.severe.chronic.kidney.disease',\n",
    "                  'return.to.emergency.department.within.6.months', 'diuretics',\n",
    "                  'hypertension', 'heart_failure', 'angina_etal', 'cholesterol_drug']\n",
    "\n",
    "not_continuous.extend(binary_columns)\n",
    "not_continuous.extend(ordinal_columns)"
   ]
  },
  {
   "cell_type": "code",
   "execution_count": 9,
   "id": "13ece53f",
   "metadata": {},
   "outputs": [],
   "source": [
    "for cat in cat_columns:\n",
    "    X_train[cat] = cat + '_' + X_train[cat]\n",
    "    X_test[cat] = cat + '_' + X_test[cat]"
   ]
  },
  {
   "cell_type": "code",
   "execution_count": 10,
   "id": "73b623b4",
   "metadata": {},
   "outputs": [],
   "source": [
    "cont_columns = [col_name for col_name in X_train.columns if col_name not in not_continuous]"
   ]
  },
  {
   "cell_type": "code",
   "execution_count": 11,
   "id": "c0b0a883",
   "metadata": {},
   "outputs": [],
   "source": [
    "var_to_log = ['creatinine.enzymatic.method', 'urea', 'glomerular.filtration.rate', \n",
    "              'cystatin', 'lymphocyte.count', 'neutrophil.count',\n",
    "              'activated.partial.thromboplastin.time', 'prothrombin.time.ratio',\n",
    "              'glutamyltranspeptidase','indirect.bilirubin','alkaline.phosphatase',\n",
    "              'globulin','direct.bilirubin','cholesterol',\n",
    "              'low.density.lipoprotein.cholesterol','triglyceride']"
   ]
  },
  {
   "cell_type": "markdown",
   "id": "9e8dd8c7",
   "metadata": {},
   "source": [
    "## Pipeline definition"
   ]
  },
  {
   "cell_type": "code",
   "execution_count": 12,
   "id": "a59a64d8",
   "metadata": {},
   "outputs": [],
   "source": [
    "def log_transf(x):\n",
    "    return np.log(x)\n",
    "\n",
    "log_transformer = FunctionTransformer(log_transf)"
   ]
  },
  {
   "cell_type": "code",
   "execution_count": 13,
   "id": "be23ab12",
   "metadata": {},
   "outputs": [
    {
     "data": {
      "text/html": [
       "<div>\n",
       "<style scoped>\n",
       "    .dataframe tbody tr th:only-of-type {\n",
       "        vertical-align: middle;\n",
       "    }\n",
       "\n",
       "    .dataframe tbody tr th {\n",
       "        vertical-align: top;\n",
       "    }\n",
       "\n",
       "    .dataframe thead th {\n",
       "        text-align: right;\n",
       "    }\n",
       "</style>\n",
       "<table border=\"1\" class=\"dataframe\">\n",
       "  <thead>\n",
       "    <tr style=\"text-align: right;\">\n",
       "      <th></th>\n",
       "      <th>0</th>\n",
       "    </tr>\n",
       "  </thead>\n",
       "  <tbody>\n",
       "    <tr>\n",
       "      <th>0</th>\n",
       "      <td>0.000000</td>\n",
       "    </tr>\n",
       "    <tr>\n",
       "      <th>1</th>\n",
       "      <td>0.693147</td>\n",
       "    </tr>\n",
       "    <tr>\n",
       "      <th>2</th>\n",
       "      <td>1.098612</td>\n",
       "    </tr>\n",
       "    <tr>\n",
       "      <th>3</th>\n",
       "      <td>1.386294</td>\n",
       "    </tr>\n",
       "  </tbody>\n",
       "</table>\n",
       "</div>"
      ],
      "text/plain": [
       "          0\n",
       "0  0.000000\n",
       "1  0.693147\n",
       "2  1.098612\n",
       "3  1.386294"
      ]
     },
     "execution_count": 13,
     "metadata": {},
     "output_type": "execute_result"
    }
   ],
   "source": [
    "a = np.array([1,2,3,4])\n",
    "np.log(a)\n",
    "b = pd.DataFrame(a)\n",
    "np.log(b)"
   ]
  },
  {
   "cell_type": "code",
   "execution_count": 14,
   "id": "ada7484a",
   "metadata": {},
   "outputs": [],
   "source": [
    "full_pipeline = ColumnTransformer([\n",
    "        #(\"log\", log_transformer, var_to_log),\n",
    "        (\"num\", StandardScaler(), cont_columns),     \n",
    "        (\"cat\", OneHotEncoder(), cat_columns)],\n",
    "        remainder = 'passthrough')\n",
    "\n",
    "#full_pipeline = Pipeline([('stationarity', starting_pipeline)])\n",
    "\n",
    "#('imputation',KNN())\n",
    "X_train_prepared = full_pipeline.fit_transform(X_train)\n",
    "X_test_prepared = full_pipeline.transform(X_test) "
   ]
  },
  {
   "cell_type": "code",
   "execution_count": 15,
   "id": "90b40b08",
   "metadata": {
    "scrolled": true
   },
   "outputs": [
    {
     "name": "stdout",
     "output_type": "stream",
     "text": [
      "Imputing row 1/1572 with 0 missing, elapsed time: 0.743\n",
      "Imputing row 101/1572 with 1 missing, elapsed time: 0.747\n",
      "Imputing row 201/1572 with 1 missing, elapsed time: 0.751\n",
      "Imputing row 301/1572 with 1 missing, elapsed time: 0.756\n",
      "Imputing row 401/1572 with 1 missing, elapsed time: 0.760\n",
      "Imputing row 501/1572 with 0 missing, elapsed time: 0.764\n",
      "Imputing row 601/1572 with 0 missing, elapsed time: 0.770\n",
      "Imputing row 701/1572 with 0 missing, elapsed time: 0.775\n",
      "Imputing row 801/1572 with 3 missing, elapsed time: 0.779\n",
      "Imputing row 901/1572 with 4 missing, elapsed time: 0.784\n",
      "Imputing row 1001/1572 with 4 missing, elapsed time: 0.788\n",
      "Imputing row 1101/1572 with 4 missing, elapsed time: 0.792\n",
      "Imputing row 1201/1572 with 0 missing, elapsed time: 0.796\n",
      "Imputing row 1301/1572 with 0 missing, elapsed time: 0.800\n",
      "Imputing row 1401/1572 with 1 missing, elapsed time: 0.803\n",
      "Imputing row 1501/1572 with 0 missing, elapsed time: 0.807\n",
      "Imputing row 1/398 with 1 missing, elapsed time: 0.049\n",
      "Imputing row 101/398 with 1 missing, elapsed time: 0.052\n",
      "Imputing row 201/398 with 1 missing, elapsed time: 0.055\n",
      "Imputing row 301/398 with 0 missing, elapsed time: 0.057\n"
     ]
    }
   ],
   "source": [
    "knn_imputer = KNN()\n",
    "X_train_prepared = knn_imputer.fit_transform(X_train_prepared)\n",
    "X_test_prepared = knn_imputer.fit_transform(X_test_prepared)"
   ]
  },
  {
   "cell_type": "code",
   "execution_count": 16,
   "id": "8e4c3d47",
   "metadata": {},
   "outputs": [
    {
     "data": {
      "text/plain": [
       "(1572, 109)"
      ]
     },
     "execution_count": 16,
     "metadata": {},
     "output_type": "execute_result"
    }
   ],
   "source": [
    "X_train_prepared.shape"
   ]
  },
  {
   "cell_type": "code",
   "execution_count": 18,
   "id": "7fb540b3",
   "metadata": {},
   "outputs": [],
   "source": [
    "# associate columns \n",
    "features_names = ['body.temperature',\n",
    " 'pulse',\n",
    " 'respiration',\n",
    " 'systolic.blood.pressure',\n",
    " 'diastolic.blood.pressure',\n",
    " 'weight',\n",
    " 'BMI',\n",
    " 'fio2',\n",
    " 'left.ventricular.end.diastolic.diameter.LV',\n",
    " 'creatinine.enzymatic.method',\n",
    " 'urea',\n",
    " 'uric.acid',\n",
    " 'glomerular.filtration.rate',\n",
    " 'cystatin',\n",
    " 'monocyte.count',\n",
    " 'red.blood.cell',\n",
    " 'coefficient.of.variation.of.red.blood.cell.distribution.width',\n",
    " 'standard.deviation.of.red.blood.cell.distribution.width',\n",
    " 'mean.corpuscular.volume',\n",
    " 'lymphocyte.count',\n",
    " 'mean.hemoglobin.concentration',\n",
    " 'mean.platelet.volume',\n",
    " 'eosinophil.count',\n",
    " 'hemoglobin',\n",
    " 'platelet',\n",
    " 'platelet.distribution.width',\n",
    " 'neutrophil.count',\n",
    " 'D.dimer',\n",
    " 'activated.partial.thromboplastin.time',\n",
    " 'thrombin.time',\n",
    " 'prothrombin.activity',\n",
    " 'prothrombin.time.ratio',\n",
    " 'fibrinogen',\n",
    " 'high.sensitivity.troponin',\n",
    " 'carbon.dioxide.binding.capacity',\n",
    " 'potassium',\n",
    " 'chloride',\n",
    " 'sodium',\n",
    " 'glutamic.oxaloacetic.transaminase',\n",
    " 'creatine.kinase',\n",
    " 'creatine.kinase.isoenzyme',\n",
    " 'lactate.dehydrogenase',\n",
    " 'brain.natriuretic.peptide',\n",
    " 'nucleotidase',\n",
    " 'fucosidase',\n",
    " 'albumin',\n",
    " 'white.globulin.ratio',\n",
    " 'glutamyltranspeptidase',\n",
    " 'glutamic.pyruvic.transaminase',\n",
    " 'indirect.bilirubin',\n",
    " 'alkaline.phosphatase',\n",
    " 'globulin',\n",
    " 'direct.bilirubin',\n",
    " 'total.bile.acid',\n",
    " 'total.protein',\n",
    " 'cholesterol',\n",
    " 'low.density.lipoprotein.cholesterol',\n",
    " 'triglyceride',\n",
    " 'high.density.lipoprotein.cholesterol',\n",
    " 'dischargeDay',\n",
    " 'gender',\n",
    " 'diabetes',\n",
    " 'moderate.to.severe.chronic.kidney.disease',\n",
    " 'return.to.emergency.department.within.6.months',\n",
    " 'diuretics',\n",
    " 'hypertension',\n",
    " 'heart_failure',\n",
    " 'angina_etal',\n",
    " 'cholesterol_drug',\n",
    " 'CCI.score',\n",
    " 'eye.opening',\n",
    " 'verbal.response',\n",
    " 'movement',\n",
    " 'GCS',\n",
    " 'DestinationDischarge_HealthcareFacility',\n",
    " 'DestinationDischarge_Home',\n",
    " 'admission.ward_Cardiology',\n",
    " 'admission.ward_GeneralWard',\n",
    " 'admission.ward_ICU',\n",
    " 'admission.ward_Others',\n",
    " 'admission.way_Emergency',\n",
    " 'admission.way_NonEmergency',\n",
    " 'discharge.department_Cardiology',\n",
    " 'discharge.department_GeneralWard',\n",
    " 'discharge.department_ICU',\n",
    " 'discharge.department_Others',\n",
    " 'type.of.heart.failure_Both',\n",
    " 'type.of.heart.failure_Left',\n",
    " 'type.of.heart.failure_Right',\n",
    " 'NYHA.cardiac.function.classification_II',\n",
    " 'NYHA.cardiac.function.classification_III',\n",
    " 'NYHA.cardiac.function.classification_IV',\n",
    " 'Killip.grade_I',\n",
    " 'Killip.grade_II',\n",
    " 'Killip.grade_III',\n",
    " 'Killip.grade_IV',\n",
    " 'consciousness_Clear',\n",
    " 'consciousness_Nonresponsive',\n",
    " 'consciousness_ResponsiveToPain',\n",
    " 'consciousness_ResponsiveToSound',\n",
    " 'ageCat_(21,29]',\n",
    " 'ageCat_(29,39]',\n",
    " 'ageCat_(39,49]',\n",
    " 'ageCat_(49,59]',\n",
    " 'ageCat_(59,69]',\n",
    " 'ageCat_(69,79]',\n",
    " 'ageCat_(79,89]',\n",
    " 'ageCat_(89,110]']"
   ]
  },
  {
   "cell_type": "code",
   "execution_count": 19,
   "id": "cb8714d8",
   "metadata": {
    "scrolled": true
   },
   "outputs": [],
   "source": [
    "for idx,elem in enumerate(features_names):\n",
    "    if elem == 'nan':\n",
    "        print(idx)"
   ]
  },
  {
   "cell_type": "code",
   "execution_count": 20,
   "id": "586d459b",
   "metadata": {},
   "outputs": [],
   "source": [
    "X_train_prepared = np.delete(X_train_prepared, idx, axis = 1)\n",
    "X_test_prepared = np.delete(X_test_prepared, idx, axis = 1)"
   ]
  },
  {
   "cell_type": "markdown",
   "id": "ddb83991",
   "metadata": {},
   "source": [
    "## Random Forest classifier"
   ]
  },
  {
   "cell_type": "code",
   "execution_count": 22,
   "id": "af5bd4c0",
   "metadata": {},
   "outputs": [
    {
     "data": {
      "text/plain": [
       "GridSearchCV(cv=10, estimator=RandomForestClassifier(random_state=42),\n",
       "             param_grid={'max_features': [10, 20, 30, 40, 50, 60, 70, 80, 90,\n",
       "                                          100, 108],\n",
       "                         'n_estimators': [10, 30, 50, 100]},\n",
       "             return_train_score=True, scoring='neg_mean_squared_error')"
      ]
     },
     "execution_count": 22,
     "metadata": {},
     "output_type": "execute_result"
    }
   ],
   "source": [
    "from sklearn.model_selection import GridSearchCV\n",
    "\n",
    "param_grid = {'n_estimators': [10, 30, 50, 100], \n",
    "     'max_features': list(np.arange(10,X_train_prepared.shape[1],10)) + [X_train_prepared.shape[1]]} \n",
    "    # try 12 (3×4) combinations of hyperparameters\n",
    "    \n",
    "\n",
    "forest_clf = RandomForestClassifier(random_state=42)\n",
    "\n",
    "# train across 5 folds, that's a total of (12+6)*5=90 rounds of training \n",
    "grid_search = GridSearchCV(forest_clf, param_grid, cv=10,\n",
    "                           scoring='neg_mean_squared_error',\n",
    "                           return_train_score=True)\n",
    "grid_search.fit(X_train_prepared, Y_train)"
   ]
  },
  {
   "cell_type": "code",
   "execution_count": 23,
   "id": "810809d8",
   "metadata": {
    "scrolled": true
   },
   "outputs": [
    {
     "data": {
      "text/plain": [
       "RandomForestClassifier(max_features=10, n_estimators=50, random_state=42)"
      ]
     },
     "execution_count": 23,
     "metadata": {},
     "output_type": "execute_result"
    }
   ],
   "source": [
    "final_model = grid_search.best_estimator_\n",
    "final_model"
   ]
  },
  {
   "cell_type": "markdown",
   "id": "c23c3cd3",
   "metadata": {},
   "source": [
    "### Fetaure importance"
   ]
  },
  {
   "cell_type": "code",
   "execution_count": 27,
   "id": "9e054c9b",
   "metadata": {},
   "outputs": [
    {
     "data": {
      "text/plain": [
       "array([4.01736422e-03, 5.59695687e-03, 3.42447110e-03, 8.29503038e-03,\n",
       "       6.66907065e-03, 5.75969146e-03, 7.96067920e-03, 1.28637772e-03,\n",
       "       1.07150687e-02, 1.38992782e-02, 9.11589929e-03, 1.24801654e-02,\n",
       "       1.00528382e-02, 8.18844555e-03, 6.87669671e-03, 9.95123356e-03,\n",
       "       6.01036339e-03, 6.63607008e-03, 8.10603670e-03, 9.21369990e-03,\n",
       "       6.59754177e-03, 6.37227920e-03, 8.06196421e-03, 6.34964380e-03,\n",
       "       8.86789955e-03, 5.66973956e-03, 6.66411103e-03, 1.35264062e-02,\n",
       "       9.90739359e-03, 5.92736310e-03, 8.78063737e-03, 7.17062798e-03,\n",
       "       8.34100346e-03, 1.01472214e-02, 7.19487422e-03, 9.94121224e-03,\n",
       "       6.92062875e-03, 8.52541047e-03, 7.92628143e-03, 7.26485695e-03,\n",
       "       7.52404403e-03, 6.89093562e-03, 7.33013643e-03, 6.20840647e-03,\n",
       "       5.11268582e-03, 9.08589004e-03, 4.64346121e-03, 6.54250925e-03,\n",
       "       4.96979142e-03, 8.04322930e-03, 7.78795048e-03, 7.29773563e-03,\n",
       "       7.03792763e-03, 9.91046371e-03, 8.62642853e-03, 6.13473624e-03,\n",
       "       8.18638892e-03, 8.75459526e-03, 7.33910147e-03, 1.25796083e-02,\n",
       "       1.01771970e-03, 1.09902015e-03, 1.03243387e-03, 3.00314136e-04,\n",
       "       4.71207021e-04, 1.86093817e-04, 1.53574124e-03, 9.59260183e-04,\n",
       "       6.53839439e-04, 1.06435284e-03, 7.57571349e-04, 0.00000000e+00,\n",
       "       2.16489551e-04, 3.82804170e-03, 2.06617653e-03, 3.14114972e-04,\n",
       "       1.22044088e-03, 1.27912173e-03, 1.63928692e-03, 7.63984381e-04,\n",
       "       7.77757759e-04, 4.84789745e-04, 3.79719125e-04, 3.03854831e-04,\n",
       "       0.00000000e+00, 0.00000000e+00, 4.37957425e-05, 2.50658161e-04,\n",
       "       0.00000000e+00, 3.76541257e-04, 4.82741839e-04, 9.46861851e-04,\n",
       "       1.27818067e-03, 6.35582084e-04, 5.18822742e-04, 1.02519072e-03,\n",
       "       1.04721813e-03, 8.27901802e-04, 5.52826229e-03, 0.00000000e+00,\n",
       "       4.47432106e-04, 2.31872841e-04, 4.96791401e-01, 2.33833431e-04,\n",
       "       1.86685167e-04, 5.26233004e-04, 6.69682133e-04, 1.18121160e-03])"
      ]
     },
     "execution_count": 27,
     "metadata": {},
     "output_type": "execute_result"
    }
   ],
   "source": [
    "feature_importances = final_model.feature_importances_\n",
    "feature_importances"
   ]
  },
  {
   "cell_type": "code",
   "execution_count": 25,
   "id": "e3573e86",
   "metadata": {},
   "outputs": [],
   "source": [
    "#cat_list_one_hot = full_pipeline.named_transformers_[\"cat\"].categories_"
   ]
  },
  {
   "cell_type": "code",
   "execution_count": 28,
   "id": "e0dc7da6",
   "metadata": {},
   "outputs": [],
   "source": [
    "#cat_features = []\n",
    "#for elem in cat_list_one_hot:\n",
    "#    cat_features.extend(elem)\n",
    "#cat_features"
   ]
  },
  {
   "cell_type": "code",
   "execution_count": 29,
   "id": "f902a2a1",
   "metadata": {},
   "outputs": [
    {
     "data": {
      "text/plain": [
       "[(0.49679140125342436, 'ageCat_(39,49]'),\n",
       " (0.013899278166925768, 'creatinine.enzymatic.method'),\n",
       " (0.013526406219388006, 'D.dimer'),\n",
       " (0.012579608295233934, 'dischargeDay'),\n",
       " (0.012480165350159722, 'uric.acid'),\n",
       " (0.010715068712037914, 'left.ventricular.end.diastolic.diameter.LV'),\n",
       " (0.010147221411030104, 'high.sensitivity.troponin'),\n",
       " (0.01005283820741374, 'glomerular.filtration.rate'),\n",
       " (0.009951233562655086, 'red.blood.cell'),\n",
       " (0.009941212237275267, 'potassium'),\n",
       " (0.009910463706014205, 'total.bile.acid'),\n",
       " (0.009907393587352563, 'activated.partial.thromboplastin.time'),\n",
       " (0.00921369990113698, 'lymphocyte.count'),\n",
       " (0.009115899294779626, 'urea'),\n",
       " (0.009085890038299906, 'albumin'),\n",
       " (0.008867899550259269, 'platelet'),\n",
       " (0.008780637370477297, 'prothrombin.activity'),\n",
       " (0.008754595263897437, 'triglyceride'),\n",
       " (0.008626428532870656, 'total.protein'),\n",
       " (0.00852541047090357, 'sodium'),\n",
       " (0.008341003461741677, 'fibrinogen'),\n",
       " (0.008295030377260742, 'systolic.blood.pressure'),\n",
       " (0.008188445550549454, 'cystatin'),\n",
       " (0.00818638891793195, 'low.density.lipoprotein.cholesterol'),\n",
       " (0.008106036702289689, 'mean.corpuscular.volume'),\n",
       " (0.008061964212791047, 'eosinophil.count'),\n",
       " (0.008043229299342048, 'indirect.bilirubin'),\n",
       " (0.007960679203892772, 'BMI'),\n",
       " (0.007926281434447475, 'glutamic.oxaloacetic.transaminase'),\n",
       " (0.007787950480414986, 'alkaline.phosphatase'),\n",
       " (0.0075240440304841635, 'creatine.kinase.isoenzyme'),\n",
       " (0.007339101474087578, 'high.density.lipoprotein.cholesterol'),\n",
       " (0.007330136428391416, 'brain.natriuretic.peptide'),\n",
       " (0.007297735634691097, 'globulin'),\n",
       " (0.0072648569544730875, 'creatine.kinase'),\n",
       " (0.007194874222186762, 'carbon.dioxide.binding.capacity'),\n",
       " (0.0071706279849592, 'prothrombin.time.ratio'),\n",
       " (0.007037927631271264, 'direct.bilirubin'),\n",
       " (0.006920628752620925, 'chloride'),\n",
       " (0.006890935616385837, 'lactate.dehydrogenase'),\n",
       " (0.006876696711283759, 'monocyte.count'),\n",
       " (0.006669070653594566, 'diastolic.blood.pressure'),\n",
       " (0.006664111030087739, 'neutrophil.count'),\n",
       " (0.00663607007577513,\n",
       "  'standard.deviation.of.red.blood.cell.distribution.width'),\n",
       " (0.006597541768897841, 'mean.hemoglobin.concentration'),\n",
       " (0.0065425092483929505, 'glutamyltranspeptidase'),\n",
       " (0.006372279200961495, 'mean.platelet.volume'),\n",
       " (0.0063496438012223275, 'hemoglobin'),\n",
       " (0.006208406474437209, 'nucleotidase'),\n",
       " (0.00613473623638085, 'cholesterol'),\n",
       " (0.006010363389135854,\n",
       "  'coefficient.of.variation.of.red.blood.cell.distribution.width'),\n",
       " (0.0059273631025488546, 'thrombin.time'),\n",
       " (0.005759691456554927, 'weight'),\n",
       " (0.005669739555187634, 'platelet.distribution.width'),\n",
       " (0.005596956865880909, 'pulse'),\n",
       " (0.00552826229230263, 'consciousness_ResponsiveToPain'),\n",
       " (0.0051126858160257, 'fucosidase'),\n",
       " (0.004969791419667898, 'glutamic.pyruvic.transaminase'),\n",
       " (0.004643461209412493, 'white.globulin.ratio'),\n",
       " (0.004017364215808334, 'body.temperature'),\n",
       " (0.003828041699221346, 'GCS'),\n",
       " (0.00342447110223824, 'respiration'),\n",
       " (0.002066176533423927, 'DestinationDischarge_HealthcareFacility'),\n",
       " (0.001639286923551736, 'admission.ward_ICU'),\n",
       " (0.0015357412413611394, 'heart_failure'),\n",
       " (0.001286377718228149, 'fio2'),\n",
       " (0.0012791217250488504, 'admission.ward_GeneralWard'),\n",
       " (0.0012781806700134708, 'Killip.grade_I'),\n",
       " (0.0012204408838327834, 'admission.ward_Cardiology'),\n",
       " (0.0011812115999606354, 'ageCat_(89,110]'),\n",
       " (0.0010990201458816833, 'diabetes'),\n",
       " (0.0010643528437510189, 'CCI.score'),\n",
       " (0.0010472181293023765, 'consciousness_Clear'),\n",
       " (0.0010324338671964157, 'moderate.to.severe.chronic.kidney.disease'),\n",
       " (0.0010251907235170013, 'Killip.grade_IV'),\n",
       " (0.0010177197007100911, 'gender'),\n",
       " (0.0009592601829282389, 'angina_etal'),\n",
       " (0.0009468618506450921, 'NYHA.cardiac.function.classification_IV'),\n",
       " (0.0008279018021889046, 'consciousness_Nonresponsive'),\n",
       " (0.0007777577587743464, 'admission.way_Emergency'),\n",
       " (0.0007639843814439381, 'admission.ward_Others'),\n",
       " (0.0007575713485859973, 'eye.opening'),\n",
       " (0.0006696821327514094, 'ageCat_(79,89]'),\n",
       " (0.0006538394392699826, 'cholesterol_drug'),\n",
       " (0.0006355820836205935, 'Killip.grade_II'),\n",
       " (0.0005262330043420734, 'ageCat_(69,79]'),\n",
       " (0.000518822742475831, 'Killip.grade_III'),\n",
       " (0.00048478974492658283, 'admission.way_NonEmergency'),\n",
       " (0.00048274183910778685, 'NYHA.cardiac.function.classification_III'),\n",
       " (0.0004712070210845432, 'diuretics'),\n",
       " (0.00044743210584246315, 'ageCat_(21,29]'),\n",
       " (0.0003797191247372712, 'discharge.department_Cardiology'),\n",
       " (0.00037654125655218427, 'NYHA.cardiac.function.classification_II'),\n",
       " (0.00031411497196367377, 'DestinationDischarge_Home'),\n",
       " (0.0003038548307378111, 'discharge.department_GeneralWard'),\n",
       " (0.00030031413558231354, 'return.to.emergency.department.within.6.months'),\n",
       " (0.0002506581612213697, 'type.of.heart.failure_Left'),\n",
       " (0.000233833431091213, 'ageCat_(49,59]'),\n",
       " (0.00023187284070168388, 'ageCat_(29,39]'),\n",
       " (0.00021648955065995578, 'movement'),\n",
       " (0.00018668516704027651, 'ageCat_(59,69]'),\n",
       " (0.00018609381664970833, 'hypertension'),\n",
       " (4.37957425283192e-05, 'type.of.heart.failure_Both'),\n",
       " (0.0, 'verbal.response'),\n",
       " (0.0, 'type.of.heart.failure_Right'),\n",
       " (0.0, 'discharge.department_Others'),\n",
       " (0.0, 'discharge.department_ICU'),\n",
       " (0.0, 'consciousness_ResponsiveToSound')]"
      ]
     },
     "execution_count": 29,
     "metadata": {},
     "output_type": "execute_result"
    }
   ],
   "source": [
    "sorted(zip(feature_importances,features_names), reverse=True)"
   ]
  },
  {
   "cell_type": "markdown",
   "id": "56a2be61",
   "metadata": {},
   "source": [
    "### Predict on test set"
   ]
  },
  {
   "cell_type": "code",
   "execution_count": 30,
   "id": "fd2fa6c8",
   "metadata": {},
   "outputs": [
    {
     "data": {
      "text/plain": [
       "0.1002509414234171"
      ]
     },
     "execution_count": 30,
     "metadata": {},
     "output_type": "execute_result"
    }
   ],
   "source": [
    "final_predictions = final_model.predict(X_test_prepared)\n",
    "final_mse = mean_squared_error(Y_test, final_predictions)\n",
    "final_rmse = np.sqrt(final_mse)\n",
    "final_rmse"
   ]
  }
 ],
 "metadata": {
  "kernelspec": {
   "display_name": "Python 3",
   "language": "python",
   "name": "python3"
  },
  "language_info": {
   "codemirror_mode": {
    "name": "ipython",
    "version": 3
   },
   "file_extension": ".py",
   "mimetype": "text/x-python",
   "name": "python",
   "nbconvert_exporter": "python",
   "pygments_lexer": "ipython3",
   "version": "3.8.8"
  }
 },
 "nbformat": 4,
 "nbformat_minor": 5
}
