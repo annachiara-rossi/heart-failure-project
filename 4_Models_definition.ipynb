{
 "cells": [
  {
   "cell_type": "markdown",
   "metadata": {},
   "source": [
    "## Importing necessary libraries"
   ]
  },
  {
   "cell_type": "code",
   "execution_count": 1,
   "metadata": {},
   "outputs": [],
   "source": [
    "import numpy as np\n",
    "import pandas as pd\n",
    "import matplotlib.pyplot as plt\n",
    "import seaborn as sns\n",
    "import math\n",
    "np.random.seed(130298) "
   ]
  },
  {
   "cell_type": "code",
   "execution_count": 2,
   "metadata": {},
   "outputs": [],
   "source": [
    "from imblearn.over_sampling import SMOTE \n",
    "from sklearn.pipeline import Pipeline\n",
    "from imblearn.pipeline import Pipeline as Pipeline_imb\n",
    "from sklearn.compose import ColumnTransformer, make_column_transformer\n",
    "from sklearn.preprocessing import StandardScaler, OneHotEncoder, FunctionTransformer \n",
    "from sklearn.impute import KNNImputer"
   ]
  },
  {
   "cell_type": "code",
   "execution_count": 3,
   "metadata": {},
   "outputs": [],
   "source": [
    "from sklearn.feature_selection import SelectFromModel, SelectKBest, chi2, RFECV, SelectFpr, SelectFdr\n",
    "from sklearn import svm\n",
    "from sklearn.tree import DecisionTreeClassifier\n",
    "from sklearn.linear_model import LogisticRegression, Perceptron\n",
    "from sklearn.ensemble import RandomForestClassifier\n",
    "from xgboost import XGBClassifier\n",
    "from sklearn.metrics import auc, f1_score, recall_score, precision_score, roc_curve, confusion_matrix"
   ]
  },
  {
   "cell_type": "code",
   "execution_count": 4,
   "metadata": {},
   "outputs": [],
   "source": [
    "from sklearn.model_selection import RandomizedSearchCV, RepeatedStratifiedKFold\n",
    "from sklearn.model_selection import cross_validate, cross_val_score, GridSearchCV"
   ]
  },
  {
   "cell_type": "code",
   "execution_count": 6,
   "metadata": {},
   "outputs": [],
   "source": [
    "def compute_metrics(Y, final_pred):\n",
    "    fpr, tpr, _ = roc_curve(Y,final_pred)\n",
    "    AUC = auc(fpr, tpr)\n",
    "    f1 = f1_score(Y,final_pred)\n",
    "    print(f'AUC: {np.round(AUC,3)}, F1: {np.round(f1,3)}')\n",
    "    return [AUC, f1]"
   ]
  },
  {
   "cell_type": "markdown",
   "metadata": {},
   "source": [
    "## Datasets definition"
   ]
  },
  {
   "cell_type": "code",
   "execution_count": 7,
   "metadata": {},
   "outputs": [
    {
     "name": "stdout",
     "output_type": "stream",
     "text": [
      "Size of training set: (1567, 81) and of test set: (397, 81)\n"
     ]
    }
   ],
   "source": [
    "outcome_name = 're.admission.within.6.months'\n",
    "\n",
    "# take the training set\n",
    "X_train = pd.read_csv('train_data_drugs.csv')\n",
    "X_train.set_index('inpatient.number', inplace = True)\n",
    "\n",
    "# separate the outcome\n",
    "Y_train = X_train[outcome_name].copy()\n",
    "X_train.drop(columns = outcome_name, inplace = True)\n",
    "\n",
    "# take the test set\n",
    "X_test = pd.read_csv('test_data_drugs.csv')\n",
    "X_test.set_index('inpatient.number', inplace = True)\n",
    "\n",
    "# separate the outcome\n",
    "Y_test = X_test[outcome_name].copy()\n",
    "X_test.drop(columns = outcome_name, inplace = True)\n",
    "print(f'Size of training set: {X_train.shape} and of test set: {X_test.shape}')"
   ]
  },
  {
   "cell_type": "markdown",
   "metadata": {},
   "source": [
    "We decide to transform some variables (as identified in the file 2_Data_cleaning) with a skewed distribution using the logarithm: a distribution with less heavy tails can help the models to learn better."
   ]
  },
  {
   "cell_type": "code",
   "execution_count": 8,
   "metadata": {},
   "outputs": [],
   "source": [
    "# Log transformations\n",
    "var_to_log = ['creatinine.enzymatic.method', 'urea', 'glomerular.filtration.rate', \n",
    "              'cystatin', 'lymphocyte.count', 'neutrophil.count',\n",
    "              'activated.partial.thromboplastin.time', 'prothrombin.time.ratio',\n",
    "              'glutamyltranspeptidase','indirect.bilirubin','alkaline.phosphatase',\n",
    "              'globulin','direct.bilirubin', 'low.density.lipoprotein.cholesterol', \n",
    "              'triglyceride']\n",
    "X_train[var_to_log] = np.log(X_train[var_to_log])\n",
    "X_test[var_to_log] = np.log(X_test[var_to_log])"
   ]
  },
  {
   "cell_type": "code",
   "execution_count": 9,
   "metadata": {},
   "outputs": [],
   "source": [
    "# take the lists of variables by type\n",
    "cat_columns = ['DestinationDischarge','admission.ward','admission.way','discharge.department',\n",
    "                       'type.of.heart.failure', 'NYHA.cardiac.function.classification', 'Killip.grade',\n",
    "                       'consciousness', 'ageCat']\n",
    "\n",
    "ordinal_columns = ['CCI.score', 'eye.opening','verbal.response', 'movement', 'GCS']\n",
    "\n",
    "binary_columns = ['gender', 'diabetes', 'moderate.to.severe.chronic.kidney.disease',\n",
    "                  'diuretics', 'hypertension', 'heart_failure', 'angina_etal', 'cholesterol']\n",
    "\n",
    "not_continuous = cat_columns.copy()\n",
    "not_continuous.extend(binary_columns)\n",
    "not_continuous.extend(ordinal_columns)"
   ]
  },
  {
   "cell_type": "code",
   "execution_count": 10,
   "metadata": {},
   "outputs": [],
   "source": [
    "cont_columns = [col_name for col_name in X_train.columns if col_name not in not_continuous]"
   ]
  },
  {
   "cell_type": "code",
   "execution_count": 11,
   "metadata": {},
   "outputs": [],
   "source": [
    "# THIS IS A CATEGORICAL FEATURE WHICH WILL BE ONE-HOT-ENCODED BUT HAS SOME NaN. \n",
    "# To avoid problems, we impute it before with the mode\n",
    "\n",
    "X_train['DestinationDischarge'].fillna(X_train['DestinationDischarge'].mode().values[0], inplace=True)\n",
    "X_test['DestinationDischarge'].fillna(X_train['DestinationDischarge'].mode().values[0], inplace=True)"
   ]
  },
  {
   "cell_type": "markdown",
   "metadata": {},
   "source": [
    "## Pipeline definition"
   ]
  },
  {
   "cell_type": "markdown",
   "metadata": {},
   "source": [
    "We set up the processing of our data through a Pipeline: first we standardized the continuous variables, and we encoded categorical variables using One Hot Encoding. Then, since in the dataset there are some missing values, we implement a KNNImputer which imputes each one of them using the average of the 5 nearest neighbors."
   ]
  },
  {
   "cell_type": "code",
   "execution_count": 12,
   "metadata": {
    "scrolled": false
   },
   "outputs": [],
   "source": [
    "oneHot_encoder = OneHotEncoder(handle_unknown='ignore')\n",
    "\n",
    "preprocessing_pipeline = ColumnTransformer([\n",
    "    (\"num\", StandardScaler(), cont_columns),\n",
    "    (\"cat\", oneHot_encoder, cat_columns)],  \n",
    "    remainder = 'passthrough',               \n",
    "    verbose_feature_names_out = False)       \n",
    "\n",
    "full_pipeline = Pipeline([\n",
    "    ('preprocessing', preprocessing_pipeline),\n",
    "    ('imputer', KNNImputer())\n",
    "])"
   ]
  },
  {
   "cell_type": "markdown",
   "metadata": {},
   "source": [
    "# Models"
   ]
  },
  {
   "cell_type": "markdown",
   "metadata": {},
   "source": [
    "We evaluate all methods by cross-validating the performance on the training set. The same CV scheme is use for all models, and consequently results are comparable.\n",
    "We choose the $F1$ score since it is an average between Recall and Precision, taking into account both mistakes on the positive and on the negative class."
   ]
  },
  {
   "cell_type": "markdown",
   "metadata": {},
   "source": [
    "For the algorithms which also needed tuning, we implement a nested cross-validation strategy: it allows to find parameters trough a Grid-Search for every cross validation fold and at the same time to get an estimate of the chosen score. This ensures the significance of the estimates and avoids optimistic measures of performance, which would then be overturned by testing the final model on the hold-out set."
   ]
  },
  {
   "cell_type": "markdown",
   "metadata": {},
   "source": [
    "# Logistic Regression "
   ]
  },
  {
   "cell_type": "markdown",
   "metadata": {},
   "source": [
    "Since collinearity among features might still be present, we considered an Elastic-Net penalty, which takes into account both the L2 norm and the L1 norm, which induces sparsity."
   ]
  },
  {
   "cell_type": "markdown",
   "metadata": {},
   "source": [
    "## Elastic Net"
   ]
  },
  {
   "cell_type": "markdown",
   "metadata": {},
   "source": [
    "We used the saga solver, since the ElasticNet regularization is only supported by that and we set the balance mode which uses the values of Y_train to automatically adjust weights inversely proportional to class frequencies in the input data. We increased the number of iterations to guarantee the convergence."
   ]
  },
  {
   "cell_type": "code",
   "execution_count": 13,
   "metadata": {},
   "outputs": [],
   "source": [
    "elasticnet_model = LogisticRegression(penalty = 'elasticnet', solver = 'saga', \n",
    "                                 class_weight = 'balanced', max_iter = 5000, random_state=42)\n",
    "\n",
    "#Pipeline: preprocessing + Logistic regression model with elasticnet penalization\n",
    "LR12_pipeline = Pipeline([('preprocessing', full_pipeline),\n",
    "                            ('logistic', elasticnet_model)])"
   ]
  },
  {
   "cell_type": "markdown",
   "metadata": {},
   "source": [
    "### Tuning hyperparameters:\n",
    "\n",
    "- C: represent the inverse of regularization strength, smaller values specify stronger regularization\n",
    "- l1_ratio: is the Elastic-Net mixing parameter, l1_ratio=1 is equivalent to using penalty='l1' \n"
   ]
  },
  {
   "cell_type": "code",
   "execution_count": 14,
   "metadata": {},
   "outputs": [],
   "source": [
    "#Hyperparameters grid\n",
    "param_grid={\"logistic__C\": [0.1,0.01,1.0],\n",
    "            \"logistic__l1_ratio\":[0.25,0.5,0.75]}\n",
    "\n",
    "cv = RepeatedStratifiedKFold(n_splits=5, n_repeats=3, random_state=42)\n",
    "\n",
    "GS_elasticnet = GridSearchCV(LR12_pipeline, param_grid, cv=cv, scoring=\"f1\", n_jobs=-1)"
   ]
  },
  {
   "cell_type": "code",
   "execution_count": 15,
   "metadata": {},
   "outputs": [
    {
     "name": "stdout",
     "output_type": "stream",
     "text": [
      "---------------------------------\n",
      "Logistic regression with Elasticnet penalty\n",
      "---------------------------------\n",
      "train_score: mean = 0.612, std = 0.012\n",
      "validation_score: mean = 0.551, std = 0.026\n"
     ]
    }
   ],
   "source": [
    "scores = cross_validate(GS_elasticnet, X_train, Y_train, scoring = 'f1',\n",
    "                           return_train_score = True, n_jobs=-1)\n",
    "print('---------------------------------')\n",
    "print(str('Logistic regression with Elasticnet penalty'))\n",
    "print('---------------------------------')\n",
    "error_train = scores['train_score']\n",
    "error_test = scores['test_score']\n",
    "print(f'train_score: mean = {np.round(error_train.mean(),3)}, std = {np.round(error_train.std(),3)}')\n",
    "print(f'validation_score: mean = {np.round(error_test.mean(),3)}, std = {np.round(error_test.std(),3)}')"
   ]
  },
  {
   "cell_type": "markdown",
   "metadata": {},
   "source": [
    "# Support vector machine"
   ]
  },
  {
   "cell_type": "markdown",
   "metadata": {},
   "source": [
    "Then, we tried to implement a support vector machine to deal with the high-dimensionality of the data, thanks to the kernel trick. For this reason, no prior feature selection is implemented in this case. We used a Radial Basis Function kernel, which is the\n",
    "most seen in literature"
   ]
  },
  {
   "cell_type": "code",
   "execution_count": 171,
   "metadata": {},
   "outputs": [],
   "source": [
    "#Pipeline: preprocessing + SVM\n",
    "SVM_pipeline = Pipeline([\n",
    "    ('preprocessing', full_pipeline),\n",
    "    ('SVM', svm.SVC(class_weight = 'balanced',random_state=42))\n",
    "])"
   ]
  },
  {
   "cell_type": "markdown",
   "metadata": {},
   "source": [
    "### Tuning hyperparameters:\n",
    "- C: represent the inverse of the regularization strength\n",
    "- gamma: is the kernel coefficient for ‘rbf’"
   ]
  },
  {
   "cell_type": "code",
   "execution_count": 172,
   "metadata": {},
   "outputs": [],
   "source": [
    "#Hyperparameters grid\n",
    "param_grid = {'SVM__C': [0.5,1,2,4,6,8,10], \n",
    "              'SVM__gamma': [1, 0.1, 0.01, 0.001, 0.0001,'auto','scale']}\n",
    "\n",
    "cv = RepeatedStratifiedKFold(n_splits=5, n_repeats=1, random_state=42)\n",
    "\n",
    "RS_SVM = RandomizedSearchCV(SVM_pipeline, param_grid, cv=cv, scoring='f1',\n",
    "                         random_state=42, verbose = 1, n_jobs=-1)"
   ]
  },
  {
   "cell_type": "code",
   "execution_count": 173,
   "metadata": {},
   "outputs": [
    {
     "name": "stdout",
     "output_type": "stream",
     "text": [
      "------------------------------------------------------------------\n",
      "SVM\n",
      "------------------------------------------------------------------\n",
      "train_score: mean = 0.686, std = 0.069\n",
      "validation_score: mean = 0.527, std = 0.036\n"
     ]
    }
   ],
   "source": [
    "score = cross_validate(estimator=RS_SVM, X=X_train, y=Y_train, cv=cv,scoring=\"f1\",\n",
    "                               n_jobs = -1,return_train_score = True,error_score=\"raise\")\n",
    "\n",
    "print('------------------------------------------------------------------')\n",
    "print(str('SVM'))\n",
    "print('------------------------------------------------------------------')\n",
    "error_train = score['train_score']\n",
    "error_test = score['test_score']\n",
    "print(f'train_score: mean = {np.round(error_train.mean(),3)}, std = {np.round(error_train.std(),3)}')\n",
    "print(f'validation_score: mean = {np.round(error_test.mean(),3)}, std = {np.round(error_test.std(),3)}')"
   ]
  },
  {
   "cell_type": "markdown",
   "metadata": {},
   "source": [
    "# Decision Tree Classifier"
   ]
  },
  {
   "cell_type": "markdown",
   "metadata": {},
   "source": [
    "We tried to implement a Decision Tree classifier, a non-parametric supervised learning methods which is simple to understand and to interpret."
   ]
  },
  {
   "cell_type": "code",
   "execution_count": 174,
   "metadata": {},
   "outputs": [],
   "source": [
    "#Pipeline: preprocessing + DecisionTree\n",
    "DT_pipeline = Pipeline([\n",
    "    ('preprocessing', full_pipeline),\n",
    "    ('DT', DecisionTreeClassifier(random_state = 42))\n",
    "])"
   ]
  },
  {
   "cell_type": "markdown",
   "metadata": {},
   "source": [
    "## 1. Fit a simple DT"
   ]
  },
  {
   "cell_type": "code",
   "execution_count": 175,
   "metadata": {},
   "outputs": [
    {
     "name": "stdout",
     "output_type": "stream",
     "text": [
      "---------------------------------\n",
      "DecisionTreeClassifier(random_state=1)\n",
      "---------------------------------\n",
      "train_score: mean = 1.0, std = 0.0\n",
      "validation_score: mean = 0.419, std = 0.042\n",
      "---------------------------------\n",
      "DecisionTreeClassifier(class_weight='balanced', random_state=1)\n",
      "---------------------------------\n",
      "train_score: mean = 1.0, std = 0.0\n",
      "validation_score: mean = 0.448, std = 0.04\n",
      "---------------------------------\n",
      "DecisionTreeClassifier(max_depth=10, random_state=1)\n",
      "---------------------------------\n",
      "train_score: mean = 0.871, std = 0.029\n",
      "validation_score: mean = 0.388, std = 0.037\n",
      "---------------------------------\n",
      "DecisionTreeClassifier(class_weight='balanced', max_depth=5, random_state=1)\n",
      "---------------------------------\n",
      "train_score: mean = 0.651, std = 0.02\n",
      "validation_score: mean = 0.508, std = 0.021\n"
     ]
    }
   ],
   "source": [
    "clfs = []\n",
    "clfs.append(DecisionTreeClassifier(random_state = 42))\n",
    "clfs.append(DecisionTreeClassifier(class_weight = 'balanced', random_state = 42))\n",
    "clfs.append(DecisionTreeClassifier(max_depth=10, random_state = 42))\n",
    "clfs.append(DecisionTreeClassifier(class_weight = 'balanced', max_depth=5, random_state = 42))\n",
    "\n",
    "for classifier in clfs:\n",
    "    DT_pipeline.set_params(DT = classifier)\n",
    "    scores = cross_validate(DT_pipeline, X_train, Y_train, scoring = 'f1',\n",
    "                           return_train_score = True)\n",
    "    print('---------------------------------')\n",
    "    print(str(classifier))\n",
    "    print('---------------------------------')\n",
    "    error_train = scores['train_score']\n",
    "    error_test = scores['test_score']\n",
    "    print(f'train_score: mean = {np.round(error_train.mean(),3)}, std = {np.round(error_train.std(),3)}')\n",
    "    print(f'validation_score: mean = {np.round(error_test.mean(),3)}, std = {np.round(error_test.std(),3)}')"
   ]
  },
  {
   "cell_type": "markdown",
   "metadata": {},
   "source": [
    "From this models we can make some considerations:\n",
    "- a plain DT strongly overfits the training set\n",
    "- using balanced weights, increases performance on test set, but still overfits training\n",
    "- setting the maximum depth of the tree decreases performance on test set, but also on training set (reduces overfitting)\n",
    "- setting both balanced weights and maximum tree depth allows for better performance on testing, while keeping a contained performance on training.\n",
    "\n",
    "With these observations in mind, we try to set some hyperparameters trough a grid search."
   ]
  },
  {
   "cell_type": "markdown",
   "metadata": {},
   "source": [
    "## 2. Try a Grid Search to select some parameters"
   ]
  },
  {
   "cell_type": "markdown",
   "metadata": {},
   "source": [
    "### Tuning hyperparameters:\n",
    "\n",
    "- criterion: it is the function to measure the quality of a split, “gini” is the supported criteria for the Gini impurity (it splits the node such that it gives the least amount of impurity) and “entropy” for the information gain (it splits the node such that it gives the most amount of information gain)\n",
    "- min_samples_split: the minimum number of samples required to split an internal node\n",
    "- max_depth: maximum depth of the tree\n",
    "\n",
    "We notice that min_samples_split is tied to max_depth and the model selects one over the other depending on which gives the maximum depth for the tree.\n"
   ]
  },
  {
   "cell_type": "code",
   "execution_count": 176,
   "metadata": {},
   "outputs": [],
   "source": [
    "param_grid = {'DT__criterion': [\"gini\", \"entropy\"], \n",
    "              'DT__min_samples_split': np.linspace(0.4,1,9),\n",
    "              'DT__max_depth': np.arange(3,15)}\n",
    "\n",
    "cv = RepeatedStratifiedKFold(n_splits=5, n_repeats=3, random_state=42)"
   ]
  },
  {
   "cell_type": "code",
   "execution_count": 177,
   "metadata": {},
   "outputs": [],
   "source": [
    "DT_pipeline.set_params(DT = DecisionTreeClassifier(class_weight='balanced', random_state = 1))\n",
    "\n",
    "DT_RS = RandomizedSearchCV(DT_pipeline, param_grid, cv=cv, scoring='f1',n_iter=50,\n",
    "                         random_state=42, verbose = 1, n_jobs=-1)"
   ]
  },
  {
   "cell_type": "code",
   "execution_count": 178,
   "metadata": {
    "scrolled": true
   },
   "outputs": [
    {
     "name": "stdout",
     "output_type": "stream",
     "text": [
      "------------------------------------------------------------------\n",
      "DecisionTree\n",
      "------------------------------------------------------------------\n",
      "train_score: mean = 0.553, std = 0.031\n",
      "validation_score: mean = 0.524, std = 0.052\n"
     ]
    }
   ],
   "source": [
    "scores = cross_validate(estimator=DT_RS, X=X_train, y=Y_train, cv=cv,scoring=\"f1\",\n",
    "                               n_jobs = -1,return_train_score = True)\n",
    "\n",
    "print('------------------------------------------------------------------')\n",
    "print(str(\"DecisionTree\"))\n",
    "print('------------------------------------------------------------------')\n",
    "error_train = scores['train_score']\n",
    "error_test = scores['test_score']\n",
    "print(f'train_score: mean = {np.round(error_train.mean(),3)}, std = {np.round(error_train.std(),3)}')\n",
    "print(f'validation_score: mean = {np.round(error_test.mean(),3)}, std = {np.round(error_test.std(),3)}')"
   ]
  },
  {
   "cell_type": "markdown",
   "metadata": {},
   "source": [
    "# Random Forest\n",
    "Let's try to reduce the overfitting problem, by using ensamble methods which try to reduce the variance of the estiamtes. First, we look at the cross validation score of a vanilla RF."
   ]
  },
  {
   "cell_type": "code",
   "execution_count": 35,
   "metadata": {},
   "outputs": [],
   "source": [
    "#Pipeline: preprocessing + Random Forest\n",
    "RF_pipeline = Pipeline([\n",
    "    ('preprocessing', full_pipeline),\n",
    "    ('clf', RandomForestClassifier(class_weight = 'balanced', random_state = 42))\n",
    "])"
   ]
  },
  {
   "cell_type": "markdown",
   "metadata": {},
   "source": [
    "### Tuning hyperparameters:\n",
    "- max_depth: maximum depth of the tree\n",
    "- min_saples_leaf: minimum number of data points allowed in a leaf node\n",
    "- min_samples_split: minimum number of samples required to split an internal node\n",
    "- max_leaf_nodes: it caps the number of leaf nodes and allows the branches of a tree to have varying depths.\n",
    "- min_impurity_decrease: it is used to supervise the threshold for splitting nodes: split will take place if it reduces the Gini Impurity. Useful when there is a big quantity of features in the dataset.\n",
    "- n_estimators: number of decision trees"
   ]
  },
  {
   "cell_type": "code",
   "execution_count": 48,
   "metadata": {},
   "outputs": [],
   "source": [
    "#Hyperparameters grid\n",
    "param_grid = {'clf__max_depth': np.arange(5,10), \n",
    "              'clf__min_samples_leaf': np.linspace(10,20,2).astype(int), \n",
    "              'clf__min_samples_split': np.linspace(0.4,1,3), \n",
    "              'clf__min_impurity_decrease': np.linspace(0,0.4,4), \n",
    "              'clf__max_leaf_nodes': np.linspace(10,20,2).astype(int),\n",
    "              'clf__n_estimators': [100,150]\n",
    "             }\n",
    "cv = RepeatedStratifiedKFold(n_splits=5, n_repeats=3, random_state=42)"
   ]
  },
  {
   "cell_type": "code",
   "execution_count": 49,
   "metadata": {},
   "outputs": [],
   "source": [
    "RF_RS = GridSearchCV(RF_pipeline, param_grid, cv=cv, scoring='f1',verbose = 1, n_jobs=-1)\n",
    "\n",
    "score = cross_validate(estimator=RF_RS, X=X_train, y=Y_train, cv=cv,scoring=\"f1\",\n",
    "                               n_jobs = -1,return_train_score = True,error_score=\"raise\")"
   ]
  },
  {
   "cell_type": "code",
   "execution_count": 50,
   "metadata": {},
   "outputs": [
    {
     "name": "stdout",
     "output_type": "stream",
     "text": [
      "train_score: mean = 0.561, std = 0.007\n",
      "validation_score: mean = 0.505, std = 0.03\n"
     ]
    }
   ],
   "source": [
    "error_train = score['train_score']\n",
    "error_test = score['test_score']\n",
    "print(f'train_score: mean = {np.round(error_train.mean(),3)}, std = {np.round(error_train.std(),3)}')\n",
    "print(f'validation_score: mean = {np.round(error_test.mean(),3)}, std = {np.round(error_test.std(),3)}')"
   ]
  },
  {
   "cell_type": "markdown",
   "metadata": {},
   "source": [
    "## Selecting some features before fitting the forest"
   ]
  },
  {
   "cell_type": "markdown",
   "metadata": {},
   "source": [
    "We test the random forest using different features selection methods:\n",
    "\n",
    "- SelectKBest is an univariate features selection method, which works by selecting the best features based on univariate statistical tests. In particular, it tests each feature against the outcome using Anova, and removing all but the k features having smallest p-value.\n",
    "\n",
    "- SelectFromModel finds the best features based on the coefficients obtained fitting the given estimator (in our case, the Elastic-net Logistic Regression which puts the weight of some features automatically to 0).\n",
    "\n",
    "- Recursive Feature Elimination uses the given estimator (Perceptron and Decision Tree in our case) to compute coefficients of the features, and recursively eliminates the one having smaller weight. The optimal number of features is selected in a CV loop."
   ]
  },
  {
   "cell_type": "code",
   "execution_count": 55,
   "metadata": {},
   "outputs": [],
   "source": [
    "#Pipeline: preprocessing + feature selection method + Random Forest\n",
    "RF_pipeline = Pipeline([\n",
    "    ('preprocessing', full_pipeline),\n",
    "    ('feature_selection', SelectFromModel(elasticnet_model)),\n",
    "    ('clf', RandomForestClassifier(class_weight = 'balanced', max_depth = 5, random_state = 42))\n",
    "])"
   ]
  },
  {
   "cell_type": "code",
   "execution_count": 56,
   "metadata": {},
   "outputs": [],
   "source": [
    "#Hyperparameters grid\n",
    "param_grid = {'clf__max_depth': np.arange(3,10), \n",
    "              'clf__min_samples_leaf': np.linspace(1,20,5).astype(int), \n",
    "              'clf__min_samples_split': np.linspace(0.4,1,5), \n",
    "              'clf__min_impurity_decrease': np.linspace(0,0.4,4), \n",
    "              'clf__max_leaf_nodes': np.linspace(10,20,3).astype(int),\n",
    "              'clf__n_estimators': [100,150]\n",
    "             }\n",
    "\n",
    "cv = RepeatedStratifiedKFold(n_splits=5, n_repeats=3, random_state=42)"
   ]
  },
  {
   "cell_type": "code",
   "execution_count": 58,
   "metadata": {},
   "outputs": [
    {
     "name": "stdout",
     "output_type": "stream",
     "text": [
      "------------------------------------------------------------------\n",
      "SelectKBest(k=60)\n",
      "------------------------------------------------------------------\n",
      "train_score: mean = 0.563, std = 0.008\n",
      "validation_score: mean = 0.501, std = 0.034\n",
      "------------------------------------------------------------------\n",
      "SelectFromModel(estimator=LogisticRegression(class_weight='balanced',\n",
      "                                             l1_ratio=0.5, max_iter=5000,\n",
      "                                             penalty='elasticnet',\n",
      "                                             random_state=42, solver='saga'))\n",
      "------------------------------------------------------------------\n",
      "train_score: mean = 0.566, std = 0.012\n",
      "validation_score: mean = 0.51, std = 0.029\n",
      "------------------------------------------------------------------\n",
      "RFECV(estimator=Perceptron(class_weight='balanced', random_state=42))\n",
      "------------------------------------------------------------------\n",
      "train_score: mean = 0.567, std = 0.015\n",
      "validation_score: mean = 0.508, std = 0.03\n",
      "------------------------------------------------------------------\n",
      "RFECV(estimator=DecisionTreeClassifier(class_weight='balanced', max_depth=5,\n",
      "                                       random_state=42))\n",
      "------------------------------------------------------------------\n",
      "train_score: mean = 0.555, std = 0.023\n",
      "validation_score: mean = 0.504, std = 0.042\n"
     ]
    }
   ],
   "source": [
    "#We cross-validate and compared the Random Forest classifier with different \n",
    "#features selection methods\n",
    "select = []\n",
    "select.append(SelectKBest(k=60))\n",
    "select.append(SelectFromModel(elasticnet_model))\n",
    "select.append(RFECV(estimator=Perceptron(random_state=42, class_weight='balanced')))\n",
    "select.append(RFECV(estimator=DecisionTreeClassifier(class_weight = 'balanced', max_depth=5, random_state=42)))\n",
    "\n",
    "for method in select:\n",
    "    RF_pipeline.set_params(feature_selection = method)\n",
    "    RF_RS = RandomizedSearchCV(RF_pipeline, param_grid, cv=cv, scoring='f1',n_iter=30,\n",
    "                         random_state=1, verbose = 1, n_jobs=-1)\n",
    "    \n",
    "    scores = cross_validate(estimator=RF_RS, X=X_train, y=Y_train, cv=cv,scoring=\"f1\",\n",
    "                               n_jobs = -1,return_train_score = True,error_score=\"raise\")\n",
    "\n",
    "    print('------------------------------------------------------------------')\n",
    "    print(str(method))\n",
    "    print('------------------------------------------------------------------')\n",
    "    error_train = scores['train_score']\n",
    "    error_test = scores['test_score']\n",
    "    print(f'train_score: mean = {np.round(error_train.mean(),3)}, std = {np.round(error_train.std(),3)}')\n",
    "    print(f'validation_score: mean = {np.round(error_test.mean(),3)}, std = {np.round(error_test.std(),3)}')"
   ]
  },
  {
   "cell_type": "markdown",
   "metadata": {},
   "source": [
    "# Extreme Gradient Boosting"
   ]
  },
  {
   "cell_type": "markdown",
   "metadata": {},
   "source": [
    "We tried also to implement an ensable method and we focused on Extreme Gradient Boost because is a more regularized form of Gradient Boosting which uses advanced regularization techniques to improve the model generalization capabilities."
   ]
  },
  {
   "cell_type": "code",
   "execution_count": 62,
   "metadata": {},
   "outputs": [],
   "source": [
    "#Pipeline: preprocessing + XGboost\n",
    "GB_pipeline = Pipeline([\n",
    "    ('preprocessing', full_pipeline),\n",
    "    ('clf',XGBClassifier(objective= 'binary:logistic',booster='gbtree',nthread=4,seed=42))\n",
    "])"
   ]
  },
  {
   "cell_type": "markdown",
   "metadata": {},
   "source": [
    "### Tuning hyperparameters:\n",
    "\n",
    "- gamma: minimum loss reduction required to make a further partition on a leaf node of the tree. The larger gamma is, the more conservative the algorithm will be.\n",
    "- colsample_bytree: subsample ratio of features when constructing each tree\n",
    "- learning_rate: step size shrinkage used in the update to prevent overfitting\n",
    "- max_depth: maximum depth of the tree\n",
    "- min_child_weight: minimum sum of instance weights needed in a child for a further partition\n",
    "- n_estimators: number of decision trees\n",
    "- scale_pos_weight: it controls the balance of positive and negative weights. Useful for unbalanced classes\n"
   ]
  },
  {
   "cell_type": "code",
   "execution_count": 63,
   "metadata": {},
   "outputs": [],
   "source": [
    "scale_pos = ( Y_train.shape[0]-Y_train.sum() ) / Y_train.sum()\n",
    "\n",
    "#Hyperparameters grid\n",
    "param_grid = {'clf__gamma': [1,3,5],\n",
    "              'clf__colsample_bytree': [0.6,0.65,0.75],\n",
    "              'clf__learning_rate': [0.03,0.05,0.08],\n",
    "              'clf__max_depth': [2,3,4],\n",
    "              'clf__min_child_weight': [1,5,10],\n",
    "              'clf__n_estimators': [100,150,200],\n",
    "              'clf__scale_pos_weight': [scale_pos]}\n",
    "\n",
    "cv = RepeatedStratifiedKFold(n_splits=5, n_repeats=3, random_state=42)\n",
    "\n",
    "RS_GB = RandomizedSearchCV(GB_pipeline, param_grid, cv=cv, scoring='f1',n_iter=30,\n",
    "                         random_state=1, verbose = 1, n_jobs=-1)"
   ]
  },
  {
   "cell_type": "code",
   "execution_count": 64,
   "metadata": {},
   "outputs": [
    {
     "name": "stdout",
     "output_type": "stream",
     "text": [
      "------------------------------------------------------------------\n",
      "XGBoost\n",
      "------------------------------------------------------------------\n",
      "train_score: mean = 0.728, std = 0.044\n",
      "validation_score: mean = 0.511, std = 0.034\n"
     ]
    }
   ],
   "source": [
    "scores = cross_validate(estimator=RS_GB, X=X_train, y=Y_train, cv=cv,scoring=\"f1\",\n",
    "                        n_jobs = -1,return_train_score = True)\n",
    "print('------------------------------------------------------------------')\n",
    "print(str(\"XGBoost\"))\n",
    "print('------------------------------------------------------------------')\n",
    "error_train = scores['train_score']\n",
    "error_test = scores['test_score']\n",
    "print(f'train_score: mean = {np.round(error_train.mean(),3)}, std = {np.round(error_train.std(),3)}')\n",
    "print(f'validation_score: mean = {np.round(error_test.mean(),3)}, std = {np.round(error_test.std(),3)}')"
   ]
  },
  {
   "cell_type": "markdown",
   "metadata": {},
   "source": [
    "# ElasticNet + SMOTE"
   ]
  },
  {
   "cell_type": "markdown",
   "metadata": {},
   "source": [
    "At the end a trial was also done using SMOTE: this method over-samples the minority class by adding some synthetic points with similar characteristics to a minority class point.\n",
    "Since the over-sampling should only be done during the training phase, it should be added to a Pipeline able to fit the transformation over the training set but not act on the test set in the transform step. For this, we introduced a new Pipeline from the imblearn library. Then, we repeated the same process of logistic regression."
   ]
  },
  {
   "cell_type": "code",
   "execution_count": 179,
   "metadata": {},
   "outputs": [],
   "source": [
    "elasticnet_model = LogisticRegression(penalty = 'elasticnet', solver = 'saga', \n",
    "                                 l1_ratio = 0.5, max_iter = 5000, random_state=42)\n",
    "\n",
    "#Imblearn pipeline: Smote + logistic regression\n",
    "LR12_pipeline_imb = Pipeline_imb([\n",
    "        ('smote', SMOTE(random_state=42)),\n",
    "        ('logistic', elasticnet_model)])\n",
    "\n",
    "#Pipeline: preprocessing + Imblearn pipeline:\n",
    "LR12_smote_pipeline = Pipeline([('preprocessing', full_pipeline),\n",
    "                                ('pip_smote', LR12_pipeline_imb)])"
   ]
  },
  {
   "cell_type": "code",
   "execution_count": 180,
   "metadata": {},
   "outputs": [
    {
     "name": "stdout",
     "output_type": "stream",
     "text": [
      "---------------------------------\n",
      "Logistic regression with Elasticnet penalty\n",
      "---------------------------------\n",
      "train_score: mean = 0.609, std = 0.01\n",
      "validation_score: mean = 0.545, std = 0.031\n"
     ]
    }
   ],
   "source": [
    "scores = cross_validate(LR12_smote_pipeline, X_train, Y_train, scoring = 'f1',\n",
    "                           return_train_score = True)\n",
    "print('---------------------------------')\n",
    "print(str('Logistic regression with Elasticnet penalty'))\n",
    "print('---------------------------------')\n",
    "error_train = scores['train_score']\n",
    "error_test = scores['test_score']\n",
    "print(f'train_score: mean = {np.round(error_train.mean(),3)}, std = {np.round(error_train.std(),3)}')\n",
    "print(f'validation_score: mean = {np.round(error_test.mean(),3)}, std = {np.round(error_test.std(),3)}')"
   ]
  },
  {
   "cell_type": "markdown",
   "metadata": {},
   "source": [
    "This procedure does not improve the performance of the model, rather it slightly deteriorates it. This may be due to the fact that ElasticNet class_weight = 'balanced' works already well with unbalanced dataset."
   ]
  },
  {
   "cell_type": "markdown",
   "metadata": {},
   "source": [
    "# Best Model: Logistic Regression with ElasticNet"
   ]
  },
  {
   "cell_type": "markdown",
   "metadata": {},
   "source": [
    "Looking at these results, the model having the best performance in terms of $F1$ is the Logistic Regression with Elastic-Net penalty. We fit this model on all training and test set to get an estimate of its predictive capabilities."
   ]
  },
  {
   "cell_type": "markdown",
   "metadata": {},
   "source": [
    "### Performance on test data"
   ]
  },
  {
   "cell_type": "code",
   "execution_count": 17,
   "metadata": {},
   "outputs": [
    {
     "name": "stdout",
     "output_type": "stream",
     "text": [
      "Training performances:\n",
      "AUC: 0.661, F1: 0.602\n",
      "Test performances:\n",
      "AUC: 0.607, F1: 0.539\n"
     ]
    }
   ],
   "source": [
    "GS_elasticnet.fit(X_train,Y_train)\n",
    "print('Training performances:')\n",
    "m1 = compute_metrics(Y_train, GS_elasticnet.predict(X_train))\n",
    "print('Test performances:')\n",
    "m2 = compute_metrics(Y_test, GS_elasticnet.predict(X_test))"
   ]
  },
  {
   "cell_type": "markdown",
   "metadata": {},
   "source": [
    "The AUC on the test set is not very high but this is already a little improvement w.r.t. the results of the literature. "
   ]
  },
  {
   "cell_type": "code",
   "execution_count": 18,
   "metadata": {},
   "outputs": [],
   "source": [
    "final_model = GS_elasticnet.best_estimator_.named_steps['logistic']\n",
    "feature_names = list(GS_elasticnet.best_estimator_.named_steps['preprocessing'][:-1].get_feature_names_out(input_features=X_train.columns))"
   ]
  },
  {
   "cell_type": "markdown",
   "metadata": {},
   "source": [
    "### Features importance "
   ]
  },
  {
   "cell_type": "markdown",
   "metadata": {},
   "source": [
    "To have an idea of the drivers in the prediction of the readmission within six months, we show the 15 highest coefficients in the Logistic Regression model. "
   ]
  },
  {
   "cell_type": "code",
   "execution_count": 20,
   "metadata": {},
   "outputs": [
    {
     "data": {
      "image/png": "[encoded data removed]",
      "text/plain": [
       "<Figure size 432x288 with 1 Axes>"
      ]
     },
     "metadata": {
      "needs_background": "light"
     },
     "output_type": "display_data"
    }
   ],
   "source": [
    "feature_importances = pow(math.e,final_model.coef_[0])\n",
    "\n",
    "importances = pd.Series(\n",
    "    feature_importances[:106], index=feature_names[:106]\n",
    ").sort_values(ascending=True)\n",
    "\n",
    "ax = importances[91:].plot.barh()\n",
    "ax.set_title(\"Logistic Regression Feature Importances\")\n",
    "ax.figure.tight_layout()"
   ]
  }
 ],
 "metadata": {
  "kernelspec": {
   "display_name": "Python 3",
   "language": "python",
   "name": "python3"
  },
  "language_info": {
   "codemirror_mode": {
    "name": "ipython",
    "version": 3
   },
   "file_extension": ".py",
   "mimetype": "text/x-python",
   "name": "python",
   "nbconvert_exporter": "python",
   "pygments_lexer": "ipython3",
   "version": "3.8.3"
  }
 },
 "nbformat": 4,
 "nbformat_minor": 5
}
